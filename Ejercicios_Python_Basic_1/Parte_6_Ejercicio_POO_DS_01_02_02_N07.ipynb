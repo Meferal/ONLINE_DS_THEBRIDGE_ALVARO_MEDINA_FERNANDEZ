{
  "cells": [
    {
      "cell_type": "markdown",
      "metadata": {
        "id": "vigJnuAMSU4x"
      },
      "source": [
        "![TheBridge_logo_RGB_color.jpg](attachment:TheBridge_logo_RGB_color.jpg)"
      ]
    },
    {
      "cell_type": "markdown",
      "metadata": {
        "id": "2xmnwM17SU4y"
      },
      "source": [
        "![ejercicios.png](attachment:ejercicios.png)"
      ]
    },
    {
      "cell_type": "markdown",
      "metadata": {
        "id": "liorA-1ZSU4y"
      },
      "source": [
        "# Ejercicios Clases y Objetos"
      ]
    },
    {
      "cell_type": "markdown",
      "metadata": {
        "id": "5xXUz5l9SU4z"
      },
      "source": [
        "## Ejercicio 1\n",
        "Somos una empresa que tiene varias tiendas de electrodomesticos. Necesitamos un programa para manejar las tiendas, ver las ventas que han tenido, cuántos empleados hay, etc... Para ello vamos a modelizar la tienda en una clase, que tendrá las siguientes características:\n",
        "* Nombre clase: \"Tienda\"\n",
        "* Atributos comunes:\n",
        "    * Tipo: \"Electrodomésticos\"\n",
        "    * Abierta: True\n",
        "* Atributos propios de cada tienda:\n",
        "    * Nombre - String\n",
        "    * Dirección - String\n",
        "    * Número de empleados - int\n",
        "    * Ventas ultimos 3 meses - Lista de 3 numeros\n",
        "* Método para calcular las ventas de todos los meses, que devuelva un numero con todas las ventas.\n",
        "* Método que calcula la media de ventas de los ultimos meses, por empleado\n",
        "* Método que devuelve en un string el nombre de la tienda, junto con su dirección.\n",
        "* Método que obtiene las ventas del último mes.\n",
        "* Método para dar una proyección de las ventas en caso de haber invertido X dinero en marketing en esa tienda. Siendo X el parámetro de entrada. Si X es menor de 1000, las ventas de los ultimos 3 meses hubiesen sido de (1.2 x ventas), si es mayor o igual de 1000, las ventas hubiesen sido de (1.5 x venta). El método reescribe el atributo de ventas en los últimos 3 meses, y además devuelve las ventas con el aumento.\n",
        "\n",
        "Se pide:\n",
        "1. Implementar la clase \"Tienda\"\n",
        "2. Crear tres tiendas con datos inventados\n",
        "3. Comprueba en al menos una de ellas, todo lo implementado en la clase tienda (sus atributos, media de ventas, ventas/empleado...)\n",
        "3. Calcular las ventas del último mes de todas las tiendas. Para ello usa el bucle `for`\n",
        "4. Imprime por pantalla los nombres de las tiendas cuya dirección lleve el string \"Avenida\"\n",
        "5. Seguro que ya has hecho este apartado... Documenta la clase :)"
      ]
    },
    {
      "cell_type": "code",
      "execution_count": null,
      "metadata": {
        "id": "5cLQcLxfSU4z"
      },
      "outputs": [],
      "source": [
        "class Tienda:\n",
        "    # Método constructor\n",
        "    def __init__(self, nombre, direccion, num_empleados, ventas_trimestre, tipo_tienda = \"Electrodomésticos\", abierta = True):\n",
        "        self.nombre = nombre # string\n",
        "        self.direccion = direccion # string\n",
        "        self.empleados = num_empleados # int\n",
        "        self.ventas_trimestre = ventas_trimestre # lista de 3 numeros\n",
        "        self.tipo_tienda = tipo_tienda\n",
        "        self.abierta = abierta\n",
        "    \n",
        "    # Método para calcular las ventas totales\n",
        "    def ventas(self):\n",
        "        suma = 0\n",
        "        for venta in self.ventas_trimestre:\n",
        "            suma += venta\n",
        "        return suma\n",
        "    \n",
        "    # Método para calcular la media de ventas por empleado\n",
        "    def media_ventas(self):\n",
        "        return self.ventas() / self.empleados\n",
        "    \n",
        "    # Método para obtener nombre y dirección de la tienda\n",
        "    def info_tienda(self):\n",
        "        return f\"Tienda: {self.nombre}, Dirección: {self.direccion}\"\n",
        "    \n",
        "    # Método para obtener las ventas del último mes\n",
        "    def ventas_ultimo_mes(self):\n",
        "        return self.ventas_trimestre[len(self.ventas_trimestre) - 1]\n",
        "\n",
        "    # Método para obtener una proyección de ventas\n",
        "    def proyeccion_ventas(self, inversion):\n",
        "        if inversion < 1000:\n",
        "            for index, valor in enumerate(self.ventas_trimestre):\n",
        "                self.ventas_trimestre[index] = valor * 1.2\n",
        "            return self.ventas_trimestre\n",
        "        else:\n",
        "            for index, valor in enumerate(self.ventas_trimestre):\n",
        "                self.ventas_trimestre[index] = valor * 1.5\n",
        "            return self.ventas_trimestre\n",
        "\n",
        "\n",
        "    \n",
        "\n",
        "\n"
      ]
    },
    {
      "cell_type": "code",
      "execution_count": 21,
      "metadata": {},
      "outputs": [
        {
          "name": "stdout",
          "output_type": "stream",
          "text": [
            "Electrodomesticos Hernández Avenida del Puerto, 202 4 [15, 7, 13] Electrodomésticos True\n",
            "35\n",
            "8.75\n",
            "Tienda: Electrodomesticos Hernández, Dirección: Avenida del Puerto, 202\n",
            "13\n",
            "[18.0, 8.4, 15.6]\n",
            "[27.0, 12.600000000000001, 23.4]\n",
            "23.4\n",
            "18\n",
            "185\n",
            "Electrodomesticos Hernández\n"
          ]
        }
      ],
      "source": [
        "tienda_1 = Tienda(\"Electrodomesticos Hernández\", \"Avenida del Puerto, 202\", 4, [15,7,13])\n",
        "tienda_2 = Tienda(\"ElecHome\", \"Calle 28 de Febrero, 7\", 2, [10,23,18])\n",
        "tienda_3 = Tienda(\"Mediamark\", \"Poligono n7, 145\", 80, [215,130,185],)\n",
        "\n",
        "\n",
        "print(tienda_1.nombre, tienda_1.direccion, tienda_1.empleados, tienda_1.ventas_trimestre, tienda_1.tipo_tienda, tienda_1.abierta)\n",
        "print(tienda_1.ventas())\n",
        "print(tienda_1.media_ventas())\n",
        "print(tienda_1.info_tienda())\n",
        "print(tienda_1.ventas_ultimo_mes())\n",
        "print(tienda_1.proyeccion_ventas(500))\n",
        "print(tienda_1.proyeccion_ventas(1500))\n",
        "\n",
        "\n",
        "for tienda in (tienda_1, tienda_2, tienda_3):\n",
        "    print(tienda.ventas_ultimo_mes())\n",
        "\n",
        "\n",
        "for tienda in (tienda_1, tienda_2, tienda_3):\n",
        "    if \"Avenida\" in tienda.direccion:\n",
        "        print(tienda.nombre)"
      ]
    },
    {
      "cell_type": "markdown",
      "metadata": {
        "id": "WEBq7EpsSU40"
      },
      "source": [
        "## Ejercicio 2\n",
        "En este ejercicio vamos a implementar una clase *Perro* en Python. La clase tiene las siguientes características:\n",
        "* Cosas que sabemos seguro que tiene un perro\n",
        "    * Tiene 4 patas\n",
        "    * 2 orejas\n",
        "    * 2 ojos\n",
        "    * Una velocidad de 0. Por defecto, el perro está parado\n",
        "* Cuando se inicialice:\n",
        "    * El perro será de una determinada raza\n",
        "    * Por defecto tendrá pelo \"Marrón\", a no ser que se diga lo contrario.\n",
        "    * Por defecto no tendrá dueño, a no ser que se diga lo contrario.\n",
        "    \n",
        "* Dispondrá también de un método llamado andar, que tiene un argumento de entrada (aumento_velocidad). Este valor se le sumará a la velocidad que ya llevaba el perro.\n",
        "* Necesita otro método (parar), donde pondremos la velocidad a 0.\n",
        "* Otro método llamado \"ladrar\", que tendrá un argumento de entrada, y la salida será el siguiente string: \"GUAU!\" + el argumento de entrada.\n",
        "\n",
        "\n",
        "Se pide:\n",
        "* Implementa la clase *Perro*\n",
        "* Crea un objeto de tipo *Perro*, sin dueño\n",
        "* Comprueba que están bien todos sus atributos\n",
        "* Prueba que ande, y comprueba su velocidad\n",
        "* Páralo\n",
        "* Documenta la clase *Perro*"
      ]
    },
    {
      "cell_type": "code",
      "execution_count": 32,
      "metadata": {
        "id": "DpEWvbwGSU40"
      },
      "outputs": [],
      "source": [
        "class Perro():\n",
        "    # Atributos fijos\n",
        "    patas = 4\n",
        "    orejas = 2\n",
        "    ojos = 2\n",
        "\n",
        "    # Método contructor\n",
        "    def __init__(self, raza, color = \"Marrón\", dueño = None):\n",
        "        self.raza = raza\n",
        "        self.color = color\n",
        "        self.dueño = dueño\n",
        "        self.velocidad = 0\n",
        "    \n",
        "    # Método para dotar de movimiento al perro\n",
        "    def andar(self, aumento_velocidad):\n",
        "        self.velocidad += aumento_velocidad\n",
        "        return f\"El perro va a {self.velocidad} km/h\"\n",
        "    \n",
        "    # Método para parar al perro\n",
        "    def parar(self):\n",
        "        self.velocidad = 0\n",
        "        return \"El perro se ha parado\"\n",
        "    \n",
        "    # Método para que el perro ladre\n",
        "    def ladrar(self, entrada):\n",
        "        return \"GUAU!, \" + entrada\n"
      ]
    },
    {
      "cell_type": "code",
      "execution_count": 33,
      "metadata": {},
      "outputs": [
        {
          "name": "stdout",
          "output_type": "stream",
          "text": [
            "Perro de Agua Marrón None 0 4 2 2\n",
            "El perro va a 10 km/h\n",
            "El perro va a 15 km/h\n",
            "El perro se ha parado\n",
            "GUAU!, Dame de comer\n"
          ]
        }
      ],
      "source": [
        "Lana = Perro(\"Perro de Agua\")\n",
        "\n",
        "print(Lana.raza, Lana.color, Lana.dueño, Lana.velocidad, Lana.patas, Lana.orejas, Lana.ojos)\n",
        "\n",
        "print(Lana.andar(10))\n",
        "print(Lana.andar(5))\n",
        "\n",
        "print(Lana.parar())\n",
        "\n",
        "print(Lana.ladrar(\"Dame de comer\"))\n"
      ]
    }
  ],
  "metadata": {
    "colab": {
      "provenance": []
    },
    "kernelspec": {
      "display_name": "Python 3",
      "language": "python",
      "name": "python3"
    },
    "language_info": {
      "codemirror_mode": {
        "name": "ipython",
        "version": 3
      },
      "file_extension": ".py",
      "mimetype": "text/x-python",
      "name": "python",
      "nbconvert_exporter": "python",
      "pygments_lexer": "ipython3",
      "version": "3.10.11"
    }
  },
  "nbformat": 4,
  "nbformat_minor": 0
}
