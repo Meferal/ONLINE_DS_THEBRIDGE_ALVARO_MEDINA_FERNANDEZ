{
 "cells": [
  {
   "cell_type": "markdown",
   "metadata": {
    "id": "GB2K42EgK9q5"
   },
   "source": [
    "![TheBridge_logo_RGB_color.jpg](attachment:TheBridge_logo_RGB_color.jpg)"
   ]
  },
  {
   "cell_type": "markdown",
   "metadata": {
    "id": "GnwVlO37K9q6"
   },
   "source": [
    "![imagen](./img/ejercicios.png)"
   ]
  },
  {
   "cell_type": "markdown",
   "metadata": {
    "id": "_9pTa0PXK9q6"
   },
   "source": [
    "## EJERCICIOS PYTHON BASICO 2:\n",
    "## Tipos y conversión de tipos"
   ]
  },
  {
   "cell_type": "markdown",
   "metadata": {
    "id": "tYmV-veoK9q6"
   },
   "source": [
    "Completa los siguiente ejercicios, la solución a los mismos se publicarán en el repo del curso a lo largo del sprint"
   ]
  },
  {
   "cell_type": "markdown",
   "metadata": {
    "id": "YAdFbIOXK9q7"
   },
   "source": [
    "![ejercicio.png](./img/ejercicio.png)\n",
    "\n",
    "## Ejercicio 1\n",
    "\n",
    "1. Crea dos variables numericas: un `int` y un `float`\n",
    "2. Comprueba sus tipos\n",
    "3. Sumalas en otra nueva\n",
    "4. ¿De qué tipo es la nueva variable?\n",
    "5. Elimina las dos primeras variables creadas"
   ]
  },
  {
   "cell_type": "code",
   "execution_count": 1,
   "metadata": {
    "colab": {
     "base_uri": "https://localhost:8080/"
    },
    "id": "8QZmuLOsK9q7",
    "outputId": "210dd33d-bbed-4122-bca2-73984fa35a5a"
   },
   "outputs": [
    {
     "name": "stdout",
     "output_type": "stream",
     "text": [
      "<class 'int'>\n",
      "<class 'float'>\n",
      "<class 'float'>\n"
     ]
    }
   ],
   "source": [
    "# 1\n",
    "num_int = 20\n",
    "num_float = 22.367\n",
    "\n",
    "# 2\n",
    "print(type(num_int))\n",
    "print(type(num_float))\n",
    "\n",
    "# 3\n",
    "suma = num_int + num_float\n",
    "\n",
    "# 4\n",
    "print(type(suma))\n",
    "\n",
    "# 5\n",
    "del num_int\n",
    "del num_float"
   ]
  },
  {
   "cell_type": "markdown",
   "metadata": {
    "id": "f5xfpkpQK9q7"
   },
   "source": [
    "![ejercicio.png](./img/ejercicio.png)\n",
    "\n",
    "## Ejercicio 2\n",
    "Escribe un programa para pasar de grados a radianes. Hay que usar `input`. Recuerda que la conversión se realiza mediante\n",
    "\n",
    "radianes = grados*(pi/180)"
   ]
  },
  {
   "cell_type": "code",
   "execution_count": 6,
   "metadata": {
    "colab": {
     "base_uri": "https://localhost:8080/"
    },
    "id": "V50TUQMzK9q7",
    "outputId": "46c37574-9378-47f8-dd89-6c892e63e293"
   },
   "outputs": [
    {
     "name": "stdout",
     "output_type": "stream",
     "text": [
      "Introduce el ángulo en grados: 200\n",
      "200 grados son 3.49 radianes\n"
     ]
    }
   ],
   "source": [
    "import math\n",
    "\n",
    "grados = input(\"Introduce el ángulo en grados: \")\n",
    "radianes = float(grados)*(math.pi/180)\n",
    "print(f\"{grados} grados son {round(radianes, 2)} radianes\")"
   ]
  },
  {
   "cell_type": "markdown",
   "metadata": {
    "id": "zX3-p58CK9q7"
   },
   "source": [
    "![ejercicio.png](./img/ejercicio.png)\n",
    "\n",
    "## Ejercicio 3\n",
    "Escribe un programa que calcule el area de un paralelogramo (base x altura). También con `input`"
   ]
  },
  {
   "cell_type": "code",
   "execution_count": 9,
   "metadata": {
    "colab": {
     "base_uri": "https://localhost:8080/"
    },
    "id": "s2QfNiBAK9q7",
    "outputId": "d478edd1-7b40-4d07-eb9c-e60746542617"
   },
   "outputs": [
    {
     "name": "stdout",
     "output_type": "stream",
     "text": [
      "Introduce la base del paralelogramo: 20\n",
      "Introduce la altura del paralelogramo: 10\n",
      "El área del paralelogramo es 200.0\n"
     ]
    }
   ],
   "source": [
    "base = input(\"Introduce la base del paralelogramo: \")\n",
    "altura = input(\"Introduce la altura del paralelogramo: \")\n",
    "area = float(base) * float(altura)\n",
    "print(f\"El área del paralelogramo es {area}\")"
   ]
  },
  {
   "cell_type": "markdown",
   "metadata": {
    "id": "-6TBo_HvK9q8"
   },
   "source": [
    "![ejercicio.png](./img/ejercicio.png)\n",
    "\n",
    "## Ejercicio 4\n",
    "Escribe un programa que calcule el area de un paralelogramo (base x altura). También con `input`. En este caso debe ser capaz de admitir valores reales, con decimales, para base y altura en español. (PISTA: Recuerda que tendrás que hacer uso del método replace)"
   ]
  },
  {
   "cell_type": "code",
   "execution_count": 10,
   "metadata": {
    "colab": {
     "base_uri": "https://localhost:8080/"
    },
    "id": "uzUIa1JqK9q8",
    "outputId": "b99ed571-39dd-4ed6-8d0e-1c47149d0c5c"
   },
   "outputs": [
    {
     "name": "stdout",
     "output_type": "stream",
     "text": [
      "Introduce la base del paralelogramo: 20.65\n",
      "Introduce la altura del paralelogramo: 15,4\n",
      "El área del paralelogramo es 318.01\n"
     ]
    }
   ],
   "source": [
    "base = input(\"Introduce la base del paralelogramo: \").replace(',', '.')\n",
    "altura = input(\"Introduce la altura del paralelogramo: \").replace(',', '.')\n",
    "area = float(base) * float(altura)\n",
    "print(f\"El área del paralelogramo es {area}\")"
   ]
  },
  {
   "cell_type": "markdown",
   "metadata": {
    "id": "5zKugi5iK9q8"
   },
   "source": [
    "![ejercicio.png](./img/ejercicio.png)\n",
    "\n",
    "## Ejercicio 5\n",
    "Complete el siguiente código para solicitar al usuario su nombre y su edad. Luego, calcule en qué año nació el usuario y muestre el resultado."
   ]
  },
  {
   "cell_type": "code",
   "execution_count": 13,
   "metadata": {
    "colab": {
     "base_uri": "https://localhost:8080/"
    },
    "id": "LISfTnRkK9q8",
    "outputId": "20cc4466-ae27-484d-b87d-b6a10cdf276c"
   },
   "outputs": [
    {
     "name": "stdout",
     "output_type": "stream",
     "text": [
      "¿Cuál es tu nombre? Álvaro\n",
      "¿Cuál es tu edad? 31\n",
      "Álvaro, naciste en el año 1994.0.\n"
     ]
    }
   ],
   "source": [
    "nombre = input(\"¿Cuál es tu nombre? \")\n",
    "edad = float(input(\"¿Cuál es tu edad? \"))\n",
    "año_actual = 2025  # Puedes cambiarlo según el año en curso\n",
    "año_nacimiento = año_actual - edad\n",
    "\n",
    "print(f\"{nombre}, naciste en el año {año_nacimiento}.\")\n"
   ]
  },
  {
   "cell_type": "markdown",
   "metadata": {},
   "source": [
    "Tendría que tener en cuenta más que el año, ya que sino falla el año en que naciste de no haber sido tu cumpleaños aún ese año"
   ]
  }
 ],
 "metadata": {
  "colab": {
   "provenance": []
  },
  "kernelspec": {
   "display_name": "Python 3 (ipykernel)",
   "language": "python",
   "name": "python3"
  },
  "language_info": {
   "codemirror_mode": {
    "name": "ipython",
    "version": 3
   },
   "file_extension": ".py",
   "mimetype": "text/x-python",
   "name": "python",
   "nbconvert_exporter": "python",
   "pygments_lexer": "ipython3",
   "version": "3.10.11"
  }
 },
 "nbformat": 4,
 "nbformat_minor": 4
}
