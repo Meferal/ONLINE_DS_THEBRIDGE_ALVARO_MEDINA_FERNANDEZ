{
  "cells": [
    {
      "cell_type": "markdown",
      "metadata": {
        "id": "9l3HMgm6RWxF"
      },
      "source": [
        "![TheBridge_logo_RGB_color.jpg](attachment:TheBridge_logo_RGB_color.jpg)"
      ]
    },
    {
      "cell_type": "markdown",
      "metadata": {
        "id": "RGg9iWpoRWxG"
      },
      "source": [
        "![ejercicios.png](attachment:ejercicios.png)"
      ]
    },
    {
      "cell_type": "markdown",
      "metadata": {
        "id": "AyOlWS2nRWxH"
      },
      "source": [
        "## PRACTICA OBLIGATORIA: COLECCIONES Y FUNCIONES"
      ]
    },
    {
      "cell_type": "markdown",
      "metadata": {
        "id": "6UOgb0KVRWxH"
      },
      "source": [
        "* La práctica obligatoria de esta unidad consiste varios ejercicios de programación libre a completar sobre Colecciones y Funciones. Descarga este notebook en tu ordenador y trabaja en local.  \n",
        "* Recuerda que debes subirla a tu repositorio personal antes de la sesión en vivo para que puntúe adecuadamente y puedas participar en dicha sesión.  \n",
        "* Recuerda también que no es necesario que esté perfecta, sólo es necesario que se vea el esfuerzo.\n",
        "* Esta práctica se resolverá en la sesión en vivo correspondiente y la solución se publicará en el repo del curso."
      ]
    },
    {
      "cell_type": "markdown",
      "metadata": {
        "id": "j3yu-tEjRWxH"
      },
      "source": [
        "### Contenidos"
      ]
    },
    {
      "cell_type": "markdown",
      "metadata": {
        "id": "kO-fLH39RWxH"
      },
      "source": [
        "## Ejercicio 1\n",
        "Eleva todos los elementos de la lista al cuadrado\n",
        "> ```ejer_2 = [1,2,3,4,5]```"
      ]
    },
    {
      "cell_type": "code",
      "execution_count": 68,
      "metadata": {
        "colab": {
          "base_uri": "https://localhost:8080/"
        },
        "id": "ks5l3yi7RWxH",
        "outputId": "6bfa73b4-6b1c-41cc-85f2-b51e462ead5b"
      },
      "outputs": [
        {
          "name": "stdout",
          "output_type": "stream",
          "text": [
            "[1, 2, 3, 4, 5]\n",
            "[1, 4, 9, 16, 25]\n"
          ]
        }
      ],
      "source": [
        "ejer_1 = [1,2,3,4,5]\n",
        "ejer_1_sol = []\n",
        "for i in ejer_1:\n",
        "    ejer_1_sol.append(i**2)\n",
        "print(ejer_1)\n",
        "print(ejer_1_sol)"
      ]
    },
    {
      "cell_type": "markdown",
      "metadata": {
        "id": "kI_Xr5oFRWxI"
      },
      "source": [
        "## Ejercicio 2\n",
        "Haz un programa que detecte todos los duplicados de un elemento en una lista:\n",
        "* Utiliza una variable duplicado para asignarle el valor del elemento del que queremos encontrar todos sus duplicados.\n",
        "* El programa debe devolver todos los índices de los elementos duplicados.\n",
        "* Aplícalo para encontrar los duplicados de \"un\", \"es\" y \"binario\" de:  \n",
        "\n",
        ">```ejer_3 = [\"Un\", \"árbol\", \"binario\", \"es\", \"una\", \"estructura\", \"de\", \"un\", \"tipo\", \"particular\", \"a\", \"veces\", \"no\", \"es\", \"ni\", \"binario\"]```\n"
      ]
    },
    {
      "cell_type": "code",
      "execution_count": 69,
      "metadata": {
        "colab": {
          "base_uri": "https://localhost:8080/"
        },
        "id": "cLY9WB7YRWxI",
        "outputId": "9653a3d3-a38b-416f-b4ea-b22432b9ea8b"
      },
      "outputs": [
        {
          "name": "stdout",
          "output_type": "stream",
          "text": [
            "'un' aparece 1 veces\n",
            "El índice de 'un' en la lista es 7\n",
            "'es' aparece 2 veces\n",
            "El índice de 'es' en la lista es 3\n",
            "El índice de 'es' en la lista es 13\n",
            "'binario' aparece 2 veces\n",
            "El índice de 'binario' en la lista es 2\n",
            "El índice de 'binario' en la lista es 15\n"
          ]
        }
      ],
      "source": [
        "ejer_2 = [\"Un\", \"árbol\", \"binario\", \"es\", \"una\", \"estructura\", \"de\", \"un\", \"tipo\", \"particular\", \"a\", \"veces\", \"no\", \"es\", \"ni\", \"binario\"]\n",
        "\n",
        "duplicado = [\"un\", \"es\", \"binario\"]\n",
        "for elemento in duplicado:\n",
        "  print(f\"'{elemento}' aparece {ejer_2.count(elemento)} veces\")\n",
        "\n",
        "  for i in range(len(ejer_2)):\n",
        "    if elemento == ejer_2[i]:\n",
        "      print(f\"El índice de '{elemento}' en la lista es {i}\")\n",
        "\n"
      ]
    },
    {
      "cell_type": "markdown",
      "metadata": {
        "id": "3WrBd5QaRWxI"
      },
      "source": [
        "## Ejercicio 3\n",
        "1. ¿Cuántas veces se repite el 3 en la siguiente tupla?\n",
        "2. Crea una tupla nueva con los elementos desde la posicion 5 a la 10.\n",
        "3. ¿Cuántos elementos tiene la tupla `ejer_3`?\n",
        "> ```ejer_9 = (3, 20, 3, 47, 19, 3, 29, 45, 67, 78, 90, 3, 3, 5, 2, 4, 7, 9, 4, 2, 4, 3, 3, 4, 6, 7)```"
      ]
    },
    {
      "cell_type": "code",
      "execution_count": 70,
      "metadata": {
        "colab": {
          "base_uri": "https://localhost:8080/"
        },
        "id": "bkv_R5LYRWxI",
        "outputId": "4a5877e4-6b8b-463c-8b94-f855f8608be9"
      },
      "outputs": [
        {
          "name": "stdout",
          "output_type": "stream",
          "text": [
            "El numero 3 se repite 7\n",
            "(3, 29, 45, 67, 78)\n",
            "La tupla ejer_3 tiene 26 elementos\n"
          ]
        }
      ],
      "source": [
        "ejer_3 = (3, 20, 3, 47, 19, 3, 29, 45, 67, 78, 90, 3, 3, 5, 2, 4, 7, 9, 4, 2, 4, 3, 3, 4, 6, 7)\n",
        "\n",
        "print(f\"El numero 3 se repite {ejer_3.count(3)}\")\n",
        "\n",
        "ejer_3_sol2 = ejer_3[5:10]\n",
        "print(ejer_3_sol2)\n",
        "\n",
        "print(f\"La tupla ejer_3 tiene {len(ejer_3)} elementos\")"
      ]
    },
    {
      "cell_type": "markdown",
      "metadata": {
        "id": "6g8Y54AeRWxI"
      },
      "source": [
        "## Ejercicio 4\n",
        "Comprueba si el numero 60 esta en la tupla del ejercicio 3"
      ]
    },
    {
      "cell_type": "code",
      "execution_count": 71,
      "metadata": {
        "id": "F8VTEZonRWxI"
      },
      "outputs": [
        {
          "name": "stdout",
          "output_type": "stream",
          "text": [
            "El número 60 aparece 0 veces\n"
          ]
        }
      ],
      "source": [
        "print(f\"El número 60 aparece {ejer_3.count(60)} veces\")"
      ]
    },
    {
      "cell_type": "markdown",
      "metadata": {
        "id": "y0fg-ZA6RWxI"
      },
      "source": [
        "## Ejercicio 5\n",
        "1. Convierte la tupla del ejercicio 3 en una lista\n",
        "2. Convierte la tupla del ejercicio 3 en un set\n",
        "3. Convierte la tupla del ejercicio 3 en un diccionario. Usa también los indices"
      ]
    },
    {
      "cell_type": "code",
      "execution_count": 72,
      "metadata": {
        "id": "_O5hXr01RWxI"
      },
      "outputs": [
        {
          "name": "stdout",
          "output_type": "stream",
          "text": [
            "[3, 20, 3, 47, 19, 3, 29, 45, 67, 78, 90, 3, 3, 5, 2, 4, 7, 9, 4, 2, 4, 3, 3, 4, 6, 7]\n",
            "<class 'list'>\n",
            "{2, 3, 67, 5, 4, 7, 6, 9, 45, 78, 47, 19, 20, 90, 29}\n",
            "<class 'set'>\n",
            "{0: 3, 1: 20, 2: 3, 3: 47, 4: 19, 5: 3, 6: 29, 7: 45, 8: 67, 9: 78, 10: 90, 11: 3, 12: 3, 13: 5, 14: 2, 15: 4, 16: 7, 17: 9, 18: 4, 19: 2, 20: 4, 21: 3, 22: 3, 23: 4, 24: 6, 25: 7}\n",
            "<class 'dict'>\n"
          ]
        }
      ],
      "source": [
        "ejer_5_list = list(ejer_3)\n",
        "print(ejer_5_list)\n",
        "print(type(ejer_5_list))\n",
        "\n",
        "ejer_5_set = set(ejer_3)\n",
        "print(ejer_5_set)\n",
        "print(type(ejer_5_set))\n",
        "\n",
        "ejer_5_dict = dict(enumerate(ejer_3))\n",
        "print(ejer_5_dict)\n",
        "print(type(ejer_5_dict))\n"
      ]
    },
    {
      "cell_type": "markdown",
      "metadata": {
        "id": "eOdWWbxvRWxJ"
      },
      "source": [
        "## Ejercicio 6\n",
        "Multiplica todos los valores del diccionario\n",
        "> ```ejer_6 = {1: 11, 2: 22, 3: 33, 4: 44, 5: 55}```"
      ]
    },
    {
      "cell_type": "code",
      "execution_count": 73,
      "metadata": {
        "id": "KcuByovKRWxJ"
      },
      "outputs": [
        {
          "name": "stdout",
          "output_type": "stream",
          "text": [
            "19326120\n"
          ]
        }
      ],
      "source": [
        "ejer_6 = {1: 11, 2: 22, 3: 33, 4: 44, 5: 55}\n",
        "multiplicacion = 1\n",
        "\n",
        "for valor in ejer_6.values():\n",
        "    multiplicacion = multiplicacion * valor\n",
        "print(multiplicacion)\n",
        "\n",
        "\n"
      ]
    },
    {
      "cell_type": "markdown",
      "metadata": {
        "id": "W7TUSaKRRWxJ"
      },
      "source": [
        "## Ejercicio 7\n",
        "\n",
        "1. Crea un diccionario que describa un libro, con los siguientes campos o claves: \"titulo\",\"autor\",\"idioma original\",\"año de publicación\".\n",
        "2. Crea un a lista, llamada librería.\n",
        "3. Añade cuatro libros a tu elección a la librería."
      ]
    },
    {
      "cell_type": "code",
      "execution_count": 74,
      "metadata": {
        "id": "d-IMRvxRRWxJ"
      },
      "outputs": [
        {
          "name": "stdout",
          "output_type": "stream",
          "text": [
            "[{'titulo': 'El camino de las sombras', 'autor': 'Brent Weeks', 'idioma_original': 'Inglés', 'año_publicacion': 2008}, {'titulo': 'Al filo de las sombras', 'autor': 'Brent Weeks', 'idioma_original': 'Inglés', 'año_publicacion': 2008}, {'titulo': 'Más allá de las sombras', 'autor': 'Brent Weeks', 'idioma_original': 'Inglés', 'año_publicacion': 2008}, {'titulo': 'Sombra perfecta', 'autor': 'Brent Weeks', 'idioma_original': 'Inglés', 'año_publicacion': 2011}]\n"
          ]
        }
      ],
      "source": [
        "libro_1 = {\"titulo\" : \"El camino de las sombras\", \"autor\" : \"Brent Weeks\", \"idioma_original\" : \"Inglés\", \"año_publicacion\" : 2008}\n",
        "libro_2 = {\"titulo\" : \"Al filo de las sombras\", \"autor\" : \"Brent Weeks\", \"idioma_original\" : \"Inglés\", \"año_publicacion\" : 2008}\n",
        "libro_3 = {\"titulo\" : \"Más allá de las sombras\", \"autor\" : \"Brent Weeks\", \"idioma_original\" : \"Inglés\", \"año_publicacion\" : 2008}\n",
        "libro_4 = {\"titulo\" : \"Sombra perfecta\", \"autor\" : \"Brent Weeks\", \"idioma_original\" : \"Inglés\", \"año_publicacion\" : 2011}\n",
        "\n",
        "libreria = []\n",
        "libreria.append(libro_1)\n",
        "libreria.append(libro_2)\n",
        "libreria.append(libro_3)\n",
        "libreria.append(libro_4)\n",
        "\n",
        "print(libreria)\n"
      ]
    },
    {
      "cell_type": "markdown",
      "metadata": {
        "id": "glMoedjYRWxJ"
      },
      "source": [
        "## Ejercicio 8\n",
        "Modifica los valores del idioma de todos los libros del ejercicio anterior para que sea \"esperanto\"\n"
      ]
    },
    {
      "cell_type": "code",
      "execution_count": 75,
      "metadata": {
        "id": "veNdC-uwRWxJ"
      },
      "outputs": [
        {
          "name": "stdout",
          "output_type": "stream",
          "text": [
            "[{'titulo': 'El camino de las sombras', 'autor': 'Brent Weeks', 'idioma_original': 'Esperanto', 'año_publicacion': 2008}, {'titulo': 'Al filo de las sombras', 'autor': 'Brent Weeks', 'idioma_original': 'Esperanto', 'año_publicacion': 2008}, {'titulo': 'Más allá de las sombras', 'autor': 'Brent Weeks', 'idioma_original': 'Esperanto', 'año_publicacion': 2008}, {'titulo': 'Sombra perfecta', 'autor': 'Brent Weeks', 'idioma_original': 'Esperanto', 'año_publicacion': 2011}]\n"
          ]
        }
      ],
      "source": [
        "for libro in libreria:\n",
        "    libro.update({\"idioma_original\" : \"Esperanto\"})\n",
        "\n",
        "print(libreria)"
      ]
    },
    {
      "cell_type": "markdown",
      "metadata": {
        "id": "DRCJG04KRWxJ"
      },
      "source": [
        "## Ejercicio 9\n",
        "1. Escribe un programa que dada una variable titulo busque los libros que hay en la librería con ese título. Si no se encuentra debe devolver el mensaje `Ese no lo tengo, ¿mola?`\n",
        "2. Pruena que el programa con uno de tus libros y con otro que no contenga tu librería."
      ]
    },
    {
      "cell_type": "code",
      "execution_count": 76,
      "metadata": {
        "id": "eWHdJi9BRWxJ"
      },
      "outputs": [
        {
          "name": "stdout",
          "output_type": "stream",
          "text": [
            "[{'titulo': 'El camino de las sombras', 'autor': 'Brent Weeks', 'idioma_original': 'Esperanto', 'año_publicacion': 2008}, {'titulo': 'Al filo de las sombras', 'autor': 'Brent Weeks', 'idioma_original': 'Esperanto', 'año_publicacion': 2008}, {'titulo': 'Más allá de las sombras', 'autor': 'Brent Weeks', 'idioma_original': 'Esperanto', 'año_publicacion': 2008}, {'titulo': 'Sombra perfecta', 'autor': 'Brent Weeks', 'idioma_original': 'Esperanto', 'año_publicacion': 2011}]\n",
            "Ese ya lo tengo\n",
            "Ese no lo tengo, ¿mola?\n",
            "Ese no lo tengo, ¿mola?\n",
            "Ese no lo tengo, ¿mola?\n",
            "Ese no lo tengo, ¿mola?\n",
            "Ese no lo tengo, ¿mola?\n",
            "Ese no lo tengo, ¿mola?\n",
            "Ese no lo tengo, ¿mola?\n"
          ]
        }
      ],
      "source": [
        "def poseidos(titulo, libreria):\n",
        "    for libro in libreria:\n",
        "        if titulo in libro.values():\n",
        "            #return True\n",
        "            print(\"Ese ya lo tengo\")\n",
        "        else:\n",
        "            #return False\n",
        "            print(\"Ese no lo tengo, ¿mola?\")\n",
        "\n",
        "\n",
        "print(libreria)\n",
        "poseidos(\"El camino de las sombras\", libreria)\n",
        "poseidos(\"El regreso de los seres oscuros\", libreria)"
      ]
    },
    {
      "cell_type": "code",
      "execution_count": 77,
      "metadata": {},
      "outputs": [
        {
          "name": "stdout",
          "output_type": "stream",
          "text": [
            "[{'titulo': 'El camino de las sombras', 'autor': 'Brent Weeks', 'idioma_original': 'Esperanto', 'año_publicacion': 2008}, {'titulo': 'Al filo de las sombras', 'autor': 'Brent Weeks', 'idioma_original': 'Esperanto', 'año_publicacion': 2008}, {'titulo': 'Más allá de las sombras', 'autor': 'Brent Weeks', 'idioma_original': 'Esperanto', 'año_publicacion': 2008}, {'titulo': 'Sombra perfecta', 'autor': 'Brent Weeks', 'idioma_original': 'Esperanto', 'año_publicacion': 2011}]\n",
            "Ese ya lo tengo\n",
            "Ese no lo tengo, ¿mola?\n"
          ]
        }
      ],
      "source": [
        "def poseidos(titulo, libreria):\n",
        "    for libro in libreria:\n",
        "        if titulo in libro.values():\n",
        "            cont = True\n",
        "            break\n",
        "        else:\n",
        "            cont = False\n",
        "    if cont:\n",
        "        print(\"Ese ya lo tengo\")\n",
        "    else:\n",
        "        print(\"Ese no lo tengo, ¿mola?\")\n",
        "\n",
        "print(libreria)\n",
        "poseidos(\"El camino de las sombras\", libreria)\n",
        "poseidos(\"El regreso de los seres oscuros\", libreria)"
      ]
    },
    {
      "cell_type": "markdown",
      "metadata": {
        "id": "17YOpYuFRWxJ"
      },
      "source": [
        "## Ejercicio 10\n",
        "Convierte el programa del ejercicio 2 en una función al que se le pase el valor a buscar como un argumento posicional"
      ]
    },
    {
      "cell_type": "code",
      "execution_count": 78,
      "metadata": {
        "id": "xbj0LgvnRWxJ"
      },
      "outputs": [
        {
          "name": "stdout",
          "output_type": "stream",
          "text": [
            "El índice de 'binario' en la lista es 2\n",
            "El índice de 'binario' en la lista es 15\n"
          ]
        }
      ],
      "source": [
        "def posicion(elemento, lista):\n",
        "  for i in range(len(lista)):\n",
        "    if elemento == lista[i]:\n",
        "      print(f\"El índice de '{elemento}' en la lista es {i}\")\n",
        "\n",
        "\n",
        "posicion(\"binario\", ejer_2)"
      ]
    },
    {
      "cell_type": "markdown",
      "metadata": {
        "id": "xZ-sWJxPRWxJ"
      },
      "source": [
        "## Ejercicio 11\n",
        "Convierte el programa del ejercicio 9 en una función al que se le pasen como argumentos la librería, posicional, y el título, argumento keyword con valor \"ninguno\", por defecto."
      ]
    },
    {
      "cell_type": "code",
      "execution_count": 79,
      "metadata": {
        "id": "4-JrsMdNRWxK"
      },
      "outputs": [
        {
          "name": "stdout",
          "output_type": "stream",
          "text": [
            "[{'titulo': 'El camino de las sombras', 'autor': 'Brent Weeks', 'idioma_original': 'Esperanto', 'año_publicacion': 2008}, {'titulo': 'Al filo de las sombras', 'autor': 'Brent Weeks', 'idioma_original': 'Esperanto', 'año_publicacion': 2008}, {'titulo': 'Más allá de las sombras', 'autor': 'Brent Weeks', 'idioma_original': 'Esperanto', 'año_publicacion': 2008}, {'titulo': 'Sombra perfecta', 'autor': 'Brent Weeks', 'idioma_original': 'Esperanto', 'año_publicacion': 2011}]\n",
            "Ese ya lo tengo\n",
            "Ese no lo tengo, ¿mola?\n"
          ]
        }
      ],
      "source": [
        "def poseidos(libreria, titulo = \"Ninguno\"):\n",
        "    for libro in libreria:\n",
        "        if titulo in libro.values():\n",
        "            cont = True\n",
        "            break\n",
        "        else:\n",
        "            cont = False\n",
        "    if cont:\n",
        "        print(\"Ese ya lo tengo\")\n",
        "    else:\n",
        "        print(\"Ese no lo tengo, ¿mola?\")\n",
        "\n",
        "print(libreria)\n",
        "poseidos(libreria, \"El camino de las sombras\")\n",
        "poseidos(libreria, \"El regreso de los seres oscuros\")"
      ]
    },
    {
      "cell_type": "markdown",
      "metadata": {
        "id": "FtJir95QRWxK"
      },
      "source": [
        "## Ejercicio 12\n",
        "Solicitar al usuario que ingrese su dirección email. Imprimir un mensaje indicando si la dirección es válida o no, valiéndose de una función para decidirlo. Una dirección se considerará válida si contiene el símbolo \"@\"."
      ]
    },
    {
      "cell_type": "code",
      "execution_count": 80,
      "metadata": {
        "id": "sk852IZ8RWxK"
      },
      "outputs": [
        {
          "name": "stdout",
          "output_type": "stream",
          "text": [
            "Direccion de email correcta\n"
          ]
        }
      ],
      "source": [
        "def email(email):\n",
        "    if \"@\" in email:\n",
        "        print(\"Direccion de email correcta\")\n",
        "    else:\n",
        "        print(\"Dirección de email no válida\")\n",
        "\n",
        "email(input(\"Introduce tu email: \"))"
      ]
    },
    {
      "cell_type": "markdown",
      "metadata": {
        "id": "Kw1MWBwBRWxK"
      },
      "source": [
        "## Ejercicio 13\n",
        "Escribe una función que compruebe si un DNI es válido, devolviendo `True` en caso afirmativo.  \n",
        "En primer lugar, el DNI debe tener entre 7 y 8 dígitos numéricos.  \n",
        "Para saber si la letra del DNI es correcta puedes utilizar el siguiente fragmento de código:\n",
        ">```Python\n",
        ">DNI= 55555555\n",
        ">palabra='TRWAGMYFPDXBNJZSQVHLCKE'\n",
        ">print('La letra del DNI es: ', palabra[DNI%23])\n",
        ">````\n"
      ]
    },
    {
      "cell_type": "code",
      "execution_count": 81,
      "metadata": {
        "id": "F5Z9rSHqRWxK"
      },
      "outputs": [
        {
          "name": "stdout",
          "output_type": "stream",
          "text": [
            "True\n",
            "False\n",
            "False\n"
          ]
        }
      ],
      "source": [
        "dni = \"55555555K\"\n",
        "\n",
        "def DNI_ok(dni):\n",
        "    dni = str(dni).upper()\n",
        "    palabra ='TRWAGMYFPDXBNJZSQVHLCKE'\n",
        "    letra = dni[-1]\n",
        "    n_dni = int(dni[:-1])\n",
        "    if palabra[n_dni % 23] == letra and 7 <= len(str(n_dni)) <= 8:\n",
        "        return True\n",
        "    else:\n",
        "        return False\n",
        "\n",
        "print(DNI_ok(dni))\n",
        "print(DNI_ok(\"12345678A\")) # La letra no es correcta\n",
        "print(DNI_ok(123456789))"
      ]
    }
  ],
  "metadata": {
    "colab": {
      "provenance": []
    },
    "kernelspec": {
      "display_name": "Python 3",
      "name": "python3"
    },
    "language_info": {
      "codemirror_mode": {
        "name": "ipython",
        "version": 3
      },
      "file_extension": ".py",
      "mimetype": "text/x-python",
      "name": "python",
      "nbconvert_exporter": "python",
      "pygments_lexer": "ipython3",
      "version": "3.10.11"
    },
    "orig_nbformat": 4
  },
  "nbformat": 4,
  "nbformat_minor": 0
}
