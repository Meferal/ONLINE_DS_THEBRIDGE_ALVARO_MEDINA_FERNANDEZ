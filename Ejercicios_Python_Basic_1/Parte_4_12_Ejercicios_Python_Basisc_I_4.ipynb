{
  "cells": [
    {
      "cell_type": "markdown",
      "metadata": {
        "id": "6mRO895RsAI7"
      },
      "source": [
        "![TheBridge_logo_RGB_color.jpg](attachment:TheBridge_logo_RGB_color.jpg)"
      ]
    },
    {
      "cell_type": "markdown",
      "metadata": {
        "id": "OcQVsccGsAJD"
      },
      "source": [
        "![imagen](./img/ejercicios.png)"
      ]
    },
    {
      "cell_type": "markdown",
      "metadata": {
        "id": "uecQasMVsAJE"
      },
      "source": [
        "## EJERCICIOS PYTHON BASICO 4:\n",
        "## Funciones, métodos, listas"
      ]
    },
    {
      "cell_type": "markdown",
      "metadata": {
        "id": "lW5-S06EsAJG"
      },
      "source": [
        "Completa los siguiente ejercicios, la solución completa a los mismos se publicarán en el repo del curso a lo largo del sprint. En algunos ejercicios se muestra la solución final, para que puedas comprobar que lo has hecho bien, pero lo importante es el código que generes. ¡Vaaamos, a ello...!"
      ]
    },
    {
      "cell_type": "markdown",
      "metadata": {
        "id": "LGOrJlRxsAJH"
      },
      "source": [
        "![ejercicio.png](./img/ejercicio.png)\n",
        "\n",
        "## Ejercicio 1\n",
        "Para este ejercicio vamos a poner en práctica [las funciones built in](https://docs.python.org/3/library/functions.html).\n",
        "\n",
        "1. Calcula el máximo de la lista: [4, 6, 8, -1]\n",
        "2. Suma todos los elementos de la lista anterior\n",
        "3. Redondea este float a 3 dígitos decimales: 63.451256965\n",
        "4. Valor absoluto de: -74"
      ]
    },
    {
      "cell_type": "code",
      "execution_count": 2,
      "metadata": {
        "id": "f3VCUs-zsAJI"
      },
      "outputs": [
        {
          "name": "stdout",
          "output_type": "stream",
          "text": [
            "8\n",
            "17\n",
            "63.451\n",
            "74\n"
          ]
        }
      ],
      "source": [
        "lista = [4, 6, 8, -1]\n",
        "\n",
        "# 1\n",
        "print(max(lista))\n",
        "\n",
        "# 2\n",
        "print(sum(lista))\n",
        "\n",
        "# 3\n",
        "print(round(63.451256965,3))\n",
        "\n",
        "# 4\n",
        "print(abs(-74))"
      ]
    },
    {
      "cell_type": "markdown",
      "metadata": {
        "id": "YikmIc-ksAJK"
      },
      "source": [
        "![ejercicio.png](./img/ejercicio.png)\n",
        "\n",
        "## Ejercicio 2\n",
        "Para el siguiente string se pide imprimir por pantalla los siguientes casos\n",
        "\n",
        "    \"En un lugar de la Mancha, de cuyo nombre no quiero acordarme.\"\n",
        "\n",
        "1. Pásalo todo a mayúsculas\n",
        "2. Pásalo todo a minúsculas\n",
        "3. Solo la primera letra de cada palabra en mayúscula, el resto en minúscula\n",
        "4. Crea una lista dividiéndolo por sus espacios\n",
        "5. Sustituye las comas `,` por puntos y comas `;`\n",
        "6. Elimina las `a` minúsculas"
      ]
    },
    {
      "cell_type": "code",
      "execution_count": 3,
      "metadata": {
        "id": "sYLdXO8TsAJN",
        "outputId": "7dedfb30-63d9-46db-f83a-a91a4e778c9d"
      },
      "outputs": [
        {
          "name": "stdout",
          "output_type": "stream",
          "text": [
            "EN UN LUGAR DE LA MANCHA, DE CUYO NOMBRE NO QUIERO ACORDARME.\n",
            "en un lugar de la mancha, de cuyo nombre no quiero acordarme.\n",
            "En Un Lugar De La Mancha, De Cuyo Nombre No Quiero Acordarme.\n",
            "['En', 'un', 'lugar', 'de', 'la', 'Mancha,', 'de', 'cuyo', 'nombre', 'no', 'quiero', 'acordarme.']\n",
            "En un lugar de la Mancha; de cuyo nombre no quiero acordarme.\n",
            "En un lugr de l Mnch, de cuyo nombre no quiero cordrme.\n"
          ]
        }
      ],
      "source": [
        "string = \"En un lugar de la Mancha, de cuyo nombre no quiero acordarme.\"\n",
        "\n",
        "# 1\n",
        "print(string.upper())\n",
        "\n",
        "# 2\n",
        "print(string.lower())\n",
        "\n",
        "# 3\n",
        "print(string.title())\n",
        "\n",
        "# 4\n",
        "print(string.split())\n",
        "\n",
        "# 5\n",
        "print(string.replace(\",\", \";\"))\n",
        "\n",
        "# 6\n",
        "print(string.replace(\"a\",\"\"))"
      ]
    },
    {
      "cell_type": "markdown",
      "metadata": {
        "id": "igDdNV4QsAJP"
      },
      "source": [
        "![ejercicio.png](./img/ejercicio.png)\n",
        "\n",
        "## Ejercicio 3\n",
        "1. Crea una lista con 3 elementos numéricos\n",
        "2. Añade un cuarto elemento\n",
        "3. Calcula la suma de todos\n",
        "4. Elimina el segundo elemento de la lista\n",
        "5. Añade otro elemento en la posicion 3 de la lista\n",
        "6. Crea otra lista con 4 elementos y concaténala a la que ya tenías.\n",
        "7. Ordena la lista de menor a mayor.\n",
        "8. BONUS: Ordena la lista de mayor a menor.  \n",
        "(*PISTA: Para hacer 8, tendrás que buscar en la información del método...*)  \n",
        "  \n",
        "  \n",
        "NOTA: Pinta por pantalla el resultado de cada paso."
      ]
    },
    {
      "cell_type": "code",
      "execution_count": 12,
      "metadata": {
        "id": "qARnKvZJsAJR",
        "outputId": "c3548e79-19e9-44ac-f027-3477e78a45ba"
      },
      "outputs": [
        {
          "name": "stdout",
          "output_type": "stream",
          "text": [
            "[2, 21, -5]\n",
            "[2, 21, -5, 7]\n",
            "25\n",
            "[2, -5, 7]\n",
            "[2, -5, 7, -4]\n",
            "[2, -5, 7, -4, 9, -24, 15, 10]\n",
            "[-24, -5, -4, 2, 7, 9, 10, 15]\n",
            "[15, 10, 9, 7, 2, -4, -5, -24]\n"
          ]
        }
      ],
      "source": [
        "# 1\n",
        "lista = [2, 21, -5]\n",
        "print(lista)\n",
        "\n",
        "# 2\n",
        "lista.append(7)\n",
        "print(lista)\n",
        "\n",
        "# 3\n",
        "print(sum(lista))\n",
        "\n",
        "#4\n",
        "lista.pop(1)\n",
        "print(lista)\n",
        "#5\n",
        "lista.insert(3, -4)\n",
        "print(lista)\n",
        "\n",
        "#6\n",
        "lista.extend([9, -24, 15, 10])\n",
        "print(lista)\n",
        "\n",
        "#7\n",
        "lista.sort()\n",
        "print(lista)\n",
        "\n",
        "#8\n",
        "lista.reverse()\n",
        "print(lista)"
      ]
    }
  ],
  "metadata": {
    "colab": {
      "provenance": []
    },
    "kernelspec": {
      "display_name": "Python 3",
      "language": "python",
      "name": "python3"
    },
    "language_info": {
      "codemirror_mode": {
        "name": "ipython",
        "version": 3
      },
      "file_extension": ".py",
      "mimetype": "text/x-python",
      "name": "python",
      "nbconvert_exporter": "python",
      "pygments_lexer": "ipython3",
      "version": "3.10.11"
    },
    "orig_nbformat": 4
  },
  "nbformat": 4,
  "nbformat_minor": 0
}
