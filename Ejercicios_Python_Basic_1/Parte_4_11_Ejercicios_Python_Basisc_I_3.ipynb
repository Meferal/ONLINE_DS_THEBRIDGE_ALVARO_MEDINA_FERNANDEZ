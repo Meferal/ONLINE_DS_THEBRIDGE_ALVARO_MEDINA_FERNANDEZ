{
  "cells": [
    {
      "cell_type": "markdown",
      "metadata": {
        "id": "_uqwZU2Wr_E9"
      },
      "source": [
        "![TheBridge_logo_RGB_color.jpg](attachment:TheBridge_logo_RGB_color.jpg)"
      ]
    },
    {
      "cell_type": "markdown",
      "metadata": {
        "id": "OiFORBvRr_FA"
      },
      "source": [
        "![imagen](./img/ejercicios.png)"
      ]
    },
    {
      "cell_type": "markdown",
      "metadata": {
        "id": "4Y-9AuwFr_FB"
      },
      "source": [
        "## EJERCICIOS PYTHON BASICO 3:\n",
        "## Operaciones matemáticas, comparación y booleanas"
      ]
    },
    {
      "cell_type": "markdown",
      "metadata": {
        "id": "EPNP9zSyr_FC"
      },
      "source": [
        "Completa los siguiente ejercicios, la solución completa a los mismos se publicarán en el repo del curso a lo largo del sprint. En algunos ejercicios se muestra la solución final, para que puedas comprobar que lo has hecho bien, pero lo importante es el código que generes. ¡Vaaamos, a ello...!"
      ]
    },
    {
      "cell_type": "markdown",
      "metadata": {
        "id": "MvpY7GiAr_FC"
      },
      "source": [
        "![ejercicio.png](./img/ejercicio.png)\n",
        "\n",
        "\n",
        "## Ejercicio 1\n",
        "Tenemos las siguientes variables:\n",
        "\n",
        "```Python\n",
        "A = 4\n",
        "B = \"Text\"\n",
        "C = 4.1\n",
        "```\n",
        "\n",
        "Comprueba:\n",
        "1. Si A y B son equivalentes\n",
        "2. Si A y C NO son equivalentes\n",
        "3. Si A es mayor que C\n",
        "4. Si C es menor o igual que A\n",
        "5. Si B NO es equivalente a C"
      ]
    },
    {
      "cell_type": "code",
      "execution_count": null,
      "metadata": {
        "id": "E1KmUgDur_FD",
        "outputId": "d0517327-e51a-465b-99bc-128a9cf192b6"
      },
      "outputs": [
        {
          "name": "stdout",
          "output_type": "stream",
          "text": [
            "False\n",
            "True\n",
            "False\n",
            "False\n",
            "True\n"
          ]
        }
      ],
      "source": [
        "A = 4\n",
        "B = \"Text\"\n",
        "C = 4.1\n",
        "\n",
        "# 1\n",
        "A == B\n",
        "\n",
        "# 2\n",
        "A != B\n",
        "\n",
        "# 3\n",
        "A > C\n",
        "\n",
        "# 4\n",
        "C <= A\n",
        "\n",
        "# 5\n",
        "not(B == C)"
      ]
    },
    {
      "cell_type": "markdown",
      "metadata": {
        "id": "r0BZgQU5r_FE"
      },
      "source": [
        "![ejercicio.png](./img/ejercicio.png)\n",
        "\n",
        "## Ejercicio 2\n",
        "Crea un programa donde se recojan dos inputs del usuario, y el output del programa sea si esos inputs son iguales o no"
      ]
    },
    {
      "cell_type": "code",
      "execution_count": null,
      "metadata": {
        "id": "HEX-_a8sr_FE"
      },
      "outputs": [
        {
          "data": {
            "text/plain": [
              "False"
            ]
          },
          "execution_count": 3,
          "metadata": {},
          "output_type": "execute_result"
        }
      ],
      "source": [
        "input_1 = input(\"Escribe lo que quieras: \")     # hola\n",
        "input_2 = input(\"Escribe lo que quieras otra vez: \")    # adios\n",
        "\n",
        "input_1 == input_2"
      ]
    },
    {
      "cell_type": "markdown",
      "metadata": {
        "id": "kRXd_mvOr_FF"
      },
      "source": [
        "![ejercicio.png](./img/ejercicio.png)\n",
        "\n",
        "## Ejercicio 3\n",
        "Mismo programa que en 2, pero en esta ocasión tienen que ser tres inputs y dos salidas. Una de las salidas que nos indique si todos son iguales, y la otra si al menos dos inputs sí que lo son"
      ]
    },
    {
      "cell_type": "code",
      "execution_count": null,
      "metadata": {
        "id": "e6-GH2OWr_FF",
        "outputId": "eb61ebba-5599-4b98-aecc-8f993f3e4ffa"
      },
      "outputs": [
        {
          "name": "stdout",
          "output_type": "stream",
          "text": [
            "False\n",
            "True\n"
          ]
        }
      ],
      "source": [
        "input_1 = input(\"Escribe lo que quieras: \")     # hola\n",
        "input_2 = input(\"Escribe lo que quieras otra vez: \")    # adios\n",
        "input_3 = input(\"Escribe lo que quieras otra vez más: \")    # hola\n",
        "\n",
        "print(input_1 == input_2 and input_1 == input_3)\n",
        "print(input_1 == input_2 or input_1 == input_3 or input_2 == input_3)"
      ]
    },
    {
      "cell_type": "markdown",
      "metadata": {
        "id": "msh44aDPr_FF"
      },
      "source": [
        "![ejercicio.png](./img/ejercicio.png)\n",
        "\n",
        "## Ejercicio 4\n",
        "Razona sin ejecutar código el output que obtendremos de las siguientes sentencias\n",
        "1. True and True and False\n",
        "2. not ((True or False) and (True or False))\n",
        "3. (False or False or False or True) and False\n",
        "4. not False and True and not True"
      ]
    },
    {
      "cell_type": "markdown",
      "metadata": {
        "id": "1lMauw0gr_FF"
      },
      "source": [
        "1. False. Se tienen que cumplir todas las condiciones, solo se cumplen dos\n",
        "2. False. not(True or False) = False; True or False = True; False and True = False\n",
        "3. False. Primera condición True ya que con una True es True; True and False = False\n",
        "4. False. not False = True; not True = False; Se tienen que cumplir todas las condiciones y hay una que es False"
      ]
    }
  ],
  "metadata": {
    "colab": {
      "provenance": []
    },
    "kernelspec": {
      "display_name": "Python 3",
      "language": "python",
      "name": "python3"
    },
    "language_info": {
      "codemirror_mode": {
        "name": "ipython",
        "version": 3
      },
      "file_extension": ".py",
      "mimetype": "text/x-python",
      "name": "python",
      "nbconvert_exporter": "python",
      "pygments_lexer": "ipython3",
      "version": "3.10.11"
    },
    "orig_nbformat": 4
  },
  "nbformat": 4,
  "nbformat_minor": 0
}
