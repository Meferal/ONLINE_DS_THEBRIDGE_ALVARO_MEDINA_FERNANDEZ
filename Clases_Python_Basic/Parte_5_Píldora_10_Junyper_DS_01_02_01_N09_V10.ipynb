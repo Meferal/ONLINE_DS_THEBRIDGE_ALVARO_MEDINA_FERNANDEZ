{
  "cells": [
    {
      "cell_type": "markdown",
      "metadata": {
        "id": "X3AZlyhUzdQq"
      },
      "source": [
        "![TheBridge_Python_v0.png](attachment:TheBridge_Python_v0.png)"
      ]
    },
    {
      "cell_type": "markdown",
      "metadata": {
        "id": "-PHncMnKzdQt"
      },
      "source": [
        "##  Argumentos clave-valor"
      ]
    },
    {
      "cell_type": "markdown",
      "metadata": {
        "id": "nPRctYHhzdQt"
      },
      "source": [
        "### Contenidos"
      ]
    },
    {
      "cell_type": "markdown",
      "metadata": {
        "id": "ZNWIt1mazdQt"
      },
      "source": [
        "* [Combinar `*args` con `**kwargs`](#Combinar-`*args`-con-`**kwargs`)\n",
        "* [Argumentos keyword](#Argumentos-keyword)\n"
      ]
    },
    {
      "cell_type": "markdown",
      "metadata": {
        "id": "zFYs2r8kzdQt"
      },
      "source": [
        "\n",
        "Para terminar con las diferentes posibilidades que ofrecen los argumentos de las funciones, vamos a tratar los argumentos clave-valor.  \n",
        "\n",
        "Es decir, tenemos también la opción de introducir un diccionario como argumentos, de esta forma, aunque el numero de argumentos sea variable, tendremos un inidicador, la clave, y el valor de cada clave.\n",
        "\n",
        "Se implementa con `**`"
      ]
    },
    {
      "cell_type": "code",
      "execution_count": 2,
      "metadata": {
        "id": "BXWU1yLRzdQu",
        "outputId": "07d3f350-8084-4df1-8eb5-2b7f58c1621e",
        "colab": {
          "base_uri": "https://localhost:8080/"
        }
      },
      "outputs": [
        {
          "output_type": "stream",
          "name": "stdout",
          "text": [
            "{'modelo': 'S20', 'marca': 'Samsung', 'camara': '24MPX'}\n",
            "<class 'dict'>\n"
          ]
        }
      ],
      "source": [
        "def insertar_movil_bd(**clave_valor):\n",
        "  print(clave_valor)\n",
        "  print(type(clave_valor))\n",
        "\n",
        "insertar_movil_bd(modelo = \"S20\", marca = \"Samsung\", camara = \"24MPX\")"
      ]
    },
    {
      "cell_type": "code",
      "source": [
        "def insertar_movil_bd(**kwargs):\n",
        "  for clave, valor in kwargs.items():\n",
        "    #insertar(clave,valor)\n",
        "    print(clave, \":\", valor)\n",
        "\n",
        "insertar_movil_bd(modelo = \"S20\", marca = \"Samsung\", camara = \"24MPX\", flip = True)\n"
      ],
      "metadata": {
        "id": "iQQlysKDZccU"
      },
      "execution_count": null,
      "outputs": []
    },
    {
      "cell_type": "markdown",
      "metadata": {
        "id": "9sL6CeBWzdQu"
      },
      "source": [
        "### Combinar `*args` con `**kwargs`\n",
        "[al indice](#Contenidos)  \n",
        "No hay ningun problema en tener un numero variable de argumentos y también argumentos clave-valor, todo ello en la misma función."
      ]
    },
    {
      "cell_type": "code",
      "execution_count": 5,
      "metadata": {
        "id": "WS22skktzdQu",
        "outputId": "0bbecd3a-0c6e-4fa0-953a-4db681317c88",
        "colab": {
          "base_uri": "https://localhost:8080/"
        }
      },
      "outputs": [
        {
          "output_type": "stream",
          "name": "stdout",
          "text": [
            "<class 'tuple'>\n",
            "Es muy bueno\n",
            "no dura lo suficiente la batería\n",
            "<class 'dict'>\n",
            "marca : Samsung\n",
            "modelo : S20\n",
            "precio : 1100\n"
          ]
        }
      ],
      "source": [
        "def insertar_movil(*args, **kwargs):\n",
        "  print(type(args))\n",
        "  for i in args:\n",
        "    print(i)\n",
        "\n",
        "  print(type(kwargs))\n",
        "  for clave, valor in kwargs.items():\n",
        "    print(clave, \":\", valor)\n",
        "\n",
        "insertar_movil(\"Es muy bueno\", \"no dura lo suficiente la batería\", \\\n",
        "               marca = \"Samsung\", modelo = \"S20\", precio = 1100)"
      ]
    },
    {
      "cell_type": "code",
      "source": [
        "def test(**kwargs, *args):\n",
        "  print(\"test\")\n"
      ],
      "metadata": {
        "id": "5IBmYncoah-M",
        "outputId": "c3a68581-dfa0-4077-a5c9-a057428b3384",
        "colab": {
          "base_uri": "https://localhost:8080/",
          "height": 106
        }
      },
      "execution_count": 6,
      "outputs": [
        {
          "output_type": "error",
          "ename": "SyntaxError",
          "evalue": "arguments cannot follow var-keyword argument (ipython-input-1024267789.py, line 1)",
          "traceback": [
            "\u001b[0;36m  File \u001b[0;32m\"/tmp/ipython-input-1024267789.py\"\u001b[0;36m, line \u001b[0;32m1\u001b[0m\n\u001b[0;31m    def test(**kwargs, *args):\u001b[0m\n\u001b[0m                       ^\u001b[0m\n\u001b[0;31mSyntaxError\u001b[0m\u001b[0;31m:\u001b[0m arguments cannot follow var-keyword argument\n"
          ]
        }
      ]
    },
    {
      "cell_type": "markdown",
      "metadata": {
        "id": "MH6rIoUCzdQv"
      },
      "source": [
        "### Argumentos keyword\n",
        "[al indice](#Contenidos)  \n",
        "Existe otro tipo de argumentos que son los *keyword*. Se caracterizan porque llevan un valor por defecto, y por tanto, si no usamos dicho argumento en la llamada, dentro de la función tomará el valor que hayamos dejado por defecto.\n",
        "\n",
        "Ten en cuenta que estos argumentos se colocan **al final**"
      ]
    },
    {
      "cell_type": "code",
      "execution_count": 12,
      "metadata": {
        "id": "0IhBPCpCzdQv",
        "outputId": "0e7b17fc-8af5-401a-99cb-1e32c57e128e",
        "colab": {
          "base_uri": "https://localhost:8080/"
        }
      },
      "outputs": [
        {
          "output_type": "execute_result",
          "data": {
            "text/plain": [
              "12.36"
            ]
          },
          "metadata": {},
          "execution_count": 12
        }
      ],
      "source": [
        "round(12.3564, 2)"
      ]
    },
    {
      "cell_type": "code",
      "source": [
        "sorted([12,3,24,54,12], reverse=True)"
      ],
      "metadata": {
        "id": "UvLXJnS0bMAI",
        "outputId": "84b2d453-501c-4bc5-82ba-a5ca6b52a703",
        "colab": {
          "base_uri": "https://localhost:8080/"
        }
      },
      "execution_count": 14,
      "outputs": [
        {
          "output_type": "execute_result",
          "data": {
            "text/plain": [
              "[54, 24, 12, 12, 3]"
            ]
          },
          "metadata": {},
          "execution_count": 14
        }
      ]
    },
    {
      "cell_type": "code",
      "source": [
        "def pedido_online(pedido, fecha, incidencia = False):\n",
        "  if incidencia == True:\n",
        "    print(\"Pongase en contacto con Att. al Cliente\")\n",
        "  print(\"Su pedido de\", pedido, \"se entregará el\", fecha)\n",
        "\n",
        "pedido_online(\"Televisión LG\", \"12/12/2023\")\n",
        "pedido_online(\"iMac 27''\", \"10/11/2023\", incidencia = True)"
      ],
      "metadata": {
        "id": "ubc0heEjbVI7",
        "outputId": "88e49be2-3aa1-446c-8b6d-f3c9cf6007e8",
        "colab": {
          "base_uri": "https://localhost:8080/"
        }
      },
      "execution_count": 15,
      "outputs": [
        {
          "output_type": "stream",
          "name": "stdout",
          "text": [
            "Su pedido de Televisión LG se entregará el 12/12/2023\n",
            "Pongase en contacto con Att. al Cliente\n",
            "Su pedido de iMac 27'' se entregará el 10/11/2023\n"
          ]
        }
      ]
    },
    {
      "cell_type": "markdown",
      "metadata": {
        "id": "n43Gmi7LzdQv"
      },
      "source": [
        "<table align=\"left\">\n",
        " <tr>\n",
        "     <td style=\"text-align:left\">\n",
        "         <h3>ERRORES con argumentos keyword</h3>\n",
        "         \n",
        " </td></tr>\n",
        "</table>"
      ]
    },
    {
      "cell_type": "code",
      "execution_count": 17,
      "metadata": {
        "id": "Y8v2KkamzdQv",
        "outputId": "84bc2fb5-b1a6-43a4-863a-cf51052caaf9",
        "colab": {
          "base_uri": "https://localhost:8080/",
          "height": 106
        }
      },
      "outputs": [
        {
          "output_type": "error",
          "ename": "SyntaxError",
          "evalue": "parameter without a default follows parameter with a default (ipython-input-2016926906.py, line 1)",
          "traceback": [
            "\u001b[0;36m  File \u001b[0;32m\"/tmp/ipython-input-2016926906.py\"\u001b[0;36m, line \u001b[0;32m1\u001b[0m\n\u001b[0;31m    def pedido_online(pedido, incidencia = False, fecha):\u001b[0m\n\u001b[0m                                                  ^\u001b[0m\n\u001b[0;31mSyntaxError\u001b[0m\u001b[0;31m:\u001b[0m parameter without a default follows parameter with a default\n"
          ]
        }
      ],
      "source": [
        "def pedido_online(pedido, incidencia = False, fecha):\n",
        "  if incidencia == True:\n",
        "    print(\"Pongase en contacto con Att. al Cliente\")\n",
        "  print(\"Su pedido de\", pedido, \"se entregará el\", fecha)"
      ]
    }
  ],
  "metadata": {
    "kernelspec": {
      "display_name": "Python 3 (ipykernel)",
      "language": "python",
      "name": "python3"
    },
    "language_info": {
      "codemirror_mode": {
        "name": "ipython",
        "version": 3
      },
      "file_extension": ".py",
      "mimetype": "text/x-python",
      "name": "python",
      "nbconvert_exporter": "python",
      "pygments_lexer": "ipython3",
      "version": "3.9.7"
    },
    "colab": {
      "provenance": []
    }
  },
  "nbformat": 4,
  "nbformat_minor": 0
}