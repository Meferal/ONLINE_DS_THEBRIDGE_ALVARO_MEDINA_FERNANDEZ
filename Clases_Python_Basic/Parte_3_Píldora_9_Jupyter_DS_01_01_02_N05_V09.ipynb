{
  "cells": [
    {
      "cell_type": "markdown",
      "metadata": {
        "id": "view-in-github",
        "colab_type": "text"
      },
      "source": [
        "<a href=\"https://colab.research.google.com/github/Meferal/ONLINE_DS_THEBRIDGE_ALVARO_MEDINA_FERNANDEZ/blob/main/Parte_3_P%C3%ADldora_9_Jupyter_DS_01_01_02_N05_V09.ipynb\" target=\"_parent\"><img src=\"https://colab.research.google.com/assets/colab-badge.svg\" alt=\"Open In Colab\"/></a>"
      ]
    },
    {
      "cell_type": "markdown",
      "metadata": {
        "id": "DhFxvgV4wGUt"
      },
      "source": [
        "<img src = \"./img/TheBridge_logo_RGB_color.jpg\" width = 500>\n",
        "<img src = \"./img/python.jpg\" width = 500>"
      ]
    },
    {
      "cell_type": "markdown",
      "metadata": {
        "id": "lRUKV1kgwGUx"
      },
      "source": [
        "# Python Basics I"
      ]
    },
    {
      "cell_type": "markdown",
      "metadata": {
        "id": "BTyvqZ3VwGUy"
      },
      "source": [
        "# Contenidos"
      ]
    },
    {
      "cell_type": "markdown",
      "metadata": {
        "id": "gMwCt9PuwGUy"
      },
      "source": [
        "* [Operaciones aritméticas\n",
        "](#Operaciones-aritméticas\n",
        ")\n",
        "\n",
        "* [Operaciones comparativas\n",
        "](#Operaciones-comparativas\n",
        ")\n",
        "\n"
      ]
    },
    {
      "cell_type": "markdown",
      "metadata": {
        "id": "IYCPJc0mwGUz"
      },
      "source": [
        "## Operaciones aritméticas\n",
        "[al indice](#Contenidos)  \n",
        "\n",
        "Hace un par de sesiones ya vimos por encima las principales operaciones aritméticas en Python. Las recordamos:\n",
        "* Sumar: `+`\n",
        "* Restar: `-`\n",
        "* Multiplicar: `*`\n",
        "* Dividir: `/`\n",
        "* Elevar: `**`\n",
        "* Cociente division: `//`\n",
        "* Resto de la división: `%`"
      ]
    },
    {
      "cell_type": "code",
      "execution_count": 1,
      "metadata": {
        "id": "UxzO6NNCwGUz"
      },
      "outputs": [],
      "source": [
        "# Declarar y asignar una variable entera\n",
        "# Declarar y asignar una variable real o float\n",
        "# Sumar las variables y mostrar el resultado\n",
        "# Mostrar de qué tipo es el resultado\n",
        "# Multiplicar ambas variables y mostrar el resultado\n",
        "# Elevar una a la otr\n",
        "# Dividir una por otra y mostrar además el resto y el cociente"
      ]
    },
    {
      "cell_type": "code",
      "execution_count": 3,
      "metadata": {
        "id": "ZmFCP73ZwGU0",
        "outputId": "8b65210d-ea69-4a44-eb35-286f3ae99c50",
        "colab": {
          "base_uri": "https://localhost:8080/"
        }
      },
      "outputs": [
        {
          "output_type": "stream",
          "name": "stdout",
          "text": [
            "17.34\n",
            "<class 'float'>\n",
            "61.7 <class 'float'>\n",
            "421978042.82945716 <class 'float'>\n",
            "0.4051863857374392 <class 'float'>\n",
            "0.0 <class 'float'>\n",
            "5.0 <class 'float'>\n"
          ]
        }
      ],
      "source": [
        "entero = 5\n",
        "real = 12.34\n",
        "sumar_vars = entero + real\n",
        "print(sumar_vars)\n",
        "print(type(sumar_vars))\n",
        "multiplicar_vars = entero * real\n",
        "print(multiplicar_vars, type(multiplicar_vars))\n",
        "elevar_vars = entero ** real\n",
        "print(elevar_vars, type(elevar_vars))\n",
        "dividir_vars = entero / real\n",
        "print(dividir_vars, type(dividir_vars))\n",
        "cociente = entero // real\n",
        "print(cociente, type(cociente))\n",
        "resto = entero % real\n",
        "print(resto, type(resto))"
      ]
    },
    {
      "cell_type": "markdown",
      "metadata": {
        "id": "0mdohHcRwGU1"
      },
      "source": [
        "### Propiedad conmutativa, asociativa, distributiva y el paréntesis\n",
        "Si queremos concatenar varias operaciones, ten siempre en cuenta las propiedades matemáticas de la multiplicación"
      ]
    },
    {
      "cell_type": "code",
      "execution_count": 2,
      "metadata": {
        "id": "ii5lzRqdwGU1",
        "outputId": "cac3d551-5e17-45ea-c171-f7cb058ec722",
        "colab": {
          "base_uri": "https://localhost:8080/"
        }
      },
      "outputs": [
        {
          "output_type": "stream",
          "name": "stdout",
          "text": [
            "Conmutativa\n",
            "6\n",
            "6\n",
            "\n",
            "Asociativa\n",
            "30\n",
            "30\n",
            "\n",
            "Distributiva\n",
            "16\n",
            "16\n",
            "\n",
            "El Orden de operaciones se mantiene. Siempre podemos usar paréntesis\n",
            "50\n",
            "1.7272727272727273\n"
          ]
        }
      ],
      "source": [
        "print(\"Conmutativa\")\n",
        "print(2 * 3)\n",
        "print(3 * 2)\n",
        "\n",
        "print(\"\\nAsociativa\") # Recuerda que \"\\n\" se usa para que haya un salto de linea en el output.\n",
        "print((3 * 2) * 5)\n",
        "print(3 * (2 * 5))\n",
        "\n",
        "print(\"\\nDistributiva\")\n",
        "print(2 * (3 + 5))\n",
        "print(2 * 3 + 2 * 5)\n",
        "\n",
        "print(\"\\nEl Orden de operaciones se mantiene. Siempre podemos usar paréntesis\")\n",
        "print(2 * (2 + 3) * 5)\n",
        "print((2 * 2 + 3 * 5)/(4 + 7))"
      ]
    },
    {
      "cell_type": "markdown",
      "metadata": {
        "id": "me4EzwgnwGU1"
      },
      "source": [
        "### Operaciones más complejas\n",
        "Si salimos de las operaciones básicas de Python, tendremos que importar módulos con más funcionalidades en nuestro código. Esto lo haremos mediante la sentencia `import math`. `math` es un módulo con funciones ya predefinidas, que no vienen por defecto en el núcleo de Python. De esta forma será posible hacer cálculos más complejos como:\n",
        "\n",
        "* Raíz cuadrada\n",
        "* Seno/Coseno\n",
        "* Valor absoluto\n",
        "*...\n",
        "\n",
        "El módulo es completísimo y si estás buscando alguna operación matemática, lo más seguro es que ya esté implementada. Te dejo por aquí el [link a la documentación del módulo.](https://docs.python.org/3/library/math.html)."
      ]
    },
    {
      "cell_type": "code",
      "execution_count": 4,
      "metadata": {
        "id": "fURgul0SwGU2",
        "outputId": "1bb47ddb-df85-4c49-ae7f-24160be434bd",
        "colab": {
          "base_uri": "https://localhost:8080/"
        }
      },
      "outputs": [
        {
          "output_type": "stream",
          "name": "stdout",
          "text": [
            "5.0\n",
            "1.0\n",
            "123.45\n"
          ]
        }
      ],
      "source": [
        "import math\n",
        "print(math.sqrt(25))\n",
        "print(math.cos(0))\n",
        "print(math.fabs(-123.45)) # abs"
      ]
    },
    {
      "cell_type": "markdown",
      "metadata": {
        "id": "zAGEXABVwGU2"
      },
      "source": [
        "Como en todos los lenguajes de programación, suele haber una serie de componentes básicos (variables, operaciones aritméticas, tipos de datos...) con los que podemos hacer muchas cosas. Ahora bien, si queremos ampliar esas funcionalidades, se suelen importar nuevos módulos, con funciones ya hechas de otros usuarios, como en el caso del módulo `math`. Veremos esto de los módulos más adelante."
      ]
    },
    {
      "cell_type": "markdown",
      "metadata": {
        "id": "GS3-7F_MwGU2"
      },
      "source": [
        "<table align=\"left\">\n",
        " <tr><td width=\"80\"><img src=\"./img/error.png\" style=\"width:auto;height:auto\"></td>\n",
        "     <td style=\"text-align:left\">\n",
        "         <h3>ERRORES Dividir por cero</h3>\n",
        "         \n",
        " </td></tr>\n",
        "</table>"
      ]
    },
    {
      "cell_type": "markdown",
      "metadata": {
        "id": "K3mekyf1wGU2"
      },
      "source": [
        "Cuidado cuando operamos con 0s. Las indeterminaciones y valores infinitos suponen errores en el código. Por suerte, la descripción de estos errores es bastante explícita, obteniendo un error de tipo `ZeroDivisionError`"
      ]
    },
    {
      "cell_type": "code",
      "execution_count": 5,
      "metadata": {
        "id": "Pfv-CIsQwGU2",
        "outputId": "bc02a128-6493-4d3c-d1de-0c7fadcf16e7",
        "colab": {
          "base_uri": "https://localhost:8080/",
          "height": 141
        }
      },
      "outputs": [
        {
          "output_type": "error",
          "ename": "ZeroDivisionError",
          "evalue": "division by zero",
          "traceback": [
            "\u001b[0;31m---------------------------------------------------------------------------\u001b[0m",
            "\u001b[0;31mZeroDivisionError\u001b[0m                         Traceback (most recent call last)",
            "\u001b[0;32m/tmp/ipython-input-1580332654.py\u001b[0m in \u001b[0;36m<cell line: 0>\u001b[0;34m()\u001b[0m\n\u001b[0;32m----> 1\u001b[0;31m \u001b[0;36m4\u001b[0m\u001b[0;34m/\u001b[0m\u001b[0;36m0\u001b[0m\u001b[0;34m\u001b[0m\u001b[0;34m\u001b[0m\u001b[0m\n\u001b[0m",
            "\u001b[0;31mZeroDivisionError\u001b[0m: division by zero"
          ]
        }
      ],
      "source": [
        "4/0"
      ]
    },
    {
      "cell_type": "code",
      "source": [
        "variable_a/variable_b"
      ],
      "metadata": {
        "id": "fTFXIRq90MzZ"
      },
      "execution_count": null,
      "outputs": []
    },
    {
      "cell_type": "code",
      "execution_count": null,
      "metadata": {
        "id": "mMqhbBK5wGU2"
      },
      "outputs": [],
      "source": [
        "# Hay valores que se salen del dominio de algunas funciones matemáticas,\n",
        "# como es el caso de las raices de números negativos\n"
      ]
    },
    {
      "cell_type": "code",
      "execution_count": 6,
      "metadata": {
        "id": "aFU5Ry-1wGU2",
        "outputId": "afb4a361-92b6-475d-a0dd-e78691ee3b2e",
        "colab": {
          "base_uri": "https://localhost:8080/",
          "height": 141
        }
      },
      "outputs": [
        {
          "output_type": "error",
          "ename": "ValueError",
          "evalue": "math domain error",
          "traceback": [
            "\u001b[0;31m---------------------------------------------------------------------------\u001b[0m",
            "\u001b[0;31mValueError\u001b[0m                                Traceback (most recent call last)",
            "\u001b[0;32m/tmp/ipython-input-2756031591.py\u001b[0m in \u001b[0;36m<cell line: 0>\u001b[0;34m()\u001b[0m\n\u001b[0;32m----> 1\u001b[0;31m \u001b[0mmath\u001b[0m\u001b[0;34m.\u001b[0m\u001b[0msqrt\u001b[0m\u001b[0;34m(\u001b[0m\u001b[0;34m-\u001b[0m\u001b[0;36m12\u001b[0m\u001b[0;34m)\u001b[0m\u001b[0;34m\u001b[0m\u001b[0;34m\u001b[0m\u001b[0m\n\u001b[0m",
            "\u001b[0;31mValueError\u001b[0m: math domain error"
          ]
        }
      ],
      "source": [
        "math.sqrt(-12)"
      ]
    },
    {
      "cell_type": "markdown",
      "metadata": {
        "id": "vET6DloJwGU2"
      },
      "source": [
        "## Operaciones comparativas\n",
        "[al indice](#Contenidos)  \n",
        "\n",
        "Es bastante intuitivo comparar valores en Python. La sintaxis es la siguiente:\n",
        "* `==`: Igualdad. No es un `=`. Hay que diferenciar entre una comparativa, y una asignación de valores\n",
        "* `!=`: Desigualdad\n",
        "* `>`: Mayor que\n",
        "* `<`: Menor que\n",
        "* `>=`: Mayor o igual que\n",
        "* `<=`: Menor o igual que"
      ]
    },
    {
      "cell_type": "markdown",
      "metadata": {
        "id": "pkTrIJXpwGU3"
      },
      "source": [
        "En la asignación estamos diciendole a Python que la variable `asign` vale 1, mientras que en la comparación, estamos preguntando a Python si `a` equivale a 5. Como vale 1, nos devuelve un `False`"
      ]
    },
    {
      "cell_type": "code",
      "execution_count": 8,
      "metadata": {
        "id": "NlgvsSCSwGU3",
        "outputId": "39c8012f-ccaf-4beb-e32e-97c0004395cc",
        "colab": {
          "base_uri": "https://localhost:8080/"
        }
      },
      "outputs": [
        {
          "output_type": "stream",
          "name": "stdout",
          "text": [
            "False\n",
            "1\n"
          ]
        }
      ],
      "source": [
        "# asignación\n",
        "asign = 1\n",
        "\n",
        "# comparación\n",
        "print(asign == 5)\n",
        "print(asign)"
      ]
    },
    {
      "cell_type": "markdown",
      "metadata": {
        "id": "28OVRH6DwGU3"
      },
      "source": [
        "Veamos otros ejemplos de comparaciones"
      ]
    },
    {
      "cell_type": "code",
      "execution_count": 9,
      "metadata": {
        "id": "iXdzUJSOwGU3",
        "outputId": "2ddcd5d7-47b3-4e0c-f30b-f394f7e66f3f",
        "colab": {
          "base_uri": "https://localhost:8080/"
        }
      },
      "outputs": [
        {
          "output_type": "stream",
          "name": "stdout",
          "text": [
            "False\n",
            "True\n",
            "True\n",
            "True\n",
            "False\n"
          ]
        }
      ],
      "source": [
        "print(\"AAA\" == \"BBB\")\n",
        "print(\"AAA\" == \"AAA\")\n",
        "print(93 > 12)\n",
        "print(1 == 1.0)\n",
        "print(93 <= 12)"
      ]
    },
    {
      "cell_type": "markdown",
      "metadata": {
        "id": "vpcRla-bwGU3"
      },
      "source": [
        "<table align=\"left\">\n",
        " <tr><td width=\"80\"><img src=\"./img/error.png\" style=\"width:auto;height:auto\"></td>\n",
        "     <td style=\"text-align:left\">\n",
        "         <h3>ERRORES en comparativas</h3>\n",
        "         \n",
        " </td></tr>\n",
        "</table>"
      ]
    },
    {
      "cell_type": "markdown",
      "metadata": {
        "id": "rVzYvTuSwGU3"
      },
      "source": [
        "Este tipo de errores son muy comunes, pues es muy habitual comparar peras con manzanas. Cuando se trata de una igualdad (`==`), no suele haber problemas, ya que si las variables son de distinto tipo, simplemente es `False`. Lo ideal sería que Python nos avisase de estas cosas porque realmente lo estamos haciendo mal, no estamos comparando cosas del mismo tipo"
      ]
    },
    {
      "cell_type": "code",
      "execution_count": 11,
      "metadata": {
        "id": "mWZPb4_XwGU3",
        "outputId": "41609e31-de84-42d2-97c6-d7376cd5e7fb",
        "colab": {
          "base_uri": "https://localhost:8080/"
        }
      },
      "outputs": [
        {
          "output_type": "stream",
          "name": "stdout",
          "text": [
            "False\n",
            "False\n"
          ]
        }
      ],
      "source": [
        "print(1 == \"1\")\n",
        "print(\"Hola\" == True)"
      ]
    },
    {
      "cell_type": "code",
      "execution_count": null,
      "metadata": {
        "id": "8CMRk7-gwGU3"
      },
      "outputs": [],
      "source": [
        "# Obtenemos un TypeError cuando la comparativa es de > o <\n"
      ]
    },
    {
      "cell_type": "code",
      "execution_count": 12,
      "metadata": {
        "id": "6xqLZKoJwGU3",
        "outputId": "e6bda9cf-12cb-4564-9de8-90602533d968",
        "colab": {
          "base_uri": "https://localhost:8080/",
          "height": 141
        }
      },
      "outputs": [
        {
          "output_type": "error",
          "ename": "TypeError",
          "evalue": "'>' not supported between instances of 'str' and 'int'",
          "traceback": [
            "\u001b[0;31m---------------------------------------------------------------------------\u001b[0m",
            "\u001b[0;31mTypeError\u001b[0m                                 Traceback (most recent call last)",
            "\u001b[0;32m/tmp/ipython-input-177830146.py\u001b[0m in \u001b[0;36m<cell line: 0>\u001b[0;34m()\u001b[0m\n\u001b[0;32m----> 1\u001b[0;31m \u001b[0mprint\u001b[0m\u001b[0;34m(\u001b[0m\u001b[0;34m\"17\"\u001b[0m \u001b[0;34m>\u001b[0m \u001b[0;36m23\u001b[0m\u001b[0;34m)\u001b[0m\u001b[0;34m\u001b[0m\u001b[0;34m\u001b[0m\u001b[0m\n\u001b[0m",
            "\u001b[0;31mTypeError\u001b[0m: '>' not supported between instances of 'str' and 'int'"
          ]
        }
      ],
      "source": [
        "print(\"17\" > 23)"
      ]
    },
    {
      "cell_type": "code",
      "execution_count": null,
      "metadata": {
        "id": "RcDEF8qnwGU3"
      },
      "outputs": [],
      "source": []
    }
  ],
  "metadata": {
    "kernelspec": {
      "display_name": "Python 3",
      "language": "python",
      "name": "python3"
    },
    "language_info": {
      "codemirror_mode": {
        "name": "ipython",
        "version": 3
      },
      "file_extension": ".py",
      "mimetype": "text/x-python",
      "name": "python",
      "nbconvert_exporter": "python",
      "pygments_lexer": "ipython3",
      "version": "3.8.3"
    },
    "colab": {
      "provenance": [],
      "include_colab_link": true
    }
  },
  "nbformat": 4,
  "nbformat_minor": 0
}