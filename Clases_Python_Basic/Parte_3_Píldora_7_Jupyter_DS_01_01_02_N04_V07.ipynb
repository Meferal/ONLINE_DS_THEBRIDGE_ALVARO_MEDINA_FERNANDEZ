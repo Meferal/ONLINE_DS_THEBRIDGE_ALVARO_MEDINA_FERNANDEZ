{
  "cells": [
    {
      "cell_type": "markdown",
      "metadata": {
        "id": "view-in-github",
        "colab_type": "text"
      },
      "source": [
        "<a href=\"https://colab.research.google.com/github/Meferal/ONLINE_DS_THEBRIDGE_ALVARO_MEDINA_FERNANDEZ/blob/main/Parte_3_P%C3%ADldora_7_Jupyter_DS_01_01_02_N04_V07.ipynb\" target=\"_parent\"><img src=\"https://colab.research.google.com/assets/colab-badge.svg\" alt=\"Open In Colab\"/></a>"
      ]
    },
    {
      "cell_type": "markdown",
      "metadata": {
        "id": "cVKE4hEPX5l9"
      },
      "source": [
        "<img src = \"./img/TheBridge_logo_RGB_color.jpg\" width = 500><img src = \"./img/python.jpg\" width = 500>"
      ]
    },
    {
      "cell_type": "markdown",
      "metadata": {
        "id": "-5bhFryrX5l-"
      },
      "source": [
        "# Python Basics I\n",
        "\n"
      ]
    },
    {
      "cell_type": "markdown",
      "metadata": {
        "id": "O3qHxuWRX5l_"
      },
      "source": [
        "## Contenidos"
      ]
    },
    {
      "cell_type": "markdown",
      "metadata": {
        "id": "14Q473gJX5l_"
      },
      "source": [
        "* [Conversión de tipos\n",
        "](#Conversión-de-tipos\n",
        ")\n",
        "* [Input\n",
        "](#Input\n",
        ")\n",
        "* [None\n",
        "](#None\n",
        ")\n",
        "* [Sintaxis y best practices\n",
        "](#Sintaxis-y-best-practices\n",
        ")\n"
      ]
    },
    {
      "cell_type": "markdown",
      "metadata": {
        "id": "SnoBN2lfX5l_"
      },
      "source": [
        "## Conversión de tipos\n",
        "[al indice](#Contenidos)\n",
        "Como en otros lenguajes, en Python también tenemos la posibilidad de realizar conversiones entre los tipos de datos. Hasta ahora hemos visto pocos, pero cuando descubramos más tipos de datos y objetos, verás que son muy comunes estas transformaciones.\n",
        "\n",
        "Un caso muy habitual es leer un archivo datos numéricos, y que Python interprete los números como caracteres. No es un error, pero posteriormente, cuando hagamos operaciones con nuestros números, tendremos errores, ya que en realidad son cadenas de texto. Si forzamos el cambio a numerico, nos evitaremos futuros problemas.\n",
        "\n",
        "**Mucho cuidado en los cambios de tipos**. Tenemos que estar seguros de lo que hacemos ya que podemos perder información, o lo más probable, puede dar error, al no ser compatible el cambio.\n",
        "\n",
        "Veamos como cambiar los tipos"
      ]
    },
    {
      "cell_type": "code",
      "execution_count": 2,
      "metadata": {
        "id": "vdCDePnqX5mA",
        "outputId": "c95229ad-78f1-4382-a983-8269db519cb3",
        "colab": {
          "base_uri": "https://localhost:8080/"
        }
      },
      "outputs": [
        {
          "output_type": "stream",
          "name": "stdout",
          "text": [
            "<class 'float'>\n",
            "24\n",
            "<class 'int'>\n"
          ]
        }
      ],
      "source": [
        "num_real = 24.69\n",
        "print(type(num_real))\n",
        "\n",
        "num_entero = int(num_real)\n",
        "print(num_entero)\n",
        "print(type(num_entero))"
      ]
    },
    {
      "cell_type": "markdown",
      "metadata": {
        "id": "QdWCjIbjX5mA"
      },
      "source": [
        "Perdemos unos decimales, normalmente nada grave, aunque depende de la aplicación.\n",
        "\n",
        "**NOTA**: si lo que queremos es redondear, podemos usar la función `round()`"
      ]
    },
    {
      "cell_type": "code",
      "execution_count": 3,
      "metadata": {
        "id": "wVlusQvYX5mA",
        "outputId": "ddf6abae-6ad3-4853-df98-fb503f7577d7",
        "colab": {
          "base_uri": "https://localhost:8080/"
        }
      },
      "outputs": [
        {
          "output_type": "stream",
          "name": "stdout",
          "text": [
            "24.69\n"
          ]
        }
      ],
      "source": [
        "# Esta funcion tiene dos argumentos: el número y la cantidad de decimales que queremos conservar.\n",
        "# Veremos funciones más adelante.\n",
        "\n",
        "num_real = 24.686\n",
        "num_redondeado = round(num_real, 2)\n",
        "print(num_redondeado)\n"
      ]
    },
    {
      "cell_type": "code",
      "source": [
        "num_redondeado = 24.69\n",
        "num_convertido = round(num_redondeado, 0)\n",
        "print(num_convertido)\n",
        "print(type(num_convertido))"
      ],
      "metadata": {
        "id": "K7esRf6vTHWH",
        "outputId": "12b05f05-bb1e-4c29-88d8-58a92924fa07",
        "colab": {
          "base_uri": "https://localhost:8080/"
        }
      },
      "execution_count": 4,
      "outputs": [
        {
          "output_type": "stream",
          "name": "stdout",
          "text": [
            "25.0\n",
            "<class 'float'>\n"
          ]
        }
      ]
    },
    {
      "cell_type": "code",
      "source": [
        "print(int(num_convertido))"
      ],
      "metadata": {
        "id": "UvHg3oh-TaQZ",
        "outputId": "7fc578a5-daa4-479b-e7bc-1816cd31e681",
        "colab": {
          "base_uri": "https://localhost:8080/"
        }
      },
      "execution_count": 5,
      "outputs": [
        {
          "output_type": "stream",
          "name": "stdout",
          "text": [
            "25\n"
          ]
        }
      ]
    },
    {
      "cell_type": "markdown",
      "metadata": {
        "id": "oMuhBbdsX5mB"
      },
      "source": [
        "Para pasar de un **numero a string**, no hay problema"
      ]
    },
    {
      "cell_type": "code",
      "execution_count": 7,
      "metadata": {
        "id": "XZ7s0Z0QX5mB",
        "outputId": "6e0bef9a-1b4c-43e0-f50c-51a7e443d33f",
        "colab": {
          "base_uri": "https://localhost:8080/"
        }
      },
      "outputs": [
        {
          "output_type": "stream",
          "name": "stdout",
          "text": [
            "24.69 su tipo <class 'str'>\n",
            "12 su tipo <class 'str'>\n"
          ]
        }
      ],
      "source": [
        "num_real = 24.69\n",
        "num_entero = 12\n",
        "\n",
        "real_str = str(num_real)\n",
        "print(real_str, \"su tipo\", type(real_str))\n",
        "\n",
        "entero_str = str(num_entero)\n",
        "print(entero_str, \"su tipo\", type(entero_str))"
      ]
    },
    {
      "cell_type": "code",
      "source": [
        "print(num_real + num_entero)\n",
        "print(real_str + entero_str) # Al ser dos string los concatena, no los suma"
      ],
      "metadata": {
        "id": "1AFM73StUHRU",
        "outputId": "157de92e-0d16-4647-88c5-953c34503746",
        "colab": {
          "base_uri": "https://localhost:8080/"
        }
      },
      "execution_count": 8,
      "outputs": [
        {
          "output_type": "stream",
          "name": "stdout",
          "text": [
            "36.69\n",
            "24.6912\n"
          ]
        }
      ]
    },
    {
      "cell_type": "markdown",
      "metadata": {
        "id": "PE5mSpnTX5mB"
      },
      "source": [
        "De **String a un número** tampoco suele haber problema. Hay que tener mucho cuidado con los puntos de los decimales. **Puntos, NO comas**"
      ]
    },
    {
      "cell_type": "code",
      "execution_count": 10,
      "metadata": {
        "id": "f4U-o3DJX5mB",
        "outputId": "82bada1e-e642-4b47-b71e-30279b16f6f9",
        "colab": {
          "base_uri": "https://localhost:8080/",
          "height": 211
        }
      },
      "outputs": [
        {
          "output_type": "stream",
          "name": "stdout",
          "text": [
            "98 <class 'str'>\n",
            "98 <class 'int'>\n"
          ]
        },
        {
          "output_type": "error",
          "ename": "ValueError",
          "evalue": "could not convert string to float: '98,33'",
          "traceback": [
            "\u001b[0;31m---------------------------------------------------------------------------\u001b[0m",
            "\u001b[0;31mValueError\u001b[0m                                Traceback (most recent call last)",
            "\u001b[0;32m/tmp/ipython-input-613232280.py\u001b[0m in \u001b[0;36m<cell line: 0>\u001b[0;34m()\u001b[0m\n\u001b[1;32m      4\u001b[0m \u001b[0mprint\u001b[0m\u001b[0;34m(\u001b[0m\u001b[0mmi_entero\u001b[0m\u001b[0;34m,\u001b[0m \u001b[0mtype\u001b[0m\u001b[0;34m(\u001b[0m\u001b[0mmi_entero\u001b[0m\u001b[0;34m)\u001b[0m\u001b[0;34m)\u001b[0m\u001b[0;34m\u001b[0m\u001b[0;34m\u001b[0m\u001b[0m\n\u001b[1;32m      5\u001b[0m \u001b[0mmi_cadena_real\u001b[0m \u001b[0;34m=\u001b[0m \u001b[0;34m\"98,33\"\u001b[0m\u001b[0;34m\u001b[0m\u001b[0;34m\u001b[0m\u001b[0m\n\u001b[0;32m----> 6\u001b[0;31m \u001b[0mmi_real\u001b[0m \u001b[0;34m=\u001b[0m \u001b[0mfloat\u001b[0m\u001b[0;34m(\u001b[0m\u001b[0mmi_cadena_real\u001b[0m\u001b[0;34m)\u001b[0m\u001b[0;34m\u001b[0m\u001b[0;34m\u001b[0m\u001b[0m\n\u001b[0m",
            "\u001b[0;31mValueError\u001b[0m: could not convert string to float: '98,33'"
          ]
        }
      ],
      "source": [
        "mi_cadena = \"98\"\n",
        "mi_entero = int(mi_cadena)\n",
        "print(mi_cadena, type(mi_cadena))\n",
        "print(mi_entero, type(mi_entero))\n",
        "mi_cadena_real = \"98,33\" # Da error porque el separador decimal debe ser \".\"\n",
        "mi_real = float(mi_cadena_real)"
      ]
    },
    {
      "cell_type": "code",
      "source": [
        "mi_cadena_real = \"98.64\"\n",
        "mi_real = float(mi_cadena_real)\n",
        "print(mi_real, type(mi_real))"
      ],
      "metadata": {
        "id": "ANJUh7OWVAPA",
        "outputId": "769d6408-a01c-4dff-b5df-b790aa84dd17",
        "colab": {
          "base_uri": "https://localhost:8080/"
        }
      },
      "execution_count": 12,
      "outputs": [
        {
          "output_type": "stream",
          "name": "stdout",
          "text": [
            "98.64 <class 'float'>\n"
          ]
        }
      ]
    },
    {
      "cell_type": "markdown",
      "metadata": {
        "id": "eHOw_lqsX5mB"
      },
      "source": [
        "Pasar de **numero a boleano y viceversa**, tambien es bastante sencillo. Simplemente ten en cuenta que los 0s son `False`, y el resto de numeros equivalen a un `True`"
      ]
    },
    {
      "cell_type": "code",
      "execution_count": 13,
      "metadata": {
        "id": "PmAIVXwOX5mC",
        "outputId": "6f987336-27dd-4c64-c279-9c254915cd0e",
        "colab": {
          "base_uri": "https://localhost:8080/"
        }
      },
      "outputs": [
        {
          "output_type": "stream",
          "name": "stdout",
          "text": [
            "True <class 'bool'>\n"
          ]
        }
      ],
      "source": [
        "booleano = bool(123)\n",
        "print(booleano, type(booleano))"
      ]
    },
    {
      "cell_type": "code",
      "source": [
        "booleano = bool(0)\n",
        "print(booleano, type(booleano))"
      ],
      "metadata": {
        "id": "Rb81JjVgVVsR",
        "outputId": "1a86b406-54a4-442d-a629-0611e14d0e6b",
        "colab": {
          "base_uri": "https://localhost:8080/"
        }
      },
      "execution_count": 14,
      "outputs": [
        {
          "output_type": "stream",
          "name": "stdout",
          "text": [
            "False <class 'bool'>\n"
          ]
        }
      ]
    },
    {
      "cell_type": "markdown",
      "metadata": {
        "id": "m4kAmYygX5mC"
      },
      "source": [
        "En el caso de transformar **String a booleano**, los strings vacíos serán `False`, mientras que los que tengan cualquier cadena, equivaldrán a `True`.\n",
        "\n",
        "Sin embargo, si la operación es la inversa, el booleano `True` pasará a valer una cadena de texto como `True`, y para `False` lo mismo."
      ]
    },
    {
      "cell_type": "code",
      "execution_count": 15,
      "metadata": {
        "id": "Pihq3tMIX5mC",
        "outputId": "c6364948-6d88-4abd-91be-f4a5e16b18bf",
        "colab": {
          "base_uri": "https://localhost:8080/"
        }
      },
      "outputs": [
        {
          "output_type": "stream",
          "name": "stdout",
          "text": [
            "False <class 'bool'>\n",
            "True <class 'bool'>\n"
          ]
        }
      ],
      "source": [
        "booleano = bool(\"\")\n",
        "booleano_2 = bool(\"Esto es otro tipo de booleano al hacer la conversión\")\n",
        "print(booleano, type(booleano))\n",
        "print(booleano_2, type(booleano_2))"
      ]
    },
    {
      "cell_type": "code",
      "source": [
        "bool_str = str(booleano)"
      ],
      "metadata": {
        "id": "11Z7fkEnV8m_"
      },
      "execution_count": null,
      "outputs": []
    },
    {
      "cell_type": "markdown",
      "metadata": {
        "id": "asTtemeNX5mC"
      },
      "source": [
        "<table align=\"left\">\n",
        " <tr><td width=\"80\"><img src=\"img/error.png\" style=\"width:auto;height:auto\"></td>\n",
        "     <td style=\"text-align:left\">\n",
        "         <h3>ERRORES en conversion de tipos</h3>\n",
        "         \n",
        " </td></tr>\n",
        "</table>"
      ]
    },
    {
      "cell_type": "markdown",
      "metadata": {
        "id": "2gk4mUFlX5mC"
      },
      "source": [
        "Ojo si intentamos pasar a entero un string con pinta de real. En cuanto lleva el punto, ya tiene que ser un numero real. A no ser que lo pasemos a real y posteriormente a entero (`int()`), o usando el `round()` como vimos anteriormente"
      ]
    },
    {
      "cell_type": "code",
      "execution_count": 18,
      "metadata": {
        "id": "0jH9hybLX5mD",
        "outputId": "c933502e-5503-48b3-9371-31a6e6ba01b7",
        "colab": {
          "base_uri": "https://localhost:8080/",
          "height": 158
        }
      },
      "outputs": [
        {
          "output_type": "error",
          "ename": "ValueError",
          "evalue": "could not convert string to float: '68,34'",
          "traceback": [
            "\u001b[0;31m---------------------------------------------------------------------------\u001b[0m",
            "\u001b[0;31mValueError\u001b[0m                                Traceback (most recent call last)",
            "\u001b[0;32m/tmp/ipython-input-604572492.py\u001b[0m in \u001b[0;36m<cell line: 0>\u001b[0;34m()\u001b[0m\n\u001b[1;32m      1\u001b[0m \u001b[0mreal_str\u001b[0m \u001b[0;34m=\u001b[0m \u001b[0;34m\"68,34\"\u001b[0m\u001b[0;34m\u001b[0m\u001b[0;34m\u001b[0m\u001b[0m\n\u001b[0;32m----> 2\u001b[0;31m \u001b[0mreal\u001b[0m \u001b[0;34m=\u001b[0m \u001b[0mfloat\u001b[0m\u001b[0;34m(\u001b[0m\u001b[0mreal_str\u001b[0m\u001b[0;34m)\u001b[0m\u001b[0;34m\u001b[0m\u001b[0;34m\u001b[0m\u001b[0m\n\u001b[0m",
            "\u001b[0;31mValueError\u001b[0m: could not convert string to float: '68,34'"
          ]
        }
      ],
      "source": [
        "real_str = \"68,34\"\n",
        "real = float(real_str)"
      ]
    },
    {
      "cell_type": "markdown",
      "metadata": {
        "id": "4IjH5-bjX5mD"
      },
      "source": [
        "Si leemos datos con decimales y tenemos comas en vez de puntos, habrá errores."
      ]
    },
    {
      "cell_type": "code",
      "execution_count": 19,
      "metadata": {
        "id": "YYLZk9r_X5mD",
        "outputId": "af2ae3c2-1bf6-48b8-ab59-c19c916678a4",
        "colab": {
          "base_uri": "https://localhost:8080/",
          "height": 36
        }
      },
      "outputs": [
        {
          "output_type": "execute_result",
          "data": {
            "text/plain": [
              "'68.34'"
            ],
            "application/vnd.google.colaboratory.intrinsic+json": {
              "type": "string"
            }
          },
          "metadata": {},
          "execution_count": 19
        }
      ],
      "source": [
        "real_str.replace(\",\",\".\")"
      ]
    },
    {
      "cell_type": "markdown",
      "metadata": {
        "id": "WXshhJl7X5mD"
      },
      "source": [
        "Para solventar esto utilizaremos funciones que sustituyan unos caracteres por otros"
      ]
    },
    {
      "cell_type": "code",
      "execution_count": 22,
      "metadata": {
        "id": "b87mtgazX5mD",
        "outputId": "c34cb149-d0db-4361-9157-4be59edd0179",
        "colab": {
          "base_uri": "https://localhost:8080/"
        }
      },
      "outputs": [
        {
          "output_type": "stream",
          "name": "stdout",
          "text": [
            "<class 'str'>\n"
          ]
        }
      ],
      "source": [
        "nuevo_str = real_str.replace(\",\",\".\")\n",
        "print(type(nuevo_str))"
      ]
    },
    {
      "cell_type": "markdown",
      "metadata": {
        "id": "WiYe_qlLX5mD"
      },
      "source": [
        "Es fudndamental operar con los mismos tipos de datos. Mira lo que ocurre cuando sumamos texto con un numero. Da un `TypeError`. Básicamente nos dice que no puedes concatenar un texto con un numero entero"
      ]
    },
    {
      "cell_type": "code",
      "execution_count": 23,
      "metadata": {
        "id": "uTe4PksuX5mE",
        "outputId": "4a541d91-9594-400b-88a1-f86ad5c5c53b",
        "colab": {
          "base_uri": "https://localhost:8080/"
        }
      },
      "outputs": [
        {
          "output_type": "stream",
          "name": "stdout",
          "text": [
            "68.34 <class 'float'>\n"
          ]
        }
      ],
      "source": [
        "real = float(nuevo_str)\n",
        "print(real, type(real))"
      ]
    },
    {
      "cell_type": "markdown",
      "metadata": {
        "id": "F65wPCntX5mE"
      },
      "source": [
        "## Input\n",
        "[al indice](#Contenidos)\n",
        "Esta sentencia se usa en Python para recoger un valor que escriba el usuario del programa. Los programas suelen funcionar de esa manera, reciben un input, realizan operaciones, y acaban sacando un output para el usuario.\n",
        "\n",
        "Por ejemplo, en la siguiente celda recojo un input, que luego podremos usar en celdas posteriores.\n",
        "\n",
        "**CUIDADO**. Si corres una celda con un `input()` el programa se queda esperando a que el usuario meta un valor. Si en el momento en el que está esperando, vuelves a correr la misma celda, se te puede quedar pillado, depende del ordendaor/versión de Jupyter. Si eso ocurre, pincha en la celda y dale despues al botón de stop de arriba, o sino a Kernel -> Restart Kernel..."
      ]
    },
    {
      "cell_type": "code",
      "execution_count": 25,
      "metadata": {
        "id": "V6zMtMfUX5mE",
        "outputId": "8a2b0dc9-e571-4fd1-ee7b-4e1c985c7d36",
        "colab": {
          "base_uri": "https://localhost:8080/"
        }
      },
      "outputs": [
        {
          "name": "stdout",
          "output_type": "stream",
          "text": [
            "Escribeme argo mi arma: 98\n"
          ]
        }
      ],
      "source": [
        "primer_input = input(\"Escribeme argo mi arma: \")"
      ]
    },
    {
      "cell_type": "code",
      "execution_count": 27,
      "metadata": {
        "id": "S8p2YPurX5mE",
        "outputId": "6b2f247a-0887-42e5-c116-54c0b4d49133",
        "colab": {
          "base_uri": "https://localhost:8080/"
        }
      },
      "outputs": [
        {
          "output_type": "stream",
          "name": "stdout",
          "text": [
            "98 <class 'str'>\n"
          ]
        }
      ],
      "source": [
        "print(primer_input, type(primer_input))"
      ]
    },
    {
      "cell_type": "markdown",
      "metadata": {
        "id": "B3jVo8_pX5mE"
      },
      "source": [
        "Puedes poner ints, floats, strings, lo que quieras recoger en texto plano.\n",
        "\n",
        "Mira que fácil es hacer un chatbot un poco tonto, mediante el que hacemos preguntas al usuario, y almacenamos sus respuestas."
      ]
    },
    {
      "cell_type": "code",
      "execution_count": 29,
      "metadata": {
        "id": "vtmgQHoIX5mE",
        "outputId": "efb4f599-dbe9-4408-a9c6-0037b8b2d3ee",
        "colab": {
          "base_uri": "https://localhost:8080/"
        }
      },
      "outputs": [
        {
          "output_type": "stream",
          "name": "stdout",
          "text": [
            "¿Cómo te llamas alma cándida de Dios? Fulanito\n",
            "Encantado de conocerte Fulanito\n",
            "Y, ¿qué te parece este mágnifico vídeo Aburridísimo\n",
            "Coincido\n"
          ]
        }
      ],
      "source": [
        "nombre = input(\"¿Cómo te llamas alma cándida de Dios? \")\n",
        "print(\"Encantado de conocerte\", nombre)\n",
        "preferencias = input(\"Y, ¿qué te parece este mágnifico vídeo \")\n",
        "print(\"Coincido\")"
      ]
    },
    {
      "cell_type": "markdown",
      "metadata": {
        "id": "MJqvsBd9X5mE"
      },
      "source": [
        "## None\n",
        "[al indice](#Contenidos)  \n",
        "Palabra reservada en Python para designar al valor nulo. `None` no es 0, tampoco es un string vacio, ni `False`, simplemente es un tipo de datos más para representar el conjunto vacío."
      ]
    },
    {
      "cell_type": "code",
      "execution_count": 31,
      "metadata": {
        "id": "5_2zfAAXX5mF",
        "outputId": "5876c670-f1ae-4cea-a5ed-091110534cda",
        "colab": {
          "base_uri": "https://localhost:8080/"
        }
      },
      "outputs": [
        {
          "output_type": "stream",
          "name": "stdout",
          "text": [
            "None\n"
          ]
        }
      ],
      "source": [
        "print(None)"
      ]
    },
    {
      "cell_type": "code",
      "source": [
        "print(type(None))"
      ],
      "metadata": {
        "id": "HMEFP5n3kbqQ",
        "outputId": "69bfaa63-7aa4-4d23-fe48-056bd052e840",
        "colab": {
          "base_uri": "https://localhost:8080/"
        }
      },
      "execution_count": 34,
      "outputs": [
        {
          "output_type": "stream",
          "name": "stdout",
          "text": [
            "<class 'NoneType'>\n"
          ]
        }
      ]
    },
    {
      "cell_type": "code",
      "source": [
        "\"\"  == None"
      ],
      "metadata": {
        "id": "IurAqbvUkg3f",
        "outputId": "48950786-256d-4880-a5c2-63544016968d",
        "colab": {
          "base_uri": "https://localhost:8080/"
        }
      },
      "execution_count": 36,
      "outputs": [
        {
          "output_type": "execute_result",
          "data": {
            "text/plain": [
              "False"
            ]
          },
          "metadata": {},
          "execution_count": 36
        }
      ]
    },
    {
      "cell_type": "code",
      "source": [
        "0 == None"
      ],
      "metadata": {
        "id": "TUKKI58rkoBm",
        "outputId": "13698d63-7ca1-45b4-f473-561e192cda39",
        "colab": {
          "base_uri": "https://localhost:8080/"
        }
      },
      "execution_count": 38,
      "outputs": [
        {
          "output_type": "execute_result",
          "data": {
            "text/plain": [
              "False"
            ]
          },
          "metadata": {},
          "execution_count": 38
        }
      ]
    },
    {
      "cell_type": "code",
      "source": [
        "False == None"
      ],
      "metadata": {
        "id": "aICGej0pksfX",
        "outputId": "c62a9cfe-3378-4ea9-b85f-c4371e742a56",
        "colab": {
          "base_uri": "https://localhost:8080/"
        }
      },
      "execution_count": 39,
      "outputs": [
        {
          "output_type": "execute_result",
          "data": {
            "text/plain": [
              "False"
            ]
          },
          "metadata": {},
          "execution_count": 39
        }
      ]
    },
    {
      "cell_type": "markdown",
      "metadata": {
        "id": "Q566LqOQX5mF"
      },
      "source": [
        "## Sintaxis y best practices\n",
        "[al indice](#Contenidos)\n",
        "A la hora de escribir en Python, existen ciertas normas que hay que tener en cuenta:\n",
        "* Todo lo que abras, lo tienes que cerrar: paréntesis, llaves, corchetes...\n",
        "* Los decimales se ponen con puntos `.`\n",
        "* Best practices\n",
        "    * **Caracteres**: NO se recomienda usar Ñs, acentos o caracteres raros (ª,º,@,ç...) en el codigo. Ponerlo únicamente en los comentarios.\n",
        "    * **Espacios**: NO usar espacios en los nombres de las variables ni de las funciones. Se recomienda usar guión bajo para simular el espacio. O también juntar las palabras y usar mayuscula para diferenciarlas `miVariable`. Lo normal es todo minúscula y guiones bajos\n",
        "    * Ahora bien, sí se recomienda usar espacios entre cada comando, para facilitar la lectura, aunque esto ya es más cuestión de gustos. `mi_variable = 36`.\n",
        "    * Se suelen declarar las variables en minuscula.\n",
        "    * Las constantes (variables que no van a cambiar nunca) en mayuscula. `MI_PAIS = \"España\"`\n",
        "    * **Cada sentencia en una linea**. Se puede usar el `;` para declarar varias variables, pero no es lo habitual\n",
        "    * **Comentarios**: TODOS los que se pueda. Nunca sabes cuándo otra persona va a coger tu espectacular código, o si tu *yo* del futuro se acordará de por qué hiciste ese bucle while en vez de un for.\n",
        "    * **Case sensitive**: sensible a mayusculas y minusculas. CUIDADO con esto cuando declaremos variables o usemos Strings\n",
        "    * **Sintaxis de línea**: para una correcta lectura del codigo lo mejor es aplicar sintaxis de línea en la medida de lo posible"
      ]
    },
    {
      "cell_type": "code",
      "execution_count": null,
      "metadata": {
        "id": "o4LxvppdX5mF"
      },
      "outputs": [],
      "source": [
        "# A esto nos referimos con sintaxis de línea\n",
        "lista_compra = ['Manzanas',\n",
        "               'Galletas',\n",
        "               'Pollo',\n",
        "               'Cereales']"
      ]
    },
    {
      "cell_type": "markdown",
      "metadata": {
        "id": "Lg0DGQliX5mF"
      },
      "source": [
        "### The Zen of Python\n",
        "Cualquier consejo que te haya podido dar hasta ahora se queda en nada comparado con los 20 principios que definió *Tim Peters* en 1999. Uno de los mayores colaboradores en la creación de este lenguaje"
      ]
    },
    {
      "cell_type": "code",
      "execution_count": 40,
      "metadata": {
        "id": "KgtxkitSX5mG",
        "outputId": "5f636a8f-e236-41a4-d2ec-ade11ff2b52d",
        "colab": {
          "base_uri": "https://localhost:8080/"
        }
      },
      "outputs": [
        {
          "output_type": "stream",
          "name": "stdout",
          "text": [
            "The Zen of Python, by Tim Peters\n",
            "\n",
            "Beautiful is better than ugly.\n",
            "Explicit is better than implicit.\n",
            "Simple is better than complex.\n",
            "Complex is better than complicated.\n",
            "Flat is better than nested.\n",
            "Sparse is better than dense.\n",
            "Readability counts.\n",
            "Special cases aren't special enough to break the rules.\n",
            "Although practicality beats purity.\n",
            "Errors should never pass silently.\n",
            "Unless explicitly silenced.\n",
            "In the face of ambiguity, refuse the temptation to guess.\n",
            "There should be one-- and preferably only one --obvious way to do it.\n",
            "Although that way may not be obvious at first unless you're Dutch.\n",
            "Now is better than never.\n",
            "Although never is often better than *right* now.\n",
            "If the implementation is hard to explain, it's a bad idea.\n",
            "If the implementation is easy to explain, it may be a good idea.\n",
            "Namespaces are one honking great idea -- let's do more of those!\n"
          ]
        }
      ],
      "source": [
        "import this"
      ]
    },
    {
      "cell_type": "code",
      "execution_count": null,
      "metadata": {
        "id": "bvT7YcTyX5mG"
      },
      "outputs": [],
      "source": []
    },
    {
      "cell_type": "code",
      "execution_count": null,
      "metadata": {
        "id": "H0QXOiaZX5mG"
      },
      "outputs": [],
      "source": []
    }
  ],
  "nbformat": 4,
  "nbformat_minor": 0,
  "metadata": {
    "kernelspec": {
      "display_name": "Python 3",
      "language": "python",
      "name": "python3"
    },
    "language_info": {
      "codemirror_mode": {
        "name": "ipython",
        "version": 3
      },
      "file_extension": ".py",
      "mimetype": "text/x-python",
      "name": "python",
      "nbconvert_exporter": "python",
      "pygments_lexer": "ipython3",
      "version": "3.8.3"
    },
    "colab": {
      "provenance": [],
      "include_colab_link": true
    }
  }
}