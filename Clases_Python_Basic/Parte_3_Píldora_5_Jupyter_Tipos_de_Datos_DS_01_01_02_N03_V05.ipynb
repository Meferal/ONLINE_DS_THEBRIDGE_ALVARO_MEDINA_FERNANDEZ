{
  "cells": [
    {
      "cell_type": "markdown",
      "metadata": {
        "id": "view-in-github",
        "colab_type": "text"
      },
      "source": [
        "<a href=\"https://colab.research.google.com/github/Meferal/ONLINE_DS_THEBRIDGE_ALVARO_MEDINA_FERNANDEZ/blob/main/Parte_3_P%C3%ADldora_5_Jupyter_Tipos_de_Datos_DS_01_01_02_N03_V05.ipynb\" target=\"_parent\"><img src=\"https://colab.research.google.com/assets/colab-badge.svg\" alt=\"Open In Colab\"/></a>"
      ]
    },
    {
      "cell_type": "markdown",
      "metadata": {
        "id": "BP_-oaC0uqQs"
      },
      "source": [
        "<img src = \"./img/TheBridge_logo_RGB_color.jpg\" width = 500><img src = \"./img/python.jpg\" width = 500>"
      ]
    },
    {
      "cell_type": "markdown",
      "metadata": {
        "id": "FG9qbtJBuqQx"
      },
      "source": [
        "# Python Basics I\n"
      ]
    },
    {
      "cell_type": "markdown",
      "metadata": {
        "id": "r6eHVXpkuqQz"
      },
      "source": [
        "## Tipos de los datos\n",
        "Python es un lenguaje fuertemente tipado. Eso significa que las variables que usamos pertenecen a un tipo de datos: numero entero (int), real (float), texto (String), u otro tipo de objetos.\n",
        "\n",
        "**¿Por qué es importante saber bien de que tipos son los datos?** Porque cada tipo de dato tiene una serie propiedades y operaciones asociadas. Por ejemplo, a un texto no lo puedo sumar 5. Por lo que cuando vayamos a hacer operaciones entre ellos, tenemos que asegurarnos de que son del mismo tipo para que el resultado sea el esperado. `texto + 5` no tiene sentido y va a dar error. Parece obvio, pero hay ocasiones en las que los tipos de los datos no son los esperados.\n",
        "\n",
        "**¿Cuántos tipos de datos hay?** Básicamente aquí no hay límites. En este notebook veremos los más básicos, pero en notebooks posteriores verás que puedes crearte tus propios tipos de datos mediante las **clases**. En Python hay una serie de tipos de datos básicos, que podremos usar sin importar ningun módulo externo, son los llamados [*built-in Types*](https://docs.python.org/3/library/stdtypes.html). Estos son los más comunes:\n",
        "\n",
        "* **Numérico**: tenemos `int`, `float` y `complex`. Dependiendo de si es un numero entero, uno real o un complejo.\n",
        "* **String**: o Cadena. Cadena de texto plano\n",
        "* **Booleano**: o Lógico. `True`/`False`\n",
        "\n",
        "**¿Cómo sabemos el tipo de datos de una variable?** Mediante `type(nombre_variable)`"
      ]
    },
    {
      "cell_type": "markdown",
      "metadata": {
        "id": "5Eu8d6YguqQ1"
      },
      "source": [
        "## Contenidos"
      ]
    },
    {
      "cell_type": "markdown",
      "metadata": {
        "id": "muSH95_BuqQ1"
      },
      "source": [
        "* [Numéricos](#Numéricos)\n",
        "* [Strings\n",
        "](#Strings\n",
        ")\n",
        "* [Booleano\n",
        "](#Booleano\n",
        ")\n"
      ]
    },
    {
      "cell_type": "markdown",
      "metadata": {
        "id": "1tdL9J4SuqQ2"
      },
      "source": [
        "### Numéricos[al indice](#Contenidos)\n"
      ]
    },
    {
      "cell_type": "code",
      "execution_count": 1,
      "metadata": {
        "id": "LFhyivipuqQ3",
        "outputId": "9dd5ae47-b924-4373-c501-d22d1e5648be",
        "colab": {
          "base_uri": "https://localhost:8080/"
        }
      },
      "outputs": [
        {
          "output_type": "execute_result",
          "data": {
            "text/plain": [
              "int"
            ]
          },
          "metadata": {},
          "execution_count": 1
        }
      ],
      "source": [
        "numero = 22\n",
        "type(numero)"
      ]
    },
    {
      "cell_type": "markdown",
      "metadata": {
        "id": "CdN0TQMpuqQ5"
      },
      "source": [
        "Bien, es un ***int***, un número entero. Si lo que quiero es un numero real, es decir, que tenga decimales, le añado un punto"
      ]
    },
    {
      "cell_type": "code",
      "execution_count": 3,
      "metadata": {
        "id": "r9nxTpcluqQ5",
        "outputId": "5892c978-6760-4c98-f580-fcbce58c5852",
        "colab": {
          "base_uri": "https://localhost:8080/"
        }
      },
      "outputs": [
        {
          "output_type": "stream",
          "name": "stdout",
          "text": [
            "<class 'float'>\n"
          ]
        }
      ],
      "source": [
        "numero_real = 22.0\n",
        "print(type(numero_real))"
      ]
    },
    {
      "cell_type": "markdown",
      "metadata": {
        "id": "ysbEylhiuqQ6"
      },
      "source": [
        "Aunque no le haya añadido decimales como tal, ya le estoy diciendo a Python que esta variable es un numero real (***float***)."
      ]
    },
    {
      "cell_type": "code",
      "execution_count": 4,
      "metadata": {
        "id": "b7T3x7heuqQ8",
        "outputId": "805d727e-1921-418e-9a36-bf6a247583c2",
        "colab": {
          "base_uri": "https://localhost:8080/"
        }
      },
      "outputs": [
        {
          "output_type": "stream",
          "name": "stdout",
          "text": [
            "<class 'float'>\n"
          ]
        }
      ],
      "source": [
        "numero_real_decimales = 22.45123\n",
        "print(type(numero_real_decimales))"
      ]
    },
    {
      "cell_type": "markdown",
      "metadata": {
        "id": "01b3VZgjuqQ8"
      },
      "source": [
        "Algunas operaciones básicas que podemos hacer con los numeros:\n",
        "* Sumar: `+`\n",
        "* Restar: `-`\n",
        "* Multiplicar: `*`\n",
        "* Dividir: `/`\n",
        "* Elevar: `**`\n",
        "* Cociente division: `//`\n",
        "* Resto de la división: `%`"
      ]
    },
    {
      "cell_type": "code",
      "execution_count": 5,
      "metadata": {
        "id": "rSxGsfwhuqQ9",
        "outputId": "e9734d8b-9fcc-48be-a728-9ccc6c3a6591",
        "colab": {
          "base_uri": "https://localhost:8080/"
        }
      },
      "outputs": [
        {
          "output_type": "stream",
          "name": "stdout",
          "text": [
            "Sumas/restas\n",
            "3\n",
            "3.0\n",
            "3.0\n",
            "-1\n",
            "Multiplicaciones/Divisiones\n",
            "4\n",
            "4.0\n",
            "1.0\n",
            "100.0\n",
            "Resto de la división\n",
            "3.3333333333333335\n",
            "3\n",
            "1\n"
          ]
        }
      ],
      "source": [
        "print(\"Sumas/restas\")\n",
        "print(1 + 2)\n",
        "print(1.0 + 2) # Fijate que cuando fuerzo a que alguno de los numeros sea float, el resultado es float\n",
        "print(1 + 2.0)\n",
        "print(1-2)\n",
        "\n",
        "print(\"Multiplicaciones/Divisiones\")\n",
        "print(2 * 2)\n",
        "print(2.0 * 2) # Ocurre lo mismo que en las sumas, cuando ponemos uno de los numeros como float.\n",
        "print(2/2) # Al hacer la división, directamente convierte el numero en float, a pesar de que los dos son enteros y el resultado también.\n",
        "print(1000/10)\n",
        "\n",
        "print(\"Resto de la división\")\n",
        "print(10/3)\n",
        "print(int(10/3)) # Me quedo con el entero de la division\n",
        "print(10 % 3) # Me quedo con el resto de la division"
      ]
    },
    {
      "cell_type": "code",
      "source": [
        "n = 45678910\n",
        "print(\"Es\", n, \"par?\")\n",
        "resto = n % 2\n",
        "print(\"El resto es\", resto)\n",
        "if resto == 0:\n",
        "    print(\"Es par\")\n",
        "else:\n",
        "    print(\"Es impar\")"
      ],
      "metadata": {
        "id": "GHXmQnDX3z1q",
        "outputId": "8ec41c9f-33a7-4057-cf38-b6bff6bb849e",
        "colab": {
          "base_uri": "https://localhost:8080/"
        }
      },
      "execution_count": 6,
      "outputs": [
        {
          "output_type": "stream",
          "name": "stdout",
          "text": [
            "Es 45678910 par?\n",
            "El resto es 0\n",
            "Es par\n"
          ]
        }
      ]
    },
    {
      "cell_type": "markdown",
      "metadata": {
        "id": "yA13Hs27uqQ_"
      },
      "source": [
        "### Strings\n",
        "[al indice](#Contenidos)\n",
        "El tercer tipo de datos más común es el *String*, o cadena de texto. Hay varias maneras de declararlo:"
      ]
    },
    {
      "cell_type": "code",
      "execution_count": 7,
      "metadata": {
        "id": "4goCVot_uqRA",
        "outputId": "339dfc6d-36ac-4702-f3de-5547c205a651",
        "colab": {
          "base_uri": "https://localhost:8080/"
        }
      },
      "outputs": [
        {
          "output_type": "stream",
          "name": "stdout",
          "text": [
            "Esto es una variable de tipo string\n",
            "Esto es una variable de tipo string en comillas simples\n"
          ]
        }
      ],
      "source": [
        "# Con comillas dobles\n",
        "cadena = \"Esto es una variable de tipo string\"\n",
        "\n",
        "# Con comillas simples\n",
        "cadena_2 = 'Esto es una variable de tipo string en comillas simples'\n",
        "\n",
        "print(cadena)\n",
        "print(cadena_2)"
      ]
    },
    {
      "cell_type": "markdown",
      "metadata": {
        "id": "IY2mww-1uqRA"
      },
      "source": [
        "Si da la casualidad de que en el texto hay comillas, tenemos la posibilidad de que Python las interprete como parte del texto y no como comando de inicio/cierre de String"
      ]
    },
    {
      "cell_type": "code",
      "execution_count": 8,
      "metadata": {
        "id": "xRz_6JlguqRB",
        "outputId": "7a5d77ae-7d9d-43a2-86a9-909c290d3d8e",
        "colab": {
          "base_uri": "https://localhost:8080/"
        }
      },
      "outputs": [
        {
          "output_type": "stream",
          "name": "stdout",
          "text": [
            "String con 'simples'\n",
            "String con \"dobles\"\n",
            "String con \"simples o dobles\"\n"
          ]
        }
      ],
      "source": [
        "print(\"String con 'simples'\")\n",
        "print('String con \"dobles\"')\n",
        "print(\"String con \\\"simples o dobles\\\"\")"
      ]
    },
    {
      "cell_type": "markdown",
      "metadata": {
        "id": "dReNlP-luqRB"
      },
      "source": [
        "En ocasiones queremos poner saltos de línea o tabulaciones en los prints, o simplemente en una variable de tipo String. Para ello usamos los [*escape characters*](https://www.w3schools.com/python/gloss_python_escape_characters.asp) como `\\n` para saltos de línea o `\\t` para tabulaciones."
      ]
    },
    {
      "cell_type": "code",
      "execution_count": 11,
      "metadata": {
        "id": "ReM5-dxYuqRC",
        "outputId": "44814898-ad06-4dc6-8f0d-6999ed5514a7",
        "colab": {
          "base_uri": "https://localhost:8080/"
        }
      },
      "outputs": [
        {
          "output_type": "stream",
          "name": "stdout",
          "text": [
            "Primera línea \n",
            "Segunda línea\n",
            "\tTercera línea, tabulada\n"
          ]
        }
      ],
      "source": [
        "print(\"Primera línea \\nSegunda línea\\n\\tTercera línea, tabulada\")"
      ]
    },
    {
      "cell_type": "code",
      "source": [
        "mi_string = \"Primera línea\\nSegunda línea\\n\\tTercera línea, tabulada\"\n",
        "print(mi_string)"
      ],
      "metadata": {
        "id": "AnIodiUQ6Q6q",
        "outputId": "614ce32e-0492-4cae-d743-62351d385d13",
        "colab": {
          "base_uri": "https://localhost:8080/"
        }
      },
      "execution_count": 12,
      "outputs": [
        {
          "output_type": "stream",
          "name": "stdout",
          "text": [
            "Primera línea\n",
            "Segunda línea\n",
            "\tTercera línea, tabulada\n"
          ]
        }
      ]
    },
    {
      "cell_type": "markdown",
      "metadata": {
        "id": "f38LkB9cuqRC"
      },
      "source": [
        "Para unir dos variables de tipo String, simplemente usamos el `+`"
      ]
    },
    {
      "cell_type": "code",
      "execution_count": 13,
      "metadata": {
        "id": "8_iDQCz2uqRD",
        "outputId": "afb22c83-dae6-4129-ee0f-9b48e53ddbb9",
        "colab": {
          "base_uri": "https://localhost:8080/"
        }
      },
      "outputs": [
        {
          "output_type": "stream",
          "name": "stdout",
          "text": [
            "Antonia Scott\n"
          ]
        }
      ],
      "source": [
        "nombre = \"Antonia\"\n",
        "apellido = \"Scott\"\n",
        "\n",
        "nombre_apellido = nombre + \" \" + apellido\n",
        "print(nombre_apellido)"
      ]
    },
    {
      "cell_type": "code",
      "source": [
        "esto_es_una_prueba = \"Pues eso, que estamos jugando\"\n",
        "un_entero = 100\n",
        "print(esto_es_una_prueba + un_entero)"
      ],
      "metadata": {
        "id": "2utIQe_-7NM4",
        "outputId": "38c366db-3328-4804-aff0-e2e67a26839d",
        "colab": {
          "base_uri": "https://localhost:8080/",
          "height": 176
        }
      },
      "execution_count": 16,
      "outputs": [
        {
          "output_type": "error",
          "ename": "TypeError",
          "evalue": "can only concatenate str (not \"int\") to str",
          "traceback": [
            "\u001b[0;31m---------------------------------------------------------------------------\u001b[0m",
            "\u001b[0;31mTypeError\u001b[0m                                 Traceback (most recent call last)",
            "\u001b[0;32m/tmp/ipython-input-1140124639.py\u001b[0m in \u001b[0;36m<cell line: 0>\u001b[0;34m()\u001b[0m\n\u001b[1;32m      1\u001b[0m \u001b[0mesto_es_una_prueba\u001b[0m \u001b[0;34m=\u001b[0m \u001b[0;34m\"Pues eso, que estamos jugando\"\u001b[0m\u001b[0;34m\u001b[0m\u001b[0;34m\u001b[0m\u001b[0m\n\u001b[1;32m      2\u001b[0m \u001b[0mun_entero\u001b[0m \u001b[0;34m=\u001b[0m \u001b[0;36m100\u001b[0m\u001b[0;34m\u001b[0m\u001b[0;34m\u001b[0m\u001b[0m\n\u001b[0;32m----> 3\u001b[0;31m \u001b[0mprint\u001b[0m\u001b[0;34m(\u001b[0m\u001b[0mesto_es_una_prueba\u001b[0m \u001b[0;34m+\u001b[0m \u001b[0mun_entero\u001b[0m\u001b[0;34m)\u001b[0m\u001b[0;34m\u001b[0m\u001b[0;34m\u001b[0m\u001b[0m\n\u001b[0m",
            "\u001b[0;31mTypeError\u001b[0m: can only concatenate str (not \"int\") to str"
          ]
        }
      ]
    },
    {
      "cell_type": "markdown",
      "metadata": {
        "id": "wDAkMt23uqRD"
      },
      "source": [
        "### Booleano\n",
        "[al indice](#Contenidos)\n",
        "Por último, el cuarto tipo de datos basiquísimo es el *booleano*: `True`/`False`. Para que Python reconoza este tipo de datos, hay que escribirlos con la primera letra en mayúscula"
      ]
    },
    {
      "cell_type": "code",
      "execution_count": 20,
      "metadata": {
        "id": "mlyZHhDRuqRD",
        "outputId": "9b9dd008-fafe-4083-c813-a2e288f7681b",
        "colab": {
          "base_uri": "https://localhost:8080/"
        }
      },
      "outputs": [
        {
          "output_type": "execute_result",
          "data": {
            "text/plain": [
              "True"
            ]
          },
          "metadata": {},
          "execution_count": 20
        }
      ],
      "source": [
        "True"
      ]
    },
    {
      "cell_type": "code",
      "source": [
        "ya_se_de_python = False\n",
        "print(ya_se_de_python)\n",
        "print(type(ya_se_de_python))"
      ],
      "metadata": {
        "id": "jl8xX6ew70Nq",
        "outputId": "b6fd9c2b-a16c-4084-81ad-dd628212f116",
        "colab": {
          "base_uri": "https://localhost:8080/"
        }
      },
      "execution_count": 24,
      "outputs": [
        {
          "output_type": "stream",
          "name": "stdout",
          "text": [
            "False\n",
            "<class 'bool'>\n"
          ]
        }
      ]
    },
    {
      "cell_type": "code",
      "source": [
        "dinerito = 5\n",
        "dinerito >= 15"
      ],
      "metadata": {
        "id": "O9RsQMgp8B8p",
        "outputId": "442c860e-c0ab-4594-f635-9bb57a683364",
        "colab": {
          "base_uri": "https://localhost:8080/"
        }
      },
      "execution_count": 25,
      "outputs": [
        {
          "output_type": "execute_result",
          "data": {
            "text/plain": [
              "False"
            ]
          },
          "metadata": {},
          "execution_count": 25
        }
      ]
    },
    {
      "cell_type": "code",
      "source": [
        "dinerito = 15\n",
        "cond_1 = dinerito >= 15\n",
        "print(cond_1)\n",
        "print(type(cond_1))"
      ],
      "metadata": {
        "id": "hobABOs58O8G",
        "outputId": "997685d8-8b9f-4982-9d28-64b231114479",
        "colab": {
          "base_uri": "https://localhost:8080/"
        }
      },
      "execution_count": 26,
      "outputs": [
        {
          "output_type": "stream",
          "name": "stdout",
          "text": [
            "True\n",
            "<class 'bool'>\n"
          ]
        }
      ]
    },
    {
      "cell_type": "markdown",
      "metadata": {
        "id": "gWKealPpuqRE"
      },
      "source": [
        "Tipos de datos hay muchos, verás más adelante cómo crear tus propios tipos de datos mediante las clases y los objetos. Pero por ahora, quédate con los tipos de datos más simples:\n",
        "* **int**: entero\n",
        "* **float**: real\n",
        "* **str**: cadena de texto\n",
        "* **booleano**: true/false"
      ]
    },
    {
      "cell_type": "markdown",
      "metadata": {
        "id": "sWHxjqccuqRE"
      },
      "source": [
        "En otros lenguajes de programación el valor numérico suele ir más desagregado dependiendo del volumen del mismo. No es lo mismo tener un `double`, que un `float`. Por suerte en Python no hay que preocuparse de eso :)\n",
        "\n",
        "Veamos más ejemplos"
      ]
    },
    {
      "cell_type": "code",
      "execution_count": 27,
      "metadata": {
        "id": "7lqR02I2uqRF",
        "outputId": "eff8e9fd-e42c-4eaa-f0f6-32cb833a6590",
        "colab": {
          "base_uri": "https://localhost:8080/"
        }
      },
      "outputs": [
        {
          "output_type": "stream",
          "name": "stdout",
          "text": [
            "<class 'float'>\n"
          ]
        }
      ],
      "source": [
        "print(type(1.0))"
      ]
    },
    {
      "cell_type": "code",
      "execution_count": 29,
      "metadata": {
        "id": "Q4PSshpauqRF",
        "outputId": "a7b155d3-ff3c-492c-fe3b-d494d2062d0b",
        "colab": {
          "base_uri": "https://localhost:8080/"
        }
      },
      "outputs": [
        {
          "output_type": "stream",
          "name": "stdout",
          "text": [
            "<class 'int'>\n"
          ]
        }
      ],
      "source": [
        "print(type(-74))"
      ]
    },
    {
      "cell_type": "code",
      "source": [
        "print(type(\"3.45\"))"
      ],
      "metadata": {
        "id": "QGGMvlAm8tHt",
        "outputId": "f6816706-a81d-4241-aea4-a87a292dd5c5",
        "colab": {
          "base_uri": "https://localhost:8080/"
        }
      },
      "execution_count": 31,
      "outputs": [
        {
          "output_type": "stream",
          "name": "stdout",
          "text": [
            "<class 'str'>\n"
          ]
        }
      ]
    },
    {
      "cell_type": "code",
      "source": [
        "print(type(True))"
      ],
      "metadata": {
        "id": "D-pwS7yI8xpA",
        "outputId": "569a823c-e390-4a66-dfe3-89d57b832056",
        "colab": {
          "base_uri": "https://localhost:8080/"
        }
      },
      "execution_count": 33,
      "outputs": [
        {
          "output_type": "stream",
          "name": "stdout",
          "text": [
            "<class 'bool'>\n"
          ]
        }
      ]
    },
    {
      "cell_type": "code",
      "source": [
        "print(type(cond_1))"
      ],
      "metadata": {
        "id": "TRWuxMnH81jy",
        "outputId": "63333afa-6b63-41b7-827b-f2c0b16e5337",
        "colab": {
          "base_uri": "https://localhost:8080/"
        }
      },
      "execution_count": 34,
      "outputs": [
        {
          "output_type": "stream",
          "name": "stdout",
          "text": [
            "<class 'bool'>\n"
          ]
        }
      ]
    }
  ],
  "nbformat": 4,
  "nbformat_minor": 0,
  "metadata": {
    "kernelspec": {
      "display_name": "Python 3",
      "language": "python",
      "name": "python3"
    },
    "language_info": {
      "codemirror_mode": {
        "name": "ipython",
        "version": 3
      },
      "file_extension": ".py",
      "mimetype": "text/x-python",
      "name": "python",
      "nbconvert_exporter": "python",
      "pygments_lexer": "ipython3",
      "version": "3.8.3"
    },
    "colab": {
      "provenance": [],
      "include_colab_link": true
    }
  }
}