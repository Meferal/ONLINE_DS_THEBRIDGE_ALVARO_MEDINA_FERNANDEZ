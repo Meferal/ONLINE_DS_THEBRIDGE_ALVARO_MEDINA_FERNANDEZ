{
  "cells": [
    {
      "cell_type": "markdown",
      "metadata": {
        "id": "GQeUpGZl0lvB"
      },
      "source": [
        "![TheBridge_Python_v0.png](attachment:TheBridge_Python_v0.png)"
      ]
    },
    {
      "cell_type": "markdown",
      "metadata": {
        "id": "FhKaYApg0lvD"
      },
      "source": [
        "## Colecciones Python: Diccionarios\n"
      ]
    },
    {
      "cell_type": "markdown",
      "metadata": {
        "id": "aPuS5f4D0lvE"
      },
      "source": [
        "### Contenidos\n"
      ]
    },
    {
      "cell_type": "markdown",
      "metadata": {
        "id": "5xb5OvKt0lvE"
      },
      "source": [
        "* [Introducción](#Introducción)\n",
        "\n",
        "* [Acceso, modificación, añadir, eliminar](#Acceso,-modificación,-añadir,-eliminar)\n",
        "\n",
        "* [Iterar](#Iterar)\n",
        "\n"
      ]
    },
    {
      "cell_type": "markdown",
      "metadata": {
        "id": "rWIYgM360lvF"
      },
      "source": [
        "### Introducción\n",
        "[al indice](#Contenidos)  \n",
        "\n",
        "En este tipo de colecciones no solo podemos agrupar datos, sino que tenemos la posibilidad de establecer una relación entre los mismos, con la forma **clave: valor**.\n",
        "\n",
        "La sintaxis  es mediante llaves `{}`\n",
        "\n",
        "> nombre_diccionario = {clave1: valor1, clave2: valor2, clave3: valor3}\n",
        "\n",
        "Si veíamos que las listas son elementos mutables y y ordenadas, y las tuplas inmutables y ordenadas, los diccionarios son:\n",
        "\n",
        "* **Mutables**: podemos modificar sus elementos\n",
        "* **Desordenado**: la potencia de acceso de los diccionarios es su formato clave-valor, no su orden. Aun así, el dicionario conserva el orden de los elemento según los vamos insertando.\n",
        "\n",
        "Vamos a declarar un diccionario en el que definiremos elementos de un coche"
      ]
    },
    {
      "cell_type": "code",
      "execution_count": 5,
      "metadata": {
        "id": "Tp3oLFzc0lvG",
        "outputId": "be51a134-1b78-4c50-bbe1-7ef1546d54de",
        "colab": {
          "base_uri": "https://localhost:8080/"
        }
      },
      "outputs": [
        {
          "output_type": "execute_result",
          "data": {
            "text/plain": [
              "{'color': 'Rojo',\n",
              " 'marca': 'Tesla',\n",
              " 'modelo': 'Cybertruck',\n",
              " 'peso': 3500,\n",
              " 'Cambio automático': True}"
            ]
          },
          "metadata": {},
          "execution_count": 5
        }
      ],
      "source": [
        "coche_dict = {\n",
        "    \"color\": \"Rojo\",\n",
        "    \"marca\": \"Tesla\",\n",
        "    \"modelo\": \"Cybertruck\",\n",
        "    \"peso\": 3500,\n",
        "    \"Cambio automático\": True\n",
        "}\n",
        "coche_dict"
      ]
    },
    {
      "cell_type": "markdown",
      "metadata": {
        "id": "mMFB-_ZF0lvH"
      },
      "source": [
        "Se puede almacenar todo tipo de datos: numero, cadena, booleano, listas, tuplas, diccionarios...\n",
        "\n",
        "Cuando declaremos el diccionario, lo podemos hacer en una sola linea `coche = {\"color\"=\"Gris\", \"marca\"...}`, aunque se recomienda por sencillez a la hora de leer el código, realizar esta acción en varias líneas. Si escribimos el primer elemento y presionamos enter, Jupyter introduce automáticamente la tabulación."
      ]
    },
    {
      "cell_type": "markdown",
      "metadata": {
        "id": "f-l79lfj0lvH"
      },
      "source": [
        "### Acceso, modificación, añadir, eliminar\n",
        "[al indice](#Contenidos)  \n",
        "\n"
      ]
    },
    {
      "cell_type": "code",
      "execution_count": 6,
      "metadata": {
        "id": "CJCB6Q2m0lvI",
        "outputId": "0c386283-f21b-4fb7-be36-66138c09d8f2",
        "colab": {
          "base_uri": "https://localhost:8080/"
        }
      },
      "outputs": [
        {
          "output_type": "stream",
          "name": "stdout",
          "text": [
            "Rojo\n",
            "3500\n",
            "{'color': ['rojo', 'gris'], 'marca': 'Tesla', 'modelo': 'Cybertruck', 'peso': 3500, 'Cambio automático': True}\n",
            "6\n",
            "{'color': ['rojo', 'gris'], 'marca': 'Tesla', 'modelo': 'Cybertruck', 'peso': 3500, 'Cambio automático': True}\n",
            "dict_values([['rojo', 'gris'], 'Tesla', 'Cybertruck', 3500, True])\n",
            "dict_values([['rojo', 'gris'], 'Tesla', 'Cybertruck', 3500, True])\n"
          ]
        }
      ],
      "source": [
        "# Acceso\n",
        "print(coche_dict[\"color\"])\n",
        "print(coche_dict[\"peso\"])\n",
        "\n",
        "# print(coche_dict[\"puertas\"]) si se pide una clave que no existe da error\n",
        "coche_dict[\"color\"] = [\"rojo\", \"gris\"]\n",
        "print(coche_dict)\n",
        "\n",
        "# Añadir elemento\n",
        "coche_dict[\"puertas\"] = 6\n",
        "print(coche_dict[\"puertas\"])\n",
        "\n",
        "# Eliminar elemento\n",
        "del coche_dict[\"puertas\"]\n",
        "print(coche_dict)\n",
        "\n",
        "# Conocer las claves del diccionario\n",
        "coche_dict.keys()\n",
        "\n",
        "# Conocer los valores del diccionario\n",
        "print(coche_dict.values())\n",
        "\n",
        "# Conocer los items del diccionario\n",
        "print(coche_dict.values())"
      ]
    },
    {
      "cell_type": "markdown",
      "metadata": {
        "id": "ARCpLNOp0lvI"
      },
      "source": [
        "Para más detalle de los métodos de los diccionario puedes [consultar la documentación](https://www.w3schools.com/python/python_ref_dictionary.asp)"
      ]
    },
    {
      "cell_type": "code",
      "execution_count": 7,
      "metadata": {
        "id": "u5Alk4r70lvJ",
        "outputId": "47966968-0a30-4964-faad-47bf58dace3b",
        "colab": {
          "base_uri": "https://localhost:8080/"
        }
      },
      "outputs": [
        {
          "output_type": "stream",
          "name": "stdout",
          "text": [
            "{'direccion': 'Montesa 12', 'tamaño': 123}\n"
          ]
        }
      ],
      "source": [
        "# Podemos empezar tambien mediante un diccionario vacío\n",
        "tienda = {}\n",
        "tienda[\"direccion\"] = \"Montesa 12\"\n",
        "tienda[\"tamaño\"] = 123\n",
        "print(tienda)"
      ]
    },
    {
      "cell_type": "markdown",
      "metadata": {
        "id": "nq4ZquwA0lvK"
      },
      "source": [
        "<table align=\"left\">\n",
        " <tr>\n",
        "     <td style=\"text-align:left\">\n",
        "         <h3>ERRORES en diccionarios</h3>\n",
        "         \n",
        " </td></tr>\n",
        "</table>"
      ]
    },
    {
      "cell_type": "markdown",
      "metadata": {
        "id": "BGFwHhPB0lvK"
      },
      "source": [
        "Si hay una clave que no existe en el diccionario, saltará un error.\n",
        "\n",
        "En este caso, el error es bastante intuitivo: `KeyError`, no encuentra la clave"
      ]
    },
    {
      "cell_type": "code",
      "execution_count": 8,
      "metadata": {
        "id": "4PJMl2wU0lvK",
        "outputId": "a0cd0d76-d0e1-4307-b95c-740310458a4f",
        "colab": {
          "base_uri": "https://localhost:8080/",
          "height": 141
        }
      },
      "outputs": [
        {
          "output_type": "error",
          "ename": "KeyError",
          "evalue": "'puertas'",
          "traceback": [
            "\u001b[0;31m---------------------------------------------------------------------------\u001b[0m",
            "\u001b[0;31mKeyError\u001b[0m                                  Traceback (most recent call last)",
            "\u001b[0;32m/tmp/ipython-input-3251859620.py\u001b[0m in \u001b[0;36m<cell line: 0>\u001b[0;34m()\u001b[0m\n\u001b[0;32m----> 1\u001b[0;31m \u001b[0mcoche_dict\u001b[0m\u001b[0;34m[\u001b[0m\u001b[0;34m\"puertas\"\u001b[0m\u001b[0;34m]\u001b[0m\u001b[0;34m\u001b[0m\u001b[0;34m\u001b[0m\u001b[0m\n\u001b[0m",
            "\u001b[0;31mKeyError\u001b[0m: 'puertas'"
          ]
        }
      ],
      "source": [
        "coche_dict[\"puertas\"]"
      ]
    },
    {
      "cell_type": "markdown",
      "metadata": {
        "id": "mVL3ON1p0lvL"
      },
      "source": [
        "**¿Cómo solventar esto?** Sirmpre tienes la opción de usar el bloque `try/except`, pero en este caso, los diccionarios tienen una solución más elegante: `mi_diccionario.get(clave, valor si no existe)`"
      ]
    },
    {
      "cell_type": "code",
      "execution_count": 10,
      "metadata": {
        "id": "OLLRH3kE0lvL",
        "outputId": "7f4aa099-96e5-4f06-e3d9-b680b116c513",
        "colab": {
          "base_uri": "https://localhost:8080/"
        }
      },
      "outputs": [
        {
          "output_type": "stream",
          "name": "stdout",
          "text": [
            "4\n",
            "Tesla\n"
          ]
        }
      ],
      "source": [
        "numero_de_puertas = coche_dict.get(\"puertas\", 4)\n",
        "print(numero_de_puertas)\n",
        "marca = coche_dict.get(\"marca\", \"desconocida\")\n",
        "print(marca)"
      ]
    },
    {
      "cell_type": "markdown",
      "metadata": {
        "id": "bvyP19Yr0lvL"
      },
      "source": [
        "### Iterar\n",
        "[al indice](#Contenidos)  \n",
        "\n",
        "Que el diccionario no esté ordenado, no quiere decir que no podamos iterar sus elementos, ya que también es un **interable**, como los son las listas o las tuplas."
      ]
    },
    {
      "cell_type": "code",
      "execution_count": 12,
      "metadata": {
        "id": "37OKAjSL0lvL",
        "outputId": "ef54578d-5b87-48d7-8c21-809cb2265b99",
        "colab": {
          "base_uri": "https://localhost:8080/"
        }
      },
      "outputs": [
        {
          "output_type": "stream",
          "name": "stdout",
          "text": [
            "color\n",
            "['rojo', 'gris']\n",
            "marca\n",
            "Tesla\n",
            "modelo\n",
            "Cybertruck\n",
            "peso\n",
            "3500\n",
            "Cambio automático\n",
            "True\n"
          ]
        }
      ],
      "source": [
        "for i in coche_dict:\n",
        "  print(i)\n",
        "  print(coche_dict[i])"
      ]
    },
    {
      "cell_type": "code",
      "execution_count": 13,
      "metadata": {
        "id": "U_pTvUbg0lvM",
        "outputId": "a390db1d-a8d3-4eff-abe1-83181471b539",
        "colab": {
          "base_uri": "https://localhost:8080/"
        }
      },
      "outputs": [
        {
          "output_type": "stream",
          "name": "stdout",
          "text": [
            "color : ['rojo', 'gris']\n",
            "marca : Tesla\n",
            "modelo : Cybertruck\n",
            "peso : 3500\n",
            "Cambio automático : True\n"
          ]
        }
      ],
      "source": [
        "for i in coche_dict:\n",
        "  print(i, \":\", coche_dict[i])"
      ]
    },
    {
      "cell_type": "code",
      "source": [
        "coche_dict.items()"
      ],
      "metadata": {
        "id": "IniptzDsUwQX",
        "outputId": "29e2ec6c-af4b-46ab-d871-f233df98fff4",
        "colab": {
          "base_uri": "https://localhost:8080/"
        }
      },
      "execution_count": 14,
      "outputs": [
        {
          "output_type": "execute_result",
          "data": {
            "text/plain": [
              "dict_items([('color', ['rojo', 'gris']), ('marca', 'Tesla'), ('modelo', 'Cybertruck'), ('peso', 3500), ('Cambio automático', True)])"
            ]
          },
          "metadata": {},
          "execution_count": 14
        }
      ]
    },
    {
      "cell_type": "code",
      "source": [
        "for clave,valor in coche_dict.items():\n",
        "  print(clave, \":\", valor)"
      ],
      "metadata": {
        "id": "o8kYE2BwU09o",
        "outputId": "ac050513-6164-4aa4-9362-e4eae9bf551b",
        "colab": {
          "base_uri": "https://localhost:8080/"
        }
      },
      "execution_count": 15,
      "outputs": [
        {
          "output_type": "stream",
          "name": "stdout",
          "text": [
            "color : ['rojo', 'gris']\n",
            "marca : Tesla\n",
            "modelo : Cybertruck\n",
            "peso : 3500\n",
            "Cambio automático : True\n"
          ]
        }
      ]
    }
  ],
  "metadata": {
    "kernelspec": {
      "display_name": "Python 3 (ipykernel)",
      "language": "python",
      "name": "python3"
    },
    "language_info": {
      "codemirror_mode": {
        "name": "ipython",
        "version": 3
      },
      "file_extension": ".py",
      "mimetype": "text/x-python",
      "name": "python",
      "nbconvert_exporter": "python",
      "pygments_lexer": "ipython3",
      "version": "3.9.7"
    },
    "colab": {
      "provenance": []
    }
  },
  "nbformat": 4,
  "nbformat_minor": 0
}