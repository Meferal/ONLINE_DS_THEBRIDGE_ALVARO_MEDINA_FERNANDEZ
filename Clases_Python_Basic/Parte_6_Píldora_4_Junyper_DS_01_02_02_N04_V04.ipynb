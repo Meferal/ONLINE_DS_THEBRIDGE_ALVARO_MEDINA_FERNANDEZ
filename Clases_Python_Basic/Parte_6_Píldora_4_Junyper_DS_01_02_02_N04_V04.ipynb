{
  "cells": [
    {
      "cell_type": "markdown",
      "metadata": {
        "id": "khDhQKekNgqG"
      },
      "source": [
        "![TheBridge_Python_v0.png](attachment:TheBridge_Python_v0.png)"
      ]
    },
    {
      "cell_type": "markdown",
      "metadata": {
        "id": "NipU9kFZNgqH"
      },
      "source": [
        "##  Constructores\n"
      ]
    },
    {
      "cell_type": "markdown",
      "metadata": {
        "id": "rLshXRd5NgqI"
      },
      "source": [
        "### Contenidos\n"
      ]
    },
    {
      "cell_type": "markdown",
      "metadata": {
        "id": "4sAaQO-gNgqI"
      },
      "source": [
        "* [Introducción  ](#Introducción--)\n",
        "\n"
      ]
    },
    {
      "cell_type": "markdown",
      "metadata": {
        "id": "m_1ApM8INgqI"
      },
      "source": [
        "### Introducción  \n",
        "[al indice](#Contenidos)  \n",
        "\n",
        "Veíamos en la sesión anterior que cuando creamos un objeto de la clase *Coche* sin más, este objeto adquiere los atributos por defecto de la clase. Si queremos definirlo bien \"de primeras\" (en su instanciación o creación) para diferenciarlo de otros coches, necesitamos algo más.  \n",
        "\n",
        "Ese algo más que me permite la definición inicial, es lo que se denomina constructor de la clase.\n",
        "\n",
        "Será un método, muy similar a una función, al que daremos unos argumentos de entrada que sustituirán a los valores por defecto y que nos permitirán diferenciar esa instancia de otras instancias de la misma clase.\n",
        "\n",
        "**¿Cómo se define un constructor?** Mediante la función `__init__`, dentro de la clase."
      ]
    },
    {
      "cell_type": "code",
      "execution_count": 1,
      "metadata": {
        "id": "76jDw2KONgqJ"
      },
      "outputs": [],
      "source": [
        "class Coche:\n",
        "  puertas = 4\n",
        "  ruedas = 4\n",
        "\n",
        "  def __init__(self, marca_coche):\n",
        "    self.marca = marca_coche"
      ]
    },
    {
      "cell_type": "code",
      "source": [
        "tesla = Coche()"
      ],
      "metadata": {
        "id": "E8bNjTWwOJOD",
        "outputId": "cc5a6369-c840-4557-e0ef-ff450c76e0e1",
        "colab": {
          "base_uri": "https://localhost:8080/",
          "height": 158
        }
      },
      "execution_count": 2,
      "outputs": [
        {
          "output_type": "error",
          "ename": "TypeError",
          "evalue": "Coche.__init__() missing 1 required positional argument: 'marca_coche'",
          "traceback": [
            "\u001b[0;31m---------------------------------------------------------------------------\u001b[0m",
            "\u001b[0;31mTypeError\u001b[0m                                 Traceback (most recent call last)",
            "\u001b[0;32m/tmp/ipython-input-1675298387.py\u001b[0m in \u001b[0;36m<cell line: 0>\u001b[0;34m()\u001b[0m\n\u001b[0;32m----> 1\u001b[0;31m \u001b[0mtesla\u001b[0m \u001b[0;34m=\u001b[0m \u001b[0mCoche\u001b[0m\u001b[0;34m(\u001b[0m\u001b[0;34m)\u001b[0m\u001b[0;34m\u001b[0m\u001b[0;34m\u001b[0m\u001b[0m\n\u001b[0m",
            "\u001b[0;31mTypeError\u001b[0m: Coche.__init__() missing 1 required positional argument: 'marca_coche'"
          ]
        }
      ]
    },
    {
      "cell_type": "code",
      "source": [
        "tesla = Coche(\"Tesla\")\n",
        "print(tesla.marca)"
      ],
      "metadata": {
        "id": "EgCKPFNMOSQb",
        "outputId": "b9cbd490-9cee-4b6d-fcdd-1f5964a2fcb4",
        "colab": {
          "base_uri": "https://localhost:8080/"
        }
      },
      "execution_count": 3,
      "outputs": [
        {
          "output_type": "stream",
          "name": "stdout",
          "text": [
            "Tesla\n"
          ]
        }
      ]
    },
    {
      "cell_type": "markdown",
      "metadata": {
        "id": "fnGHvZQ-NgqJ"
      },
      "source": [
        "En la declaración del constructor hemos metido la palabra `self`. **Lo tendremos que poner siempre**. Hace referencia a la propia instancia de coche, es decir, a cuando creemos coches nuevos.\n",
        "\n",
        "En este caso estamos diferenciando los atributos comunes de la clase *Coche*, de los atributos particulares de los coches, como por ejemplo, la marca. Por eso la marca va junto con `self`, porque no hace referencia a la clase genércia de coche, sino a cada coche que creemos."
      ]
    },
    {
      "cell_type": "code",
      "execution_count": null,
      "metadata": {
        "id": "bMGbp7FANgqJ"
      },
      "outputs": [],
      "source": []
    },
    {
      "cell_type": "markdown",
      "metadata": {
        "id": "d1v4d_cbNgqJ"
      },
      "source": [
        "Ahora ya podemos diferenciar los coches por su marca. Para acceder al atributo de la marca, lo hacemos igual que con los anteriores."
      ]
    },
    {
      "cell_type": "code",
      "execution_count": 5,
      "metadata": {
        "id": "OGUrL16fNgqK",
        "outputId": "19fba6f5-fa6c-4299-e254-641dc9a847e9",
        "colab": {
          "base_uri": "https://localhost:8080/"
        }
      },
      "outputs": [
        {
          "output_type": "stream",
          "name": "stdout",
          "text": [
            "Mercedes\n",
            "Renault\n",
            "4\n",
            "4\n"
          ]
        }
      ],
      "source": [
        "mercedes = Coche(\"Mercedes\")\n",
        "renault = Coche(\"Renault\")\n",
        "print(mercedes.marca)\n",
        "print(renault.marca)\n",
        "print(mercedes.puertas)\n",
        "print(renault.puertas)"
      ]
    },
    {
      "cell_type": "markdown",
      "metadata": {
        "id": "cM9TMm44NgqK"
      },
      "source": [
        "Ya podemos solucionar el tema de que no todos los coches tienen 4 puertas"
      ]
    },
    {
      "cell_type": "code",
      "execution_count": 7,
      "metadata": {
        "id": "ZVCinHcMNgqK"
      },
      "outputs": [],
      "source": [
        "class Coche:\n",
        "  puertas = 4\n",
        "  ruedas = 4\n",
        "\n",
        "  def __init__(self,marca_coche, num_puertas):\n",
        "    self.marca = marca_coche\n",
        "    self.puertas = num_puertas"
      ]
    },
    {
      "cell_type": "code",
      "execution_count": 8,
      "metadata": {
        "id": "4ElDmqkLNgqK",
        "outputId": "af9c725a-0ee6-4501-be20-8b753bcf43d9",
        "colab": {
          "base_uri": "https://localhost:8080/"
        }
      },
      "outputs": [
        {
          "output_type": "stream",
          "name": "stdout",
          "text": [
            "Tesla\n",
            "6\n",
            "Mercedes\n",
            "8\n"
          ]
        }
      ],
      "source": [
        "tesla = Coche(\"Tesla\", 6)\n",
        "mercedes_500 = Coche(\"Mercedes\", 8)\n",
        "print(tesla.marca)\n",
        "print(tesla.puertas)\n",
        "print(mercedes_500.marca)\n",
        "print(mercedes_500.puertas)"
      ]
    },
    {
      "cell_type": "code",
      "source": [
        "class Coche:\n",
        "  puertas = 4\n",
        "  ruedas = 4\n",
        "\n",
        "  def __init__(self,marca_coche, num_puertas = 4, num_ruedas = 4):\n",
        "    self.marca = marca_coche\n",
        "    self.puertas = num_puertas\n",
        "    self.ruedas = num_ruedas"
      ],
      "metadata": {
        "id": "GuEVtFFEPk6c"
      },
      "execution_count": 9,
      "outputs": []
    },
    {
      "cell_type": "code",
      "source": [
        "tesla_4 = Coche(\"Tesla\")\n",
        "tesla_6r = Coche(\"Tesla\",num_ruedas = 6)\n",
        "print(tesla_4.marca)\n",
        "print(tesla_4.puertas)\n",
        "print(tesla_4.ruedas)\n",
        "print(tesla_6r.marca)\n",
        "print(tesla_6r.puertas)\n",
        "print(tesla_6r.ruedas)"
      ],
      "metadata": {
        "id": "QBvyCx6DPumM",
        "outputId": "1944ca27-48b8-473f-f2d9-e543d01d93fe",
        "colab": {
          "base_uri": "https://localhost:8080/"
        }
      },
      "execution_count": 10,
      "outputs": [
        {
          "output_type": "stream",
          "name": "stdout",
          "text": [
            "Tesla\n",
            "4\n",
            "4\n",
            "Tesla\n",
            "4\n",
            "6\n"
          ]
        }
      ]
    }
  ],
  "metadata": {
    "kernelspec": {
      "display_name": "Python 3 (ipykernel)",
      "language": "python",
      "name": "python3"
    },
    "language_info": {
      "codemirror_mode": {
        "name": "ipython",
        "version": 3
      },
      "file_extension": ".py",
      "mimetype": "text/x-python",
      "name": "python",
      "nbconvert_exporter": "python",
      "pygments_lexer": "ipython3",
      "version": "3.9.7"
    },
    "colab": {
      "provenance": []
    }
  },
  "nbformat": 4,
  "nbformat_minor": 0
}