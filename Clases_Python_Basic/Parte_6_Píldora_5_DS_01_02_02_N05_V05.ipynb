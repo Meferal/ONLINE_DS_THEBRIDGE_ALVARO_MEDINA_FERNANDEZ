{
  "cells": [
    {
      "cell_type": "markdown",
      "metadata": {
        "id": "6Oj_OmATCFJQ"
      },
      "source": [
        "![TheBridge_Python_v0.png](attachment:TheBridge_Python_v0.png)"
      ]
    },
    {
      "cell_type": "markdown",
      "metadata": {
        "id": "AUk_h9_hCFJS"
      },
      "source": [
        "##  Métodos\n"
      ]
    },
    {
      "cell_type": "markdown",
      "metadata": {
        "id": "FDlj7uMeCFJS"
      },
      "source": [
        "### Contenidos\n"
      ]
    },
    {
      "cell_type": "markdown",
      "metadata": {
        "id": "EhVUN4LkCFJT"
      },
      "source": [
        "* [Introducción  ](#Introducción--)\n",
        "\n"
      ]
    },
    {
      "cell_type": "markdown",
      "metadata": {
        "id": "fb0ub0x3CFJT"
      },
      "source": [
        "### Introducción  \n",
        "[al indice](#Contenidos)  \n",
        "\n",
        "Son funciones que podemos definir dentro de las clases. Estas funciones cambiarán el estado de algún atributo o realizarán cálculos que nos sirvan de output. Un ejemplo sencillo puede ser, un método de la clase coche que saque la potencia en kilovatios, en vez de en caballos. O si tiene un estado de mantenimiento (ITV pasada o no), que modifique ese estado.\n",
        "\n",
        "El constructor es un tipo de método. La diferencia con el resto de métodos radica en su nombre, `__init__`. La sintaxis para definir los métodos es como si fuese una función. Y luego para llamar al método se utiliza `objeto.metodo(argumentos_metodo)`. Esto ya lo hemos usado anteriormente, cuando haciamos un `string.lower()`, simplemente llamábamos al método `lower()`, que no requería de argumentos, de la clase *string*."
      ]
    },
    {
      "cell_type": "code",
      "execution_count": 13,
      "metadata": {
        "id": "ePbMjBDMCFJT"
      },
      "outputs": [],
      "source": [
        "class Coche:\n",
        "    ruedas = 4\n",
        "\n",
        "    def __init__(self, marca_coche, num_puertas = 4):\n",
        "        self.marca = marca_coche\n",
        "        self.puertas = num_puertas\n",
        "\n",
        "    def caracteristicas(self):\n",
        "      return \"Marca: \" + self.marca + \", Puertas: \" + str(self.puertas)"
      ]
    },
    {
      "cell_type": "code",
      "execution_count": 14,
      "metadata": {
        "id": "nuJFpS4LCFJU",
        "outputId": "5bfb7a0c-d940-4777-83c9-14c7d3333adb",
        "colab": {
          "base_uri": "https://localhost:8080/",
          "height": 36
        }
      },
      "outputs": [
        {
          "output_type": "execute_result",
          "data": {
            "text/plain": [
              "'Marca: Ford, Puertas: 4'"
            ],
            "application/vnd.google.colaboratory.intrinsic+json": {
              "type": "string"
            }
          },
          "metadata": {},
          "execution_count": 14
        }
      ],
      "source": [
        "ford_ka = Coche(\"Ford\")\n",
        "ford_ka.caracteristicas()"
      ]
    },
    {
      "cell_type": "markdown",
      "metadata": {
        "id": "vDAYUCBZCFJU"
      },
      "source": [
        "Fíjate que para llamar a las ruedas se usa `self`, a pesar de que no lo habíamos metido en el constructor. Así evitamos llamar a otra variable del programa que se llame *ruedas*. Nos aseguramos que son las ruedas de ese coche con el `self`."
      ]
    },
    {
      "cell_type": "code",
      "execution_count": 15,
      "metadata": {
        "id": "axuUXKyyCFJV"
      },
      "outputs": [],
      "source": [
        "class Coche:\n",
        "    ruedas = 4\n",
        "\n",
        "    def __init__(self, marca_coche, precio_coche, num_puertas = 4):\n",
        "        self.marca = marca_coche\n",
        "        self.puertas = num_puertas\n",
        "        self.precio = precio_coche\n",
        "\n",
        "    def caracteristicas(self):\n",
        "      return \"Marca: \" + self.marca + \", Puertas: \" + str(self.puertas)\n",
        "\n",
        "    def precio_actual(self, agnos):\n",
        "      if agnos <= 5:\n",
        "        return self.precio * 0.7\n",
        "      elif 5 < agnos < 10:\n",
        "         return self.precio * 0.5\n",
        "      elif agnos >= 10:\n",
        "        return self.precio * 0.3\n"
      ]
    },
    {
      "cell_type": "code",
      "execution_count": 16,
      "metadata": {
        "id": "Pd_hKV4MCFJV",
        "outputId": "16285e5b-0e63-4d96-f044-2d205be3f9fe",
        "colab": {
          "base_uri": "https://localhost:8080/"
        }
      },
      "outputs": [
        {
          "output_type": "execute_result",
          "data": {
            "text/plain": [
              "17500.0"
            ]
          },
          "metadata": {},
          "execution_count": 16
        }
      ],
      "source": [
        "jeep_cherokee = Coche(\"Jeep\", 35000)\n",
        "jeep_cherokee.precio_actual(8)"
      ]
    }
  ],
  "metadata": {
    "kernelspec": {
      "display_name": "Python 3 (ipykernel)",
      "language": "python",
      "name": "python3"
    },
    "language_info": {
      "codemirror_mode": {
        "name": "ipython",
        "version": 3
      },
      "file_extension": ".py",
      "mimetype": "text/x-python",
      "name": "python",
      "nbconvert_exporter": "python",
      "pygments_lexer": "ipython3",
      "version": "3.9.7"
    },
    "colab": {
      "provenance": []
    }
  },
  "nbformat": 4,
  "nbformat_minor": 0
}