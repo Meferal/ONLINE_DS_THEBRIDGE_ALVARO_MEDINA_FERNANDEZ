{
  "cells": [
    {
      "cell_type": "markdown",
      "metadata": {
        "id": "snUBhvbOvYfx"
      },
      "source": [
        "![TheBridge_Python_v0.png](attachment:TheBridge_Python_v0.png)"
      ]
    },
    {
      "cell_type": "markdown",
      "metadata": {
        "id": "Z9bnjBZvvYfz"
      },
      "source": [
        "##  Argumentos variables\n"
      ]
    },
    {
      "cell_type": "markdown",
      "metadata": {
        "id": "2JIs0j1VvYf0"
      },
      "source": [
        "### Contenidos\n"
      ]
    },
    {
      "cell_type": "markdown",
      "metadata": {
        "id": "TNYzbnWfvYf0"
      },
      "source": [
        "* [Introducción  ](#Introducción--)\n"
      ]
    },
    {
      "cell_type": "markdown",
      "metadata": {
        "id": "E0_6xE58vYf0"
      },
      "source": [
        "### Introducción  \n",
        "[al indice](#Contenidos)  \n",
        "En los ejemplos de la sesión anterior teníamos que fijar un número concreto de argumentos para nuestras funciones, pero hay ocasiones que no tenemos seguro cuántos argumentos son. Por suerte, las funciones de Python nos aportan esa flexibilidad mediante `*`\n",
        "\n",
        "Veamos cómo implementar una función multiplicadora con numero variable de argumentos"
      ]
    },
    {
      "cell_type": "code",
      "execution_count": 2,
      "metadata": {
        "id": "KYikPzhYvYf0",
        "outputId": "82d821a0-2ebf-405d-b709-4bf38ae7b918",
        "colab": {
          "base_uri": "https://localhost:8080/"
        }
      },
      "outputs": [
        {
          "output_type": "stream",
          "name": "stdout",
          "text": [
            "(2, 3, 5)\n",
            "<class 'tuple'>\n",
            "(1, 2, 4, 67, 4)\n",
            "<class 'tuple'>\n"
          ]
        }
      ],
      "source": [
        "def multiplica(*argumentos):\n",
        "  print(argumentos)\n",
        "  print(type(argumentos))\n",
        "\n",
        "multiplica(2,3,5)\n",
        "multiplica(1,2,4,67,4)"
      ]
    },
    {
      "cell_type": "code",
      "source": [
        "def multiplica(*args):\n",
        "  resultado = 1\n",
        "  for indice, elemento in enumerate(args):\n",
        "    print(\"El siguiente elemento es\", args[indice])\n",
        "    resultado = resultado * elemento\n",
        "  print(\"El resultado es\", resultado)\n",
        "  return resultado\n",
        "\n",
        "multiplica(2,4,5)\n",
        "multiplica(23,12)\n",
        "multiplica()"
      ],
      "metadata": {
        "id": "PMpATJ3lv7b7",
        "outputId": "5fb24215-d2ab-41c9-97b9-ab9b128a1c82",
        "colab": {
          "base_uri": "https://localhost:8080/"
        }
      },
      "execution_count": 5,
      "outputs": [
        {
          "output_type": "stream",
          "name": "stdout",
          "text": [
            "El siguiente elemento es 2\n",
            "El siguiente elemento es 4\n",
            "El siguiente elemento es 5\n",
            "El resultado es 40\n",
            "El siguiente elemento es 23\n",
            "El siguiente elemento es 12\n",
            "El resultado es 276\n",
            "El resultado es 1\n"
          ]
        },
        {
          "output_type": "execute_result",
          "data": {
            "text/plain": [
              "1"
            ]
          },
          "metadata": {},
          "execution_count": 5
        }
      ]
    },
    {
      "cell_type": "markdown",
      "metadata": {
        "id": "OG9atFXgvYf1"
      },
      "source": [
        "Ten en cuenta que `*args` es algo variable con X elementos. Como no sabemos a priori cuantos son, tendremos que recorrerlos con un `for`, y para cada argumento, aplicarle una operación. Por tanto, `*args` es un iterable, en concreto una **tupla**. Lo que le está dando la funcionalidad de \"argumentos variables\" es `*`, no `args`. Igual que ponemos `*args`, podemos poner `*argumentos`.\n",
        "\n",
        "Puedes combinar argumentos posicionales con los `*args`"
      ]
    },
    {
      "cell_type": "code",
      "execution_count": 6,
      "metadata": {
        "id": "AbtH3WZUvYf1",
        "outputId": "7c9b5652-199c-4f8b-e03c-72cca55b12aa",
        "colab": {
          "base_uri": "https://localhost:8080/",
          "height": 193
        }
      },
      "outputs": [
        {
          "output_type": "error",
          "ename": "TypeError",
          "evalue": "multiplica_divide() missing 1 required keyword-only argument: 'div'",
          "traceback": [
            "\u001b[0;31m---------------------------------------------------------------------------\u001b[0m",
            "\u001b[0;31mTypeError\u001b[0m                                 Traceback (most recent call last)",
            "\u001b[0;32m/tmp/ipython-input-2648788622.py\u001b[0m in \u001b[0;36m<cell line: 0>\u001b[0;34m()\u001b[0m\n\u001b[1;32m      7\u001b[0m   \u001b[0;32mreturn\u001b[0m \u001b[0mresultado\u001b[0m\u001b[0;34m\u001b[0m\u001b[0;34m\u001b[0m\u001b[0m\n\u001b[1;32m      8\u001b[0m \u001b[0;34m\u001b[0m\u001b[0m\n\u001b[0;32m----> 9\u001b[0;31m \u001b[0mmultiplica_divide\u001b[0m\u001b[0;34m(\u001b[0m\u001b[0;36m10\u001b[0m\u001b[0;34m,\u001b[0m\u001b[0;36m34\u001b[0m\u001b[0;34m,\u001b[0m\u001b[0;36m21\u001b[0m\u001b[0;34m,\u001b[0m\u001b[0;36m5\u001b[0m\u001b[0;34m)\u001b[0m\u001b[0;34m\u001b[0m\u001b[0;34m\u001b[0m\u001b[0m\n\u001b[0m",
            "\u001b[0;31mTypeError\u001b[0m: multiplica_divide() missing 1 required keyword-only argument: 'div'"
          ]
        }
      ],
      "source": [
        "# En este ejemplo, uso el ultimo argumento para dividir todo lo que habiamos multiplicado por este argumento\n",
        "def multiplica_divide(*args, div):\n",
        "  resultado = 1\n",
        "  for i in args:\n",
        "    resultado = resultado * i\n",
        "  resultado = resultado / div\n",
        "  return resultado\n",
        "\n",
        "multiplica_divide(10,34,21,5)"
      ]
    },
    {
      "cell_type": "code",
      "source": [
        "def multiplica_divide(*args, div):\n",
        "  resultado = 1\n",
        "  for i in args:\n",
        "    resultado = resultado * i\n",
        "  resultado = resultado / div\n",
        "  return resultado\n",
        "\n",
        "multiplica_divide(10,34,21, div=5)"
      ],
      "metadata": {
        "id": "9Lr-217nylIb",
        "outputId": "fd18a0b0-0bd3-4f89-9700-9729f964b13a",
        "colab": {
          "base_uri": "https://localhost:8080/"
        }
      },
      "execution_count": 7,
      "outputs": [
        {
          "output_type": "execute_result",
          "data": {
            "text/plain": [
              "1428.0"
            ]
          },
          "metadata": {},
          "execution_count": 7
        }
      ]
    },
    {
      "cell_type": "code",
      "source": [
        "def multiplica_divide(div,*args):\n",
        "  resultado = 1\n",
        "  for i in args:\n",
        "    resultado = resultado * i\n",
        "  resultado = resultado / div\n",
        "  return resultado\n",
        "\n",
        "multiplica_divide(5,10,34,21)"
      ],
      "metadata": {
        "id": "Tc9Uqv06y0dr",
        "outputId": "8c2d03dc-043c-4b5a-ac0e-e33934fa5648",
        "colab": {
          "base_uri": "https://localhost:8080/"
        }
      },
      "execution_count": 8,
      "outputs": [
        {
          "output_type": "execute_result",
          "data": {
            "text/plain": [
              "1428.0"
            ]
          },
          "metadata": {},
          "execution_count": 8
        }
      ]
    },
    {
      "cell_type": "code",
      "source": [
        "def multiplica_divide(div,*args):\n",
        "  resultado = 1\n",
        "  for i in args:\n",
        "    resultado = resultado * i\n",
        "  resultado = resultado / div\n",
        "  return resultado\n",
        "\n",
        "multiplica_divide(10,34,21, div=5)"
      ],
      "metadata": {
        "id": "rHHgW0BDzIBT",
        "outputId": "d376abaf-ef46-4cd0-8a8d-0b66ed6b33c4",
        "colab": {
          "base_uri": "https://localhost:8080/",
          "height": 176
        }
      },
      "execution_count": 9,
      "outputs": [
        {
          "output_type": "error",
          "ename": "TypeError",
          "evalue": "multiplica_divide() got multiple values for argument 'div'",
          "traceback": [
            "\u001b[0;31m---------------------------------------------------------------------------\u001b[0m",
            "\u001b[0;31mTypeError\u001b[0m                                 Traceback (most recent call last)",
            "\u001b[0;32m/tmp/ipython-input-81761223.py\u001b[0m in \u001b[0;36m<cell line: 0>\u001b[0;34m()\u001b[0m\n\u001b[1;32m      6\u001b[0m   \u001b[0;32mreturn\u001b[0m \u001b[0mresultado\u001b[0m\u001b[0;34m\u001b[0m\u001b[0;34m\u001b[0m\u001b[0m\n\u001b[1;32m      7\u001b[0m \u001b[0;34m\u001b[0m\u001b[0m\n\u001b[0;32m----> 8\u001b[0;31m \u001b[0mmultiplica_divide\u001b[0m\u001b[0;34m(\u001b[0m\u001b[0;36m10\u001b[0m\u001b[0;34m,\u001b[0m\u001b[0;36m34\u001b[0m\u001b[0;34m,\u001b[0m\u001b[0;36m21\u001b[0m\u001b[0;34m,\u001b[0m \u001b[0mdiv\u001b[0m\u001b[0;34m=\u001b[0m\u001b[0;36m5\u001b[0m\u001b[0;34m)\u001b[0m\u001b[0;34m\u001b[0m\u001b[0;34m\u001b[0m\u001b[0m\n\u001b[0m",
            "\u001b[0;31mTypeError\u001b[0m: multiplica_divide() got multiple values for argument 'div'"
          ]
        }
      ]
    },
    {
      "cell_type": "markdown",
      "metadata": {
        "id": "DyLvXs9kvYf2"
      },
      "source": [
        "<table align=\"left\">\n",
        " <tr>\n",
        "     <td style=\"text-align:left\">\n",
        "         <h3>ERRORES con argumentos variables</h3>\n",
        "         \n",
        " </td></tr>\n",
        "</table>"
      ]
    },
    {
      "cell_type": "markdown",
      "metadata": {
        "id": "oJQuNwS0vYf2"
      },
      "source": [
        "Declara los argumentos variables al principio, y los fijos al final para evitar errores. Además, si los combinas, tendrás que concretar cuáles son los argumentos fijos"
      ]
    },
    {
      "cell_type": "code",
      "execution_count": 1,
      "metadata": {
        "id": "I9UHjifDvYf2"
      },
      "outputs": [],
      "source": []
    },
    {
      "cell_type": "code",
      "execution_count": 1,
      "metadata": {
        "id": "rjlVS7zkvYf2"
      },
      "outputs": [],
      "source": []
    }
  ],
  "metadata": {
    "kernelspec": {
      "display_name": "Python 3 (ipykernel)",
      "language": "python",
      "name": "python3"
    },
    "language_info": {
      "codemirror_mode": {
        "name": "ipython",
        "version": 3
      },
      "file_extension": ".py",
      "mimetype": "text/x-python",
      "name": "python",
      "nbconvert_exporter": "python",
      "pygments_lexer": "ipython3",
      "version": "3.9.7"
    },
    "colab": {
      "provenance": []
    }
  },
  "nbformat": 4,
  "nbformat_minor": 0
}