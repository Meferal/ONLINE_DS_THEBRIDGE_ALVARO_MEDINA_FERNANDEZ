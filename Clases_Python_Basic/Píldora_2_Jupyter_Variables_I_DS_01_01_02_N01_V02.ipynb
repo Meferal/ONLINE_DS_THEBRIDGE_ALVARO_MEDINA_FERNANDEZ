{
  "cells": [
    {
      "cell_type": "markdown",
      "metadata": {
        "id": "view-in-github",
        "colab_type": "text"
      },
      "source": [
        "<a href=\"https://colab.research.google.com/github/Meferal/ONLINE_DS_THEBRIDGE_ALVARO_MEDINA_FERNANDEZ/blob/main/P%C3%ADldora_2_Jupyter_Variables_I_DS_01_01_02_N01_V02.ipynb\" target=\"_parent\"><img src=\"https://colab.research.google.com/assets/colab-badge.svg\" alt=\"Open In Colab\"/></a>"
      ]
    },
    {
      "cell_type": "markdown",
      "metadata": {
        "id": "t9k24ilStE3l"
      },
      "source": [
        "<img src=\"./img/TheBridge_logo_RGB_color.jpg\" width = 250>\n",
        "<img src=\"./img/python.jpg\" width = 250>"
      ]
    },
    {
      "cell_type": "markdown",
      "metadata": {
        "id": "3rV0f2u_tE3q"
      },
      "source": [
        "# Python Basics I: Variables\n",
        "\n",
        "\n",
        "Bienvenido a tu primer asalto con Python. Empezamos nuestra aventura declarando variables.\n",
        "\n",
        "Las variables son una manera de etiquetar y conservar los datos del programa para luego poder emplearlos en diferentes sitios."
      ]
    },
    {
      "cell_type": "markdown",
      "metadata": {
        "id": "MwBP-A48tE3r"
      },
      "source": [
        "## Contenidos"
      ]
    },
    {
      "cell_type": "markdown",
      "metadata": {
        "id": "YxEl7TqRtE3s"
      },
      "source": [
        "* [Variables numéricas\n",
        "](#Variables-numéricas\n",
        ")\n",
        "* [Cadenas de texto\n",
        "](#Cadenas-de-texto\n",
        ")\n",
        "* [Escribir mal el nombre\n",
        "](#Escribir-mal-el-nombre\n",
        ")\n",
        "* [Cerrar bien los strings\n",
        "](#Cerrar-bien-los-strings\n",
        ")\n",
        "* [Prohibido espacios en los nombres de las variables\n",
        "](#Prohibido-espacios-en-los-nombres-de-las-variables\n",
        ")\n",
        "* [Números en el nombre de la variable\n",
        "](#Números-en-el-nombre-de-la-variable\n",
        ")\n",
        "* [Sensible a mayusculas\n",
        "](#Sensible-a-mayusculas\n",
        ")\n",
        "* [Palabras reservadas\n",
        "](#Palabras-reservadas\n",
        ")\n",
        "* [Resumen variables\n",
        "](#Resumen-variables\n",
        ")\n"
      ]
    },
    {
      "cell_type": "markdown",
      "metadata": {
        "id": "cYafgflItE3t"
      },
      "source": [
        "### Variables numéricas\n",
        "[al indice](#Contenidos)\n",
        "\n"
      ]
    },
    {
      "cell_type": "code",
      "execution_count": 2,
      "metadata": {
        "id": "MtQbDAoPtE3u",
        "outputId": "acc92f57-d822-4ffa-b916-13431ec3e578",
        "colab": {
          "base_uri": "https://localhost:8080/"
        }
      },
      "outputs": [
        {
          "output_type": "stream",
          "name": "stdout",
          "text": [
            "[0.37403121 0.58362109 0.60861102 0.78054987 0.46283949 0.93136496\n",
            " 0.49377328 0.46900333 0.82900595 0.89494276]\n"
          ]
        }
      ],
      "source": [
        "# prompt: 10 random numbers using numpy\n",
        "\n",
        "import numpy as np\n",
        "\n",
        "random_numbers = np.random.rand(10)\n",
        "print(random_numbers)\n",
        "\n",
        "ingresos = 1000\n",
        "gastos = 400"
      ]
    },
    {
      "cell_type": "markdown",
      "metadata": {
        "id": "hQhUdzk5tE3v"
      },
      "source": [
        "**Esto es una asignación**. A la palabra *ingresos*, le asignamos un valor mediante `=`.\n",
        "Si queremos ver el valor de la variable, simplemente escribimos su nombre en una celda."
      ]
    },
    {
      "cell_type": "code",
      "execution_count": 3,
      "metadata": {
        "id": "YEx19cXYtE3v",
        "outputId": "71f2e663-ae29-4006-fdf1-f60ba1119fdd",
        "colab": {
          "base_uri": "https://localhost:8080/"
        }
      },
      "outputs": [
        {
          "output_type": "execute_result",
          "data": {
            "text/plain": [
              "1000"
            ]
          },
          "metadata": {},
          "execution_count": 3
        }
      ],
      "source": [
        "ingresos"
      ]
    },
    {
      "cell_type": "code",
      "execution_count": 4,
      "metadata": {
        "id": "rfE5NpJGtE3w",
        "outputId": "8155b57f-c97e-4081-8c69-81e206281b00",
        "colab": {
          "base_uri": "https://localhost:8080/"
        }
      },
      "outputs": [
        {
          "output_type": "execute_result",
          "data": {
            "text/plain": [
              "400"
            ]
          },
          "metadata": {},
          "execution_count": 4
        }
      ],
      "source": [
        "ingresos\n",
        "gastos"
      ]
    },
    {
      "cell_type": "code",
      "execution_count": 6,
      "metadata": {
        "id": "NVNXRKbhtE3w",
        "outputId": "902d0755-2eec-4bd4-f785-2d4c3db9a891",
        "colab": {
          "base_uri": "https://localhost:8080/"
        }
      },
      "outputs": [
        {
          "output_type": "stream",
          "name": "stdout",
          "text": [
            "1000\n",
            "400\n"
          ]
        }
      ],
      "source": [
        "print(ingresos)\n",
        "print(gastos)"
      ]
    },
    {
      "cell_type": "code",
      "execution_count": 7,
      "metadata": {
        "id": "zw12hwr1tE3w"
      },
      "outputs": [],
      "source": [
        "margen = ingresos - gastos"
      ]
    },
    {
      "cell_type": "code",
      "execution_count": 8,
      "metadata": {
        "id": "CwIqfVA7tE3x",
        "outputId": "c05482e4-cdcd-4832-bec8-a4415312cd06",
        "colab": {
          "base_uri": "https://localhost:8080/"
        }
      },
      "outputs": [
        {
          "output_type": "execute_result",
          "data": {
            "text/plain": [
              "600"
            ]
          },
          "metadata": {},
          "execution_count": 8
        }
      ],
      "source": [
        "margen"
      ]
    },
    {
      "cell_type": "code",
      "execution_count": 9,
      "metadata": {
        "id": "lA_ydwrdtE3x",
        "outputId": "7c050dcb-2f80-410d-dc95-8bc24476b3fb",
        "colab": {
          "base_uri": "https://localhost:8080/"
        }
      },
      "outputs": [
        {
          "output_type": "stream",
          "name": "stdout",
          "text": [
            "600\n"
          ]
        }
      ],
      "source": [
        "print(margen)"
      ]
    },
    {
      "cell_type": "markdown",
      "metadata": {
        "id": "XPdHX1MdtE3y"
      },
      "source": [
        "### Cadenas de texto\n",
        "[al indice](#Contenidos)\n",
        "\n",
        "Las cadenas de texto se declaran con comillas simples o dobles"
      ]
    },
    {
      "cell_type": "code",
      "execution_count": 12,
      "metadata": {
        "id": "6AvotMWTtE3y",
        "outputId": "f008d1c1-6d92-4a8c-d35d-e8ff2349a0f8",
        "colab": {
          "base_uri": "https://localhost:8080/"
        }
      },
      "outputs": [
        {
          "output_type": "stream",
          "name": "stdout",
          "text": [
            "Los ingresos han sido altos\n",
            "Los ingresos han sido altos\n"
          ]
        }
      ],
      "source": [
        "ingresos_text = \"Los ingresos han sido altos\"\n",
        "ingresos_alt = 'Los ingresos han sido altos'\n",
        "print(ingresos_text)\n",
        "print(ingresos_alt)"
      ]
    },
    {
      "cell_type": "code",
      "execution_count": 15,
      "metadata": {
        "id": "a_YQR4rFtE3z"
      },
      "outputs": [],
      "source": [
        "ingresos_text = \"Los 'ingresos' han sido altos\""
      ]
    },
    {
      "cell_type": "code",
      "execution_count": 16,
      "metadata": {
        "id": "ZH8e1YQatE3z",
        "outputId": "ada8c3df-393a-4fd7-bd96-7b0d5f00dc94",
        "colab": {
          "base_uri": "https://localhost:8080/",
          "height": 36
        }
      },
      "outputs": [
        {
          "output_type": "execute_result",
          "data": {
            "text/plain": [
              "\"Los 'ingresos' han sido altos\""
            ],
            "application/vnd.google.colaboratory.intrinsic+json": {
              "type": "string"
            }
          },
          "metadata": {},
          "execution_count": 16
        }
      ],
      "source": [
        "ingresos_text"
      ]
    },
    {
      "cell_type": "code",
      "execution_count": 17,
      "metadata": {
        "id": "vWfSjgRutE3z",
        "outputId": "a373feb6-df50-4f3a-bb75-00a777fb4cf6",
        "colab": {
          "base_uri": "https://localhost:8080/",
          "height": 106
        }
      },
      "outputs": [
        {
          "output_type": "error",
          "ename": "SyntaxError",
          "evalue": "invalid syntax (ipython-input-3969662993.py, line 1)",
          "traceback": [
            "\u001b[0;36m  File \u001b[0;32m\"/tmp/ipython-input-3969662993.py\"\u001b[0;36m, line \u001b[0;32m1\u001b[0m\n\u001b[0;31m    ingresos_text = \"Los \"ingresos\" han sido altos\"\u001b[0m\n\u001b[0m                          ^\u001b[0m\n\u001b[0;31mSyntaxError\u001b[0m\u001b[0;31m:\u001b[0m invalid syntax\n"
          ]
        }
      ],
      "source": [
        "ingresos_text = \"Los \"ingresos\" han sido altos\""
      ]
    },
    {
      "cell_type": "markdown",
      "metadata": {
        "id": "RMqQkmCjtE30"
      },
      "source": [
        "Python es un lenguaje dinámico por lo que siempre podremos actualizar los valores de las variables. **Se recomienda usar nombres descriptivos para declarar las variables, pero no excesivamente largos**. Así evitamos sobreescribirlas sin querer.\n",
        "\n",
        "Por otro lado, cuidado con los caracteres ele y uno (`l` vs `1`), así como con cero y o (`0` vs `O`). Se suelen confundir.\n",
        "\n",
        "fatal vs fata1\n",
        "\n",
        "clarO vs clar0\n",
        "\n",
        "Reasignamos valor a gastos"
      ]
    },
    {
      "cell_type": "code",
      "execution_count": 20,
      "metadata": {
        "id": "NP-5U4aLtE30"
      },
      "outputs": [],
      "source": [
        "gastos = 200"
      ]
    },
    {
      "cell_type": "code",
      "execution_count": 21,
      "metadata": {
        "id": "1pGee75-tE31",
        "outputId": "df9d0c20-32ae-4629-d7b3-15ad936ff151",
        "colab": {
          "base_uri": "https://localhost:8080/"
        }
      },
      "outputs": [
        {
          "output_type": "stream",
          "name": "stdout",
          "text": [
            "200\n"
          ]
        }
      ],
      "source": [
        "print(gastos)"
      ]
    },
    {
      "cell_type": "markdown",
      "metadata": {
        "id": "xPVtK8jStE31"
      },
      "source": [
        "Ahora la variable gastos vale 200. Si la última línea de una celda es una variable, su valor será el *output* de la celda: 200.\n",
        "\n",
        "Vale, ¿y de qué nos sirve guardar variables?\n",
        "\n",
        "Podremos usar estos datos posteriormente, en otro lugar del programa. Por ejemplo, si ahora en una celda nueva queremos obtener el beneficio, simplemente restamos los nombres de las variables"
      ]
    },
    {
      "cell_type": "code",
      "execution_count": 22,
      "metadata": {
        "id": "8MHi4eFetE31"
      },
      "outputs": [],
      "source": [
        "gastos = 100"
      ]
    },
    {
      "cell_type": "code",
      "execution_count": 25,
      "metadata": {
        "id": "4ltH3iPUtE32"
      },
      "outputs": [],
      "source": [
        "beneficios = ingresos - gastos"
      ]
    },
    {
      "cell_type": "code",
      "source": [
        "print(beneficios)"
      ],
      "metadata": {
        "id": "3z4FLB5KBfC0",
        "outputId": "c507c69d-f6c4-426e-b266-0c3c38eef5a3",
        "colab": {
          "base_uri": "https://localhost:8080/"
        }
      },
      "execution_count": 26,
      "outputs": [
        {
          "output_type": "stream",
          "name": "stdout",
          "text": [
            "900\n"
          ]
        }
      ]
    },
    {
      "cell_type": "markdown",
      "metadata": {
        "id": "DB10vsSatE32"
      },
      "source": [
        "<table align=\"left\">\n",
        " <tr><td width=\"80\"><img src=\"img/error.png\" style=\"width:auto;height:auto\"></td>\n",
        "     <td style=\"text-align:left\">\n",
        "         <h3>ERRORES en variables</h3>\n",
        "         \n",
        " </td></tr>\n",
        "</table>"
      ]
    },
    {
      "cell_type": "markdown",
      "metadata": {
        "id": "ZYUauRIatE33"
      },
      "source": [
        "### Escribir mal el nombre\n",
        "[al indice](#Contenidos)\n",
        "\n",
        "Un error típico cuando declaramos variables es **escribir su nombre mal, o llamar despues a la variable de forma errónea**. En tal caso, aparece un `NameError: name 'variable_que_no_existe' is not defined`"
      ]
    },
    {
      "cell_type": "code",
      "execution_count": 27,
      "metadata": {
        "id": "4ZbzHTYwtE33",
        "outputId": "9dd2af3b-a755-416c-cd03-841cff148537",
        "colab": {
          "base_uri": "https://localhost:8080/",
          "height": 141
        }
      },
      "outputs": [
        {
          "output_type": "error",
          "ename": "NameError",
          "evalue": "name 'gstos' is not defined",
          "traceback": [
            "\u001b[0;31m---------------------------------------------------------------------------\u001b[0m",
            "\u001b[0;31mNameError\u001b[0m                                 Traceback (most recent call last)",
            "\u001b[0;32m/tmp/ipython-input-3093651428.py\u001b[0m in \u001b[0;36m<cell line: 0>\u001b[0;34m()\u001b[0m\n\u001b[0;32m----> 1\u001b[0;31m \u001b[0mgstos\u001b[0m\u001b[0;34m\u001b[0m\u001b[0;34m\u001b[0m\u001b[0m\n\u001b[0m",
            "\u001b[0;31mNameError\u001b[0m: name 'gstos' is not defined"
          ]
        }
      ],
      "source": [
        "gstos"
      ]
    },
    {
      "cell_type": "markdown",
      "metadata": {
        "id": "r2kVKhEutE34"
      },
      "source": [
        "Fíjate que te indica la línea donde se produce el error, el tipo de error (`NameError`), y una breve descripción del error."
      ]
    },
    {
      "cell_type": "markdown",
      "metadata": {
        "id": "ZbioKWXatE35"
      },
      "source": [
        "### Cerrar bien los strings\n",
        "[al indice](#Contenidos)\n",
        "\n",
        "\n",
        "Cuidado tambien cuando definamos una cadena de texto, y se nos olvide cerrarla con sus correspondientes comillas. Nos dará un `SyntaxError: EOL while scanning string literal` (End Of Line)"
      ]
    },
    {
      "cell_type": "code",
      "execution_count": 28,
      "metadata": {
        "id": "EiLxnbnttE35",
        "outputId": "8ed7b675-f2a3-4e1c-cc4a-413599cfc910",
        "colab": {
          "base_uri": "https://localhost:8080/",
          "height": 106
        }
      },
      "outputs": [
        {
          "output_type": "error",
          "ename": "SyntaxError",
          "evalue": "unterminated string literal (detected at line 1) (ipython-input-90447780.py, line 1)",
          "traceback": [
            "\u001b[0;36m  File \u001b[0;32m\"/tmp/ipython-input-90447780.py\"\u001b[0;36m, line \u001b[0;32m1\u001b[0m\n\u001b[0;31m    texto = \"Error sin comillas\u001b[0m\n\u001b[0m            ^\u001b[0m\n\u001b[0;31mSyntaxError\u001b[0m\u001b[0;31m:\u001b[0m unterminated string literal (detected at line 1)\n"
          ]
        }
      ],
      "source": [
        "texto = \"Error sin comillas"
      ]
    },
    {
      "cell_type": "code",
      "execution_count": null,
      "metadata": {
        "id": "7dTv8vvqtE36"
      },
      "outputs": [],
      "source": []
    },
    {
      "cell_type": "markdown",
      "metadata": {
        "id": "9vdLLFPEtE37"
      },
      "source": [
        "### Prohibido espacios en los nombres de las variables\n",
        "[al indice](##Contenidos)\n",
        "\n",
        "\n",
        "También dará error si tenemos un espacio en la declaración de la variable. Se recomienda mínusculas y guiones bajos para simular los espacios.\n",
        "\n",
        "**Los espacios que encuentres alrededor del igual se pueden usar perfectamente**. Es pura estética a la hora de leer el código."
      ]
    },
    {
      "cell_type": "code",
      "execution_count": 31,
      "metadata": {
        "id": "WPjckNTMtE38"
      },
      "outputs": [],
      "source": []
    },
    {
      "cell_type": "code",
      "execution_count": 31,
      "metadata": {
        "id": "_T213ZjhtE38"
      },
      "outputs": [],
      "source": []
    },
    {
      "cell_type": "markdown",
      "metadata": {
        "id": "SQk2oMDztE38"
      },
      "source": [
        "### Números en el nombre de la variable\n",
        "[al indice](#Contenidos)\n",
        "\n",
        "Ojo con los números cuando declaremos variables. En ocasiones es determinante describir nuestra variable con algún número. En tal caso, ponlo siempre al final del nombre de la variable, ya que sino saltará un error."
      ]
    },
    {
      "cell_type": "code",
      "execution_count": 32,
      "metadata": {
        "id": "I5UZ1sQWtE39",
        "outputId": "e1778d6e-48a4-492a-9a3b-0f0e4ff21077",
        "colab": {
          "base_uri": "https://localhost:8080/",
          "height": 106
        }
      },
      "outputs": [
        {
          "output_type": "error",
          "ename": "SyntaxError",
          "evalue": "invalid decimal literal (ipython-input-176038607.py, line 1)",
          "traceback": [
            "\u001b[0;36m  File \u001b[0;32m\"/tmp/ipython-input-176038607.py\"\u001b[0;36m, line \u001b[0;32m1\u001b[0m\n\u001b[0;31m    2009_ingresos\u001b[0m\n\u001b[0m        ^\u001b[0m\n\u001b[0;31mSyntaxError\u001b[0m\u001b[0;31m:\u001b[0m invalid decimal literal\n"
          ]
        }
      ],
      "source": [
        "2009_ingresos"
      ]
    },
    {
      "cell_type": "code",
      "execution_count": 33,
      "metadata": {
        "id": "FdEhMMn_tE39"
      },
      "outputs": [],
      "source": [
        "ingresos_2009 = 25000"
      ]
    },
    {
      "cell_type": "markdown",
      "metadata": {
        "id": "SFaxnvWctE39"
      },
      "source": [
        "### Sensible a mayusculas\n",
        "[al indice](#Contenidos)\n",
        "\n",
        "\n",
        "Mucho cuidado con las mayusculas y minusculas porque Python no las ignora. Si todas las letras de una variable están en mayusculas, tendremos que usarla en mayusculas, sino dará un error de que no encuentra la variable."
      ]
    },
    {
      "cell_type": "code",
      "execution_count": 34,
      "metadata": {
        "id": "gJyO5-VStE3-",
        "outputId": "cfd20508-d62a-42e2-dd9b-203b1d960efa",
        "colab": {
          "base_uri": "https://localhost:8080/",
          "height": 141
        }
      },
      "outputs": [
        {
          "output_type": "error",
          "ename": "NameError",
          "evalue": "name 'Ingresos_2009' is not defined",
          "traceback": [
            "\u001b[0;31m---------------------------------------------------------------------------\u001b[0m",
            "\u001b[0;31mNameError\u001b[0m                                 Traceback (most recent call last)",
            "\u001b[0;32m/tmp/ipython-input-2105830201.py\u001b[0m in \u001b[0;36m<cell line: 0>\u001b[0;34m()\u001b[0m\n\u001b[0;32m----> 1\u001b[0;31m \u001b[0mprint\u001b[0m\u001b[0;34m(\u001b[0m\u001b[0mIngresos_2009\u001b[0m\u001b[0;34m)\u001b[0m\u001b[0;34m\u001b[0m\u001b[0;34m\u001b[0m\u001b[0m\n\u001b[0m",
            "\u001b[0;31mNameError\u001b[0m: name 'Ingresos_2009' is not defined"
          ]
        }
      ],
      "source": [
        "print(Ingresos_2009)"
      ]
    },
    {
      "cell_type": "code",
      "execution_count": null,
      "metadata": {
        "id": "MfCnT548tE3_"
      },
      "outputs": [],
      "source": []
    },
    {
      "cell_type": "markdown",
      "metadata": {
        "id": "dWZypPVKtE3_"
      },
      "source": [
        "### Palabras reservadas\n",
        "[al indice](#Contenidos)\n",
        "\n",
        "\n",
        "En Python, como en otros lenguajes, hay una serie de palabras reservadas que tienen un significado para el intérprete de Python y por lo tanto no podemos usar para ponerle nombre a nuestras variables.\n",
        "\n",
        "Por ejemplo, `def` se usa para definir funciones en Python (lo veremos en otros notebooks), por lo que no podemos emplear `def` para nombrar a nuestras variables"
      ]
    },
    {
      "cell_type": "code",
      "execution_count": 35,
      "metadata": {
        "id": "oGXjiD6gtE4A",
        "outputId": "def6590c-4732-48c3-da7c-0aee319cdccf",
        "colab": {
          "base_uri": "https://localhost:8080/",
          "height": 106
        }
      },
      "outputs": [
        {
          "output_type": "error",
          "ename": "SyntaxError",
          "evalue": "invalid syntax (ipython-input-3594483855.py, line 1)",
          "traceback": [
            "\u001b[0;36m  File \u001b[0;32m\"/tmp/ipython-input-3594483855.py\"\u001b[0;36m, line \u001b[0;32m1\u001b[0m\n\u001b[0;31m    def = 10\u001b[0m\n\u001b[0m        ^\u001b[0m\n\u001b[0;31mSyntaxError\u001b[0m\u001b[0;31m:\u001b[0m invalid syntax\n"
          ]
        }
      ],
      "source": [
        "def = 10"
      ]
    },
    {
      "cell_type": "markdown",
      "metadata": {
        "id": "qoGOB0y0tE4B"
      },
      "source": [
        "Consulta la lista de palabras reservadas de Python"
      ]
    },
    {
      "cell_type": "code",
      "execution_count": 36,
      "metadata": {
        "id": "uOUoeAbvtE4B",
        "outputId": "a2456efa-512f-43ed-d70c-b5cb6cef7e17",
        "colab": {
          "base_uri": "https://localhost:8080/"
        }
      },
      "outputs": [
        {
          "output_type": "stream",
          "name": "stdout",
          "text": [
            "['False', 'None', 'True', 'and', 'as', 'assert', 'async', 'await', 'break', 'class', 'continue', 'def', 'del', 'elif', 'else', 'except', 'finally', 'for', 'from', 'global', 'if', 'import', 'in', 'is', 'lambda', 'nonlocal', 'not', 'or', 'pass', 'raise', 'return', 'try', 'while', 'with', 'yield']\n"
          ]
        }
      ],
      "source": [
        "import keyword\n",
        "print(keyword.kwlist)"
      ]
    },
    {
      "cell_type": "code",
      "execution_count": 37,
      "metadata": {
        "id": "iwNSgwQxtE4C",
        "outputId": "aca59275-c8a9-44e4-8e98-29c2a2c430b3",
        "colab": {
          "base_uri": "https://localhost:8080/"
        }
      },
      "outputs": [
        {
          "output_type": "stream",
          "name": "stdout",
          "text": [
            "\n",
            "Here is a list of the Python keywords.  Enter any keyword to get more help.\n",
            "\n",
            "False               class               from                or\n",
            "None                continue            global              pass\n",
            "True                def                 if                  raise\n",
            "and                 del                 import              return\n",
            "as                  elif                in                  try\n",
            "assert              else                is                  while\n",
            "async               except              lambda              with\n",
            "await               finally             nonlocal            yield\n",
            "break               for                 not                 \n",
            "\n"
          ]
        }
      ],
      "source": [
        "help(\"keywords\")"
      ]
    },
    {
      "cell_type": "markdown",
      "metadata": {
        "id": "ruqMFYGotE4C"
      },
      "source": [
        "### Resumen variables\n",
        "[al indice](#Contenidos)\n",
        "\n",
        "\n",
        "En resumen:\n",
        "* Usar minusculas. Sensible a mayusculas/minusculas\n",
        "* No usar espacios\n",
        "* No usar palabras reservadas\n",
        "* No usar numeros al principio de la variable\n",
        "* Cuidado con los caracteres `l`, `1`, `O`, `0`"
      ]
    },
    {
      "cell_type": "code",
      "execution_count": null,
      "metadata": {
        "id": "Zl6zXwnCtE4D"
      },
      "outputs": [],
      "source": []
    },
    {
      "cell_type": "code",
      "execution_count": null,
      "metadata": {
        "id": "niJSVJ_qtE4D"
      },
      "outputs": [],
      "source": []
    },
    {
      "cell_type": "code",
      "execution_count": null,
      "metadata": {
        "id": "PCoKUu9btE4E"
      },
      "outputs": [],
      "source": []
    }
  ],
  "nbformat": 4,
  "nbformat_minor": 0,
  "metadata": {
    "kernelspec": {
      "display_name": "Python 3 (ipykernel)",
      "language": "python",
      "name": "python3"
    },
    "language_info": {
      "codemirror_mode": {
        "name": "ipython",
        "version": 3
      },
      "file_extension": ".py",
      "mimetype": "text/x-python",
      "name": "python",
      "nbconvert_exporter": "python",
      "pygments_lexer": "ipython3",
      "version": "3.11.5"
    },
    "nbTranslate": {
      "displayLangs": [
        "*"
      ],
      "hotkey": "alt-t",
      "langInMainMenu": true,
      "sourceLang": "en",
      "targetLang": "fr",
      "useGoogleTranslate": true
    },
    "varInspector": {
      "cols": {
        "lenName": 16,
        "lenType": 16,
        "lenVar": 40
      },
      "kernels_config": {
        "python": {
          "delete_cmd_postfix": "",
          "delete_cmd_prefix": "del ",
          "library": "var_list.py",
          "varRefreshCmd": "print(var_dic_list())"
        },
        "r": {
          "delete_cmd_postfix": ") ",
          "delete_cmd_prefix": "rm(",
          "library": "var_list.r",
          "varRefreshCmd": "cat(var_dic_list()) "
        }
      },
      "types_to_exclude": [
        "module",
        "function",
        "builtin_function_or_method",
        "instance",
        "_Feature"
      ],
      "window_display": false
    },
    "colab": {
      "provenance": [],
      "include_colab_link": true
    }
  }
}