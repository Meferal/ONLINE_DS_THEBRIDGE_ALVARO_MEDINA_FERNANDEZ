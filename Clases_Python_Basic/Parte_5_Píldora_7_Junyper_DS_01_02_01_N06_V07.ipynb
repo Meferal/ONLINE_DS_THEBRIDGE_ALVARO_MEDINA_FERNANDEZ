{
  "cells": [
    {
      "cell_type": "markdown",
      "metadata": {
        "id": "Ay4lEjbFQbwC"
      },
      "source": [
        "![TheBridge_Python_v0.png](attachment:TheBridge_Python_v0.png)"
      ]
    },
    {
      "cell_type": "markdown",
      "metadata": {
        "id": "iBkW1_7AQbwD"
      },
      "source": [
        "##  Funciones de usuario II"
      ]
    },
    {
      "cell_type": "markdown",
      "metadata": {
        "id": "oUp2uUArQbwE"
      },
      "source": [
        "### Contenidos"
      ]
    },
    {
      "cell_type": "markdown",
      "metadata": {
        "id": "05jt-JziQbwE"
      },
      "source": [
        "* [Return](#Return)\n",
        "\n",
        "* [Tipos de datos de los argumentos](#Tipos-de-datos-de-los-argumentos)\n",
        "\n",
        "* [Errores típicos con funciones](#Errores-típicos-con-funciones)\n",
        "\n"
      ]
    },
    {
      "cell_type": "markdown",
      "metadata": {
        "id": "t_bW6ollQbwE"
      },
      "source": [
        "### Return\n",
        "[al indice](#Contenidos)  \n",
        "\n",
        "\n",
        "Continuamos con las funciones definidas por el usuario. Recuerda que la sintaxis que vimos en el anterior notebook era:\n",
        "\n",
        "\n",
        "> ```Python\n",
        "> def nombre_funcion(entrada):\n",
        ">    operaciones varias\n",
        ">    return output\n",
        "> ```\n",
        "\n",
        "Hicimos un ejemplo de función que nos devolvía un resultado (output) que podíamos almacenar en una variable... pero las funciones **tampoco tienen por qué llevar un `return`**. No siempre es necesario un output. En tal caso, devuelve `None`"
      ]
    },
    {
      "cell_type": "code",
      "execution_count": 21,
      "metadata": {
        "id": "VL91vwbdQbwF"
      },
      "outputs": [],
      "source": [
        "from datetime import datetime\n",
        "\n",
        "def que_hora_es():\n",
        "    now = datetime.now().time()\n",
        "    print(now)\n"
      ]
    },
    {
      "cell_type": "code",
      "source": [
        "hora = que_hora_es()\n",
        "print(hora, type(hora))"
      ],
      "metadata": {
        "id": "qln0sD8HfPAC",
        "outputId": "81ac687c-2645-46af-d342-02ecbb4cf7a5",
        "colab": {
          "base_uri": "https://localhost:8080/"
        }
      },
      "execution_count": 22,
      "outputs": [
        {
          "output_type": "stream",
          "name": "stdout",
          "text": [
            "13:39:14.866464\n",
            "None <class 'NoneType'>\n"
          ]
        }
      ]
    },
    {
      "cell_type": "code",
      "source": [
        "print(now)"
      ],
      "metadata": {
        "id": "xsz_5o7Xfoqy",
        "outputId": "20f19d8e-44ae-436e-f66e-870621599c13",
        "colab": {
          "base_uri": "https://localhost:8080/",
          "height": 141
        }
      },
      "execution_count": 23,
      "outputs": [
        {
          "output_type": "error",
          "ename": "NameError",
          "evalue": "name 'now' is not defined",
          "traceback": [
            "\u001b[0;31m---------------------------------------------------------------------------\u001b[0m",
            "\u001b[0;31mNameError\u001b[0m                                 Traceback (most recent call last)",
            "\u001b[0;32m/tmp/ipython-input-1204761449.py\u001b[0m in \u001b[0;36m<cell line: 0>\u001b[0;34m()\u001b[0m\n\u001b[0;32m----> 1\u001b[0;31m \u001b[0mprint\u001b[0m\u001b[0;34m(\u001b[0m\u001b[0mnow\u001b[0m\u001b[0;34m)\u001b[0m\u001b[0;34m\u001b[0m\u001b[0;34m\u001b[0m\u001b[0m\n\u001b[0m",
            "\u001b[0;31mNameError\u001b[0m: name 'now' is not defined"
          ]
        }
      ]
    },
    {
      "cell_type": "markdown",
      "metadata": {
        "id": "FQ67JjbjQbwF"
      },
      "source": [
        "También **puedes poner varias salidas en el return**. En ese caso, si no se especifica nada más la salida de la función será de tipo \"tupla\" (tuple). Pero generalmente los agrupamos en una colección."
      ]
    },
    {
      "cell_type": "code",
      "execution_count": 24,
      "metadata": {
        "id": "Cj8kzImHQbwF"
      },
      "outputs": [],
      "source": [
        "def conversor_km_millas(distancia):\n",
        "    millas = 0.62 * distancia\n",
        "    metros = 1000 * distancia\n",
        "    return [round(millas,1), millas, metros]"
      ]
    },
    {
      "cell_type": "code",
      "source": [
        "salida = conversor_km_millas(221)\n",
        "print(salida)\n",
        "print(type(salida))"
      ],
      "metadata": {
        "id": "KKmJimBnf2TT",
        "outputId": "a01809ce-704a-46a8-8fed-e1ec3a223080",
        "colab": {
          "base_uri": "https://localhost:8080/"
        }
      },
      "execution_count": 25,
      "outputs": [
        {
          "output_type": "stream",
          "name": "stdout",
          "text": [
            "[137.0, 137.02, 221000]\n",
            "<class 'list'>\n"
          ]
        }
      ]
    },
    {
      "cell_type": "markdown",
      "metadata": {
        "id": "Kfv5_M5YQbwG"
      },
      "source": [
        "### Tipos de datos de los argumentos\n",
        "[al indice](#Contenidos)  \n",
        "\n",
        "Lo que quieras: numeros, texto, listas, tuplas, diccionarios, objetos de clases que hayas definido..."
      ]
    },
    {
      "cell_type": "code",
      "execution_count": 26,
      "metadata": {
        "id": "ngCXOVg4QbwG"
      },
      "outputs": [],
      "source": [
        "def recibe_mix(tupla, lista, diccionario): # las entradas son solo nombres y no fuerzan el tipo de variable (de momento)\n",
        "  print(\"tupla contiene:\")\n",
        "  print(tupla)\n",
        "  print(\"y es de tipo:\", type(tupla))\n",
        "  print(\"lista contiene:\")\n",
        "  print(lista)\n",
        "  print(\"y es de tipo:\", type(lista))\n",
        "  print(\"diccionario contiene:\")\n",
        "  print(diccionario)\n",
        "  print(\"y es de tipo:\", type(diccionario))\n",
        "  return [type(tupla), type(lista), type(diccionario)]"
      ]
    },
    {
      "cell_type": "code",
      "source": [
        "recibe_mix((12,34,23), [\"Esto\",\"es\",\"una\",\"lista\"],{\"key1\":\"valor1\"})"
      ],
      "metadata": {
        "id": "daZYey7CgtnH",
        "outputId": "87164265-d344-431a-9393-4f72080161c2",
        "colab": {
          "base_uri": "https://localhost:8080/"
        }
      },
      "execution_count": 27,
      "outputs": [
        {
          "output_type": "stream",
          "name": "stdout",
          "text": [
            "tupla contiene:\n",
            "(12, 34, 23)\n",
            "y es de tipo: <class 'tuple'>\n",
            "lista contiene:\n",
            "['Esto', 'es', 'una', 'lista']\n",
            "y es de tipo: <class 'list'>\n",
            "diccionario contiene:\n",
            "{'key1': 'valor1'}\n",
            "y es de tipo: <class 'dict'>\n"
          ]
        },
        {
          "output_type": "execute_result",
          "data": {
            "text/plain": [
              "[tuple, list, dict]"
            ]
          },
          "metadata": {},
          "execution_count": 27
        }
      ]
    },
    {
      "cell_type": "code",
      "source": [
        "recibe_mix(1, \"Hola\", True)"
      ],
      "metadata": {
        "id": "5UqK0oNdhMIp",
        "outputId": "4483713d-f16c-4e0f-9034-64a5e8be842d",
        "colab": {
          "base_uri": "https://localhost:8080/"
        }
      },
      "execution_count": 28,
      "outputs": [
        {
          "output_type": "stream",
          "name": "stdout",
          "text": [
            "tupla contiene:\n",
            "1\n",
            "y es de tipo: <class 'int'>\n",
            "lista contiene:\n",
            "Hola\n",
            "y es de tipo: <class 'str'>\n",
            "diccionario contiene:\n",
            "True\n",
            "y es de tipo: <class 'bool'>\n"
          ]
        },
        {
          "output_type": "execute_result",
          "data": {
            "text/plain": [
              "[int, str, bool]"
            ]
          },
          "metadata": {},
          "execution_count": 28
        }
      ]
    },
    {
      "cell_type": "markdown",
      "metadata": {
        "id": "BfFWfN9sQbwG"
      },
      "source": [
        "### Errores típicos con funciones\n",
        "[al indice](#Contenidos)  \n",
        "\n"
      ]
    },
    {
      "cell_type": "markdown",
      "metadata": {
        "id": "PPJeXgHQQbwG"
      },
      "source": [
        "<table align=\"left\">\n",
        " <tr>\n",
        "     <td style=\"text-align:left\">\n",
        "         <h3>ERRORES variables de la función</h3>\n",
        "         \n",
        " </td></tr>\n",
        "</table>"
      ]
    },
    {
      "cell_type": "code",
      "execution_count": 29,
      "metadata": {
        "id": "t_z7zZEeQbwG",
        "outputId": "0676e6e0-143d-47a3-bba1-3d4359d9ac88",
        "colab": {
          "base_uri": "https://localhost:8080/",
          "height": 193
        }
      },
      "outputs": [
        {
          "output_type": "stream",
          "name": "stdout",
          "text": [
            "<function km2millas at 0x797fe61719e0>\n"
          ]
        },
        {
          "output_type": "error",
          "ename": "NameError",
          "evalue": "name 'millas' is not defined",
          "traceback": [
            "\u001b[0;31m---------------------------------------------------------------------------\u001b[0m",
            "\u001b[0;31mNameError\u001b[0m                                 Traceback (most recent call last)",
            "\u001b[0;32m/tmp/ipython-input-2648323649.py\u001b[0m in \u001b[0;36m<cell line: 0>\u001b[0;34m()\u001b[0m\n\u001b[1;32m      9\u001b[0m \u001b[0;34m\u001b[0m\u001b[0m\n\u001b[1;32m     10\u001b[0m \u001b[0mprint\u001b[0m\u001b[0;34m(\u001b[0m\u001b[0mkm2millas\u001b[0m\u001b[0;34m)\u001b[0m\u001b[0;34m\u001b[0m\u001b[0;34m\u001b[0m\u001b[0m\n\u001b[0;32m---> 11\u001b[0;31m \u001b[0mprint\u001b[0m\u001b[0;34m(\u001b[0m\u001b[0mmillas\u001b[0m\u001b[0;34m)\u001b[0m\u001b[0;34m\u001b[0m\u001b[0;34m\u001b[0m\u001b[0m\n\u001b[0m",
            "\u001b[0;31mNameError\u001b[0m: name 'millas' is not defined"
          ]
        }
      ],
      "source": [
        "# Todo lo que declaremos dentro de la función se crea UNICAMENTE para la función\n",
        "# Fuera de la misma, esas variables no existen\n",
        "\n",
        "def km2millas(dist):\n",
        "  millas = 0.62 * dist\n",
        "  return round(millas,2)\n",
        "\n",
        "km2millas(200)\n",
        "\n",
        "print(km2millas)\n",
        "print(millas)"
      ]
    },
    {
      "cell_type": "markdown",
      "metadata": {
        "id": "3xXGZr-eQbwG"
      },
      "source": [
        "Se crea un namespace interno dentro de las funciones, es decir, que lo que declaremos dentro, se queda dentro. No lo podremos usar fuera. Además, ten en cuenta que todo lo que introduzcamos dentro de flujos de control (`if/else`, bucles...), nos vale para el resto de la función"
      ]
    },
    {
      "cell_type": "code",
      "execution_count": 30,
      "metadata": {
        "id": "f00aGrJbQbwG",
        "outputId": "568480a1-4072-442d-9965-f6f3a89d4116",
        "colab": {
          "base_uri": "https://localhost:8080/"
        }
      },
      "outputs": [
        {
          "output_type": "execute_result",
          "data": {
            "text/plain": [
              "1"
            ]
          },
          "metadata": {},
          "execution_count": 30
        }
      ],
      "source": [
        "def numero_ifs(numero):\n",
        "    if numero == 1:\n",
        "        out = 1\n",
        "    return out\n",
        "\n",
        "numero_ifs(1)"
      ]
    },
    {
      "cell_type": "code",
      "execution_count": 31,
      "metadata": {
        "id": "JcT6XmYMQbwG",
        "outputId": "3c885b10-7221-46ff-c160-c6c94c092d52",
        "colab": {
          "base_uri": "https://localhost:8080/",
          "height": 280
        }
      },
      "outputs": [
        {
          "output_type": "error",
          "ename": "UnboundLocalError",
          "evalue": "cannot access local variable 'out' where it is not associated with a value",
          "traceback": [
            "\u001b[0;31m---------------------------------------------------------------------------\u001b[0m",
            "\u001b[0;31mUnboundLocalError\u001b[0m                         Traceback (most recent call last)",
            "\u001b[0;32m/tmp/ipython-input-3414726539.py\u001b[0m in \u001b[0;36m<cell line: 0>\u001b[0;34m()\u001b[0m\n\u001b[0;32m----> 1\u001b[0;31m \u001b[0mnumero_ifs\u001b[0m\u001b[0;34m(\u001b[0m\u001b[0;36m2\u001b[0m\u001b[0;34m)\u001b[0m\u001b[0;34m\u001b[0m\u001b[0;34m\u001b[0m\u001b[0m\n\u001b[0m",
            "\u001b[0;32m/tmp/ipython-input-3462563596.py\u001b[0m in \u001b[0;36mnumero_ifs\u001b[0;34m(numero)\u001b[0m\n\u001b[1;32m      2\u001b[0m     \u001b[0;32mif\u001b[0m \u001b[0mnumero\u001b[0m \u001b[0;34m==\u001b[0m \u001b[0;36m1\u001b[0m\u001b[0;34m:\u001b[0m\u001b[0;34m\u001b[0m\u001b[0;34m\u001b[0m\u001b[0m\n\u001b[1;32m      3\u001b[0m         \u001b[0mout\u001b[0m \u001b[0;34m=\u001b[0m \u001b[0;36m1\u001b[0m\u001b[0;34m\u001b[0m\u001b[0;34m\u001b[0m\u001b[0m\n\u001b[0;32m----> 4\u001b[0;31m     \u001b[0;32mreturn\u001b[0m \u001b[0mout\u001b[0m\u001b[0;34m\u001b[0m\u001b[0;34m\u001b[0m\u001b[0m\n\u001b[0m\u001b[1;32m      5\u001b[0m \u001b[0;34m\u001b[0m\u001b[0m\n\u001b[1;32m      6\u001b[0m \u001b[0mnumero_ifs\u001b[0m\u001b[0;34m(\u001b[0m\u001b[0;36m1\u001b[0m\u001b[0;34m)\u001b[0m\u001b[0;34m\u001b[0m\u001b[0;34m\u001b[0m\u001b[0m\n",
            "\u001b[0;31mUnboundLocalError\u001b[0m: cannot access local variable 'out' where it is not associated with a value"
          ]
        }
      ],
      "source": [
        "numero_ifs(2)"
      ]
    },
    {
      "cell_type": "code",
      "execution_count": 32,
      "metadata": {
        "id": "0aWUD_fOQbwH",
        "outputId": "e22aa8e9-8a28-481f-8784-b9ed9623b8b0",
        "colab": {
          "base_uri": "https://localhost:8080/",
          "height": 193
        }
      },
      "outputs": [
        {
          "output_type": "error",
          "ename": "TypeError",
          "evalue": "km2millas() missing 1 required positional argument: 'dist'",
          "traceback": [
            "\u001b[0;31m---------------------------------------------------------------------------\u001b[0m",
            "\u001b[0;31mTypeError\u001b[0m                                 Traceback (most recent call last)",
            "\u001b[0;32m/tmp/ipython-input-2744011764.py\u001b[0m in \u001b[0;36m<cell line: 0>\u001b[0;34m()\u001b[0m\n\u001b[1;32m      1\u001b[0m \u001b[0;31m# Si no introducimos argumentos en una función que SI tiene argumentos, salta un error de este estilo\u001b[0m\u001b[0;34m\u001b[0m\u001b[0;34m\u001b[0m\u001b[0m\n\u001b[1;32m      2\u001b[0m \u001b[0;34m\u001b[0m\u001b[0m\n\u001b[0;32m----> 3\u001b[0;31m \u001b[0mkm2millas\u001b[0m\u001b[0;34m(\u001b[0m\u001b[0;34m)\u001b[0m\u001b[0;34m\u001b[0m\u001b[0;34m\u001b[0m\u001b[0m\n\u001b[0m",
            "\u001b[0;31mTypeError\u001b[0m: km2millas() missing 1 required positional argument: 'dist'"
          ]
        }
      ],
      "source": [
        "# Si no introducimos argumentos en una función que SI tiene argumentos, salta un error de este estilo\n",
        "\n",
        "km2millas()"
      ]
    },
    {
      "cell_type": "markdown",
      "metadata": {
        "id": "WtynVUmBQbwH"
      },
      "source": [
        "Cuidado también con la sintaxis de línea. Después de dos puntos `:`, viene todo el bloque de código tabulado, de la función"
      ]
    },
    {
      "cell_type": "code",
      "execution_count": 33,
      "metadata": {
        "id": "Mn9YgfjKQbwH",
        "outputId": "d7a599a5-b6e8-418c-c68b-5b65d0fa4398",
        "colab": {
          "base_uri": "https://localhost:8080/",
          "height": 106
        }
      },
      "outputs": [
        {
          "output_type": "error",
          "ename": "IndentationError",
          "evalue": "expected an indented block after function definition on line 1 (ipython-input-3762601472.py, line 2)",
          "traceback": [
            "\u001b[0;36m  File \u001b[0;32m\"/tmp/ipython-input-3762601472.py\"\u001b[0;36m, line \u001b[0;32m2\u001b[0m\n\u001b[0;31m    print(otro_argumento)\u001b[0m\n\u001b[0m    ^\u001b[0m\n\u001b[0;31mIndentationError\u001b[0m\u001b[0;31m:\u001b[0m expected an indented block after function definition on line 1\n"
          ]
        }
      ],
      "source": [
        "def mala_funcion(otro_argumento):\n",
        "print(otro_argumento)\n",
        "return [otro_argumento]"
      ]
    },
    {
      "cell_type": "code",
      "execution_count": null,
      "metadata": {
        "id": "I083lBEvQbwH"
      },
      "outputs": [],
      "source": []
    }
  ],
  "metadata": {
    "kernelspec": {
      "display_name": "Python 3 (ipykernel)",
      "language": "python",
      "name": "python3"
    },
    "language_info": {
      "codemirror_mode": {
        "name": "ipython",
        "version": 3
      },
      "file_extension": ".py",
      "mimetype": "text/x-python",
      "name": "python",
      "nbconvert_exporter": "python",
      "pygments_lexer": "ipython3",
      "version": "3.9.7"
    },
    "colab": {
      "provenance": []
    }
  },
  "nbformat": 4,
  "nbformat_minor": 0
}