{
  "cells": [
    {
      "cell_type": "markdown",
      "metadata": {
        "id": "YzNZLXEuEzuM"
      },
      "source": [
        "![TheBridge_Python_v0.png](attachment:TheBridge_Python_v0.png)"
      ]
    },
    {
      "cell_type": "markdown",
      "metadata": {
        "id": "CAy4s8V5EzuQ"
      },
      "source": [
        "# Clases y Objetos en Python\n",
        "\n",
        "\n",
        "Como sabes, Python es un lenguaje de programación orientado a objetos. Si recuerdas de la sesión inicial, eso quiere decir que trabaja trabaja con elementos denominados objetos, que vienen definidos por unos templates o plantillas que llamamos clases. Es una manera de expresar en lenguaje máquina cosas de la vida real.\n",
        "\n",
        "Los \"objetos\" de una clase son instancias de esa clase que determina los atributos y métodos de estos. En este notebook vamos a ver con un poco más de detalle el concepto de clase y cómo crear nuestras propias clases.\n"
      ]
    },
    {
      "cell_type": "markdown",
      "metadata": {
        "id": "5bdqhaa2EzuS"
      },
      "source": [
        "##  Clases\n"
      ]
    },
    {
      "cell_type": "markdown",
      "metadata": {
        "id": "LIQ0_1q8EzuT"
      },
      "source": [
        "### Contenidos"
      ]
    },
    {
      "cell_type": "markdown",
      "metadata": {
        "id": "HkHEJFF5EzuU"
      },
      "source": [
        "* [Clase vs Objeto](#Clase-vs-Objeto)\n",
        "\n"
      ]
    },
    {
      "cell_type": "markdown",
      "metadata": {
        "id": "j_0YeJugEzuU"
      },
      "source": [
        "\n",
        "Las clases son la manera que tenemos de describir los objetos. Hasta ahora hemos visto clases básicas que vienen incluidas en Python como *int*, *str* o clases algo más complejas como los *dict*. Pero, **¿y si queremos crear nuestros propios objetos?** En los lenguajes orientados a objetos tenemos la posibilidad de definir nuevos objetos que se asemejen más a nuestros casos de uso y hagan la programación más sencilla de desarrollar y entender.\n",
        "\n",
        "**Un número entero es un objeto de la clase *int* que posee unas características diferentes a un texto**, que es de la clase *str*. Por ejemplo, **¿cómo sabemos que un coche es un coche?** ¿qué características tiene? Los coches tienen una marca, una cantidad de caballos, hay unos automáticos, otros no… De esta manera traducimos a lenguaje de maquina, a programación, un concepto que tenemos nosotros muy claro e interiorizado.\n",
        "\n",
        "Hasta ahora, hemos visto varias clases, por ejemplo la clase *str*. Cuando veiamos el tipo de dato, Python imprimía por pantalla `str`. Y al ser `str`, tenía unas propiedades que no tenían otros objetos, como los métodos `upper()` o `lower()`.\n",
        "\n",
        "La sintaxis para crear una clase es:\n",
        "```Python\n",
        "class NombreClase:\n",
        "    # Cosas de la clase\n",
        "```\n",
        "\n",
        "Normalmente para el nombre de la clase se usa *CamelCase*, que quiere decir que se define en minúsculas, sin espacios ni guiones, y jugando con las mayúsculas para diferenciar palabras.\n",
        "\n",
        "Mira cómo es la [clase *built_in* de *String*](https://docs.python.org/3/library/stdtypes.html#str)"
      ]
    },
    {
      "cell_type": "code",
      "execution_count": 2,
      "metadata": {
        "id": "eDY-QXhlEzuV"
      },
      "outputs": [],
      "source": [
        "class Coche:\n",
        "  # Atributos y métodos, las cosas de la clase\n",
        "  pass"
      ]
    },
    {
      "cell_type": "markdown",
      "metadata": {
        "id": "GY7F9vQjEzuW"
      },
      "source": [
        "La sentencia `pass` se usa para forzar el fin de la clase *Coche*. La hemos declarado, pero no lleva nada. Python demanda una definición de la clase y podemos ignorar esa demanda mediante la sentencia `pass`."
      ]
    },
    {
      "cell_type": "code",
      "execution_count": 3,
      "metadata": {
        "id": "zzRXT7EHEzuX",
        "outputId": "0596e768-7535-4eb8-ceaf-3fe7910a8206",
        "colab": {
          "base_uri": "https://localhost:8080/"
        }
      },
      "outputs": [
        {
          "output_type": "stream",
          "name": "stdout",
          "text": [
            "<class 'type'>\n",
            "<class 'type'> <class 'type'>\n"
          ]
        }
      ],
      "source": [
        "print(type(Coche))\n",
        "print(type(str), type(dict))"
      ]
    },
    {
      "cell_type": "markdown",
      "metadata": {
        "id": "-eY2mGgYEzuY"
      },
      "source": [
        "Bien, coche es de tipo `type`, claro porque **no es un objeto con tal**, sino que es una clase. Cuando creemos coches, estos serán de clase *Coche*, es decir, de tipo *Coche*, por lo que tiene sentido que *Coche* sea de tipo `type`."
      ]
    },
    {
      "cell_type": "markdown",
      "metadata": {
        "id": "KwycOrvQEzuY"
      },
      "source": [
        "### Clase vs Objeto\n",
        "[al indice](#Contenidos)  \n",
        "\n",
        "**La clase se usa para definir algo**. Al igual que con las funciones. Creamos el esqueleto de lo que será un objeto de esa clase. Por tanto, **una vez tengamos la clase definida, instanciaremos un objeto de esa clase**.  Es como crear el concepto de coche, con todas sus características y funcionalidades. Después, a lo largo del programa, podremos crear objetos de tipo coche, que se ajusten a lo definido en la clase coche. Cada coche tendrá una marca, una potencia, etc…"
      ]
    },
    {
      "cell_type": "code",
      "execution_count": 4,
      "metadata": {
        "id": "ciR-WSxUEzuY",
        "outputId": "d5925197-f2e9-40c8-b7f6-0db76586667d",
        "colab": {
          "base_uri": "https://localhost:8080/"
        }
      },
      "outputs": [
        {
          "output_type": "stream",
          "name": "stdout",
          "text": [
            "<__main__.Coche object at 0x795f006ca1e0>\n",
            "<class '__main__.Coche'>\n"
          ]
        }
      ],
      "source": [
        "primer_coche = Coche()\n",
        "print(primer_coche)\n",
        "print(type(primer_coche))"
      ]
    },
    {
      "cell_type": "markdown",
      "metadata": {
        "id": "BTgU_Eg4EzuZ"
      },
      "source": [
        "Ahora sí tenemos un objeto de tipo Coche, que se llama `primer_coche`. Cuando imprimimos su tipo, vemos que es de tipo Coche, y cuando lo imprimes el objeto por pantalla, simplemente nos dice su tipo y un identificador.\n",
        "\n",
        "Podremos crear todos los coches que queramos"
      ]
    },
    {
      "cell_type": "code",
      "execution_count": 5,
      "metadata": {
        "id": "zkiBhptyEzuZ",
        "outputId": "d971ffae-3aa7-42fb-ae6f-5f00ff88294b",
        "colab": {
          "base_uri": "https://localhost:8080/"
        }
      },
      "outputs": [
        {
          "output_type": "stream",
          "name": "stdout",
          "text": [
            "False\n"
          ]
        }
      ],
      "source": [
        "citroen = Coche()\n",
        "peugeot = Coche()\n",
        "print(citroen == peugeot)"
      ]
    },
    {
      "cell_type": "markdown",
      "metadata": {
        "id": "sk4bnBG2EzuZ"
      },
      "source": [
        "De momento todos nuestros coches son iguales, no hemos definido bien la clase, por lo que va a ser difícil diferenciar un coche de otro. Vamos a ver cómo lograr esa diferenciación."
      ]
    },
    {
      "cell_type": "markdown",
      "metadata": {
        "id": "aFP96UK6Ezua"
      },
      "source": [
        "![dogs.jpg](attachment:dogs.jpg)"
      ]
    },
    {
      "cell_type": "markdown",
      "metadata": {
        "id": "Bh3oEjFZEzua"
      },
      "source": []
    }
  ],
  "metadata": {
    "kernelspec": {
      "display_name": "Python 3 (ipykernel)",
      "language": "python",
      "name": "python3"
    },
    "language_info": {
      "codemirror_mode": {
        "name": "ipython",
        "version": 3
      },
      "file_extension": ".py",
      "mimetype": "text/x-python",
      "name": "python",
      "nbconvert_exporter": "python",
      "pygments_lexer": "ipython3",
      "version": "3.9.7"
    },
    "colab": {
      "provenance": []
    }
  },
  "nbformat": 4,
  "nbformat_minor": 0
}