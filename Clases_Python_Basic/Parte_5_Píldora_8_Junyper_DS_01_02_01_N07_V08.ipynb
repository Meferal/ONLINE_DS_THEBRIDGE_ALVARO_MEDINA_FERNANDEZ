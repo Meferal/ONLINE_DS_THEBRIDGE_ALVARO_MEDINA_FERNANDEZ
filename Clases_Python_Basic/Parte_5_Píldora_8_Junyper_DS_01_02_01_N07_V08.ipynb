{
  "cells": [
    {
      "cell_type": "markdown",
      "metadata": {
        "id": "UDexuagls9aI"
      },
      "source": [
        "![TheBridge_Python_v0.png](attachment:TheBridge_Python_v0.png)"
      ]
    },
    {
      "cell_type": "markdown",
      "metadata": {
        "id": "9SZdZgdPs9aN"
      },
      "source": [
        "##  Argumentos posicionales\n"
      ]
    },
    {
      "cell_type": "markdown",
      "metadata": {
        "id": "pZcXmKfMs9aO"
      },
      "source": [
        "### Contenidos\n"
      ]
    },
    {
      "cell_type": "markdown",
      "metadata": {
        "id": "IKhka7Dzs9aO"
      },
      "source": [
        "* [Introducción  ](#Introducción--)\n"
      ]
    },
    {
      "cell_type": "markdown",
      "metadata": {
        "id": "PZ9CC7rzs9aQ"
      },
      "source": [
        "### Introducción  \n",
        "[al indice](#Contenidos)  \n",
        "\n",
        "Puedes implementar funciones con todos los argumentos que quieras. Ahora bien, ten en cuenta dos cosas:\n",
        "\n",
        "1. **El orden** de los argumentos. Cuando llamemos a la función, tenemos que seguir el mismo orden de argumentos que en la declaración de la función.\n",
        "2. **Son obligatorios**. Si los declaramos en la función, después al llamarla, tenemos que poner todos sus argumentos. Luego veremos que hay una manera de poner argumentos opcionales."
      ]
    },
    {
      "cell_type": "code",
      "execution_count": 7,
      "metadata": {
        "id": "v_N_MFKls9aS",
        "outputId": "3b35806a-a75a-414d-e976-1daef4621445",
        "colab": {
          "base_uri": "https://localhost:8080/"
        }
      },
      "outputs": [
        {
          "output_type": "execute_result",
          "data": {
            "text/plain": [
              "10.0"
            ]
          },
          "metadata": {},
          "execution_count": 7
        }
      ],
      "source": [
        "def multiplica(x1,x2,x3,x4):\n",
        "  if x4 == 0:\n",
        "    print(\"Error, no se puede dividir entre 0\")\n",
        "  else:\n",
        "    resultado = (x1 * x2 * x3) / x4\n",
        "    return resultado\n",
        "\n",
        "multiplica(3,4,5,6)"
      ]
    },
    {
      "cell_type": "code",
      "source": [
        "multiplica(x1=3,x2=4,x3=5,x4=6)"
      ],
      "metadata": {
        "id": "Xo40TVQztzce",
        "outputId": "205145e5-ea8b-4b2f-a7d1-2cd60b018a18",
        "colab": {
          "base_uri": "https://localhost:8080/"
        }
      },
      "execution_count": 2,
      "outputs": [
        {
          "output_type": "execute_result",
          "data": {
            "text/plain": [
              "10.0"
            ]
          },
          "metadata": {},
          "execution_count": 2
        }
      ]
    },
    {
      "cell_type": "markdown",
      "metadata": {
        "id": "i00Y_00Vs9aS"
      },
      "source": [
        "Fijate que los argumentos siguen un determinado orden: x1, x2, x3, x4. Cuando llamamos a la función, introduciremos 4 argumentos y la función los recogerá en ese orden. Asignará 4 a x1, 6 a x2, etc. Podemos también especificar el nombre del argumento en la llamada, lo que nos permite tener mayor flexibilidad en el orden."
      ]
    },
    {
      "cell_type": "code",
      "execution_count": null,
      "metadata": {
        "id": "j_doaNnps9aT"
      },
      "outputs": [],
      "source": []
    },
    {
      "cell_type": "markdown",
      "metadata": {
        "id": "cZm9nJA_s9aT"
      },
      "source": [
        "<table align=\"left\">\n",
        " <tr>\n",
        "     <td style=\"text-align:left\">\n",
        "         <h3>ERRORES Traza del error dentro de la función</h3>\n",
        "         \n",
        " </td></tr>\n",
        "</table>"
      ]
    },
    {
      "cell_type": "code",
      "execution_count": 8,
      "metadata": {
        "id": "HzH7wSH7s9aU",
        "outputId": "85e568af-9123-4cc2-cb32-e1686ace13b9",
        "colab": {
          "base_uri": "https://localhost:8080/"
        }
      },
      "outputs": [
        {
          "output_type": "stream",
          "name": "stdout",
          "text": [
            "Error, no se puede dividir entre 0\n"
          ]
        }
      ],
      "source": [
        "multiplica(x4=0, x1=3, x2=5, x3=12)"
      ]
    },
    {
      "cell_type": "markdown",
      "metadata": {
        "id": "DcpC6oCNs9aU"
      },
      "source": [
        "Fijate que aparece toda la traza del error, tanto la línea donde llamas a la función, como el error dentro de la función. Podemos solventar el error, introduciendo un bloque `try/except`"
      ]
    },
    {
      "cell_type": "code",
      "execution_count": 4,
      "metadata": {
        "id": "gXnbsGczs9aU",
        "outputId": "db406fd0-676a-4d97-ef00-81d93acd39ec",
        "colab": {
          "base_uri": "https://localhost:8080/"
        }
      },
      "outputs": [
        {
          "output_type": "stream",
          "name": "stdout",
          "text": [
            "division by zero\n",
            "Error en la función\n"
          ]
        }
      ],
      "source": [
        "try:\n",
        "  multiplica(x4=0, x1=3, x2=5, x3=12)\n",
        "except Exception as ex:\n",
        "  print(ex)\n",
        "  print(\"Error en la función\")"
      ]
    }
  ],
  "metadata": {
    "kernelspec": {
      "display_name": "Python 3 (ipykernel)",
      "language": "python",
      "name": "python3"
    },
    "language_info": {
      "codemirror_mode": {
        "name": "ipython",
        "version": 3
      },
      "file_extension": ".py",
      "mimetype": "text/x-python",
      "name": "python",
      "nbconvert_exporter": "python",
      "pygments_lexer": "ipython3",
      "version": "3.9.7"
    },
    "colab": {
      "provenance": []
    }
  },
  "nbformat": 4,
  "nbformat_minor": 0
}