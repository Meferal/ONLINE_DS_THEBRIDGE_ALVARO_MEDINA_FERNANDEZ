{
  "cells": [
    {
      "cell_type": "markdown",
      "metadata": {
        "id": "hrn-sM7TsZ61"
      },
      "source": [
        "![TheBridge_Python_v0.png](attachment:TheBridge_Python_v0.png)"
      ]
    },
    {
      "cell_type": "markdown",
      "metadata": {
        "id": "BDHITccbsZ63"
      },
      "source": [
        "## Colecciones Python: Sets\n"
      ]
    },
    {
      "cell_type": "markdown",
      "metadata": {
        "id": "9_NMLGI0sZ63"
      },
      "source": [
        "### Contenidos\n"
      ]
    },
    {
      "cell_type": "markdown",
      "metadata": {
        "id": "NLOQ5DqgsZ64"
      },
      "source": [
        "* [Introducción](#Introducción)\n",
        "\n"
      ]
    },
    {
      "cell_type": "markdown",
      "metadata": {
        "id": "hTdM2xSgsZ64"
      },
      "source": [
        "### Introducción\n",
        "[al indice](#Contenidos)  \n",
        "\n",
        "Otra colección *bulit-in* de Python, compuesta por un conjunto de *valores*. Muy parecidos a las listas. Tienen las siguientes características:\n",
        "* **Mutables**: podemos modificarlos una vez se hayan creado\n",
        "* **No ordenado**\n",
        "* **Elementos unicos**: se compone de un conjunto de valores únicas\n",
        "\n",
        "**¿Cuándo usar sets?** Cuando estemos buscando unicidad en nuestros datos y no nos importe el orden.\n",
        "\n",
        "Te dejo por aquí [la documentación](https://docs.python.org/2/library/sets.html) para realizar consultas sobre los sets\n",
        "\n",
        "Si sintaxis es:\n",
        ">```Python\n",
        "> mi_set = {elemento1, elemento2, elemento3}\n",
        ">```\n",
        "\n",
        "Tiene una sintaxis muy parecida a la de las listas, pero en este caso no se utilizan los `{}`."
      ]
    },
    {
      "cell_type": "code",
      "execution_count": 16,
      "metadata": {
        "id": "uYdfGcEFsZ65",
        "outputId": "cc821452-17a5-41f1-d750-104774ce35ee",
        "colab": {
          "base_uri": "https://localhost:8080/"
        }
      },
      "outputs": [
        {
          "output_type": "stream",
          "name": "stdout",
          "text": [
            "4\n",
            "{'azul', 'rojo', 'verde', 'naranja'}\n",
            "<class 'set'>\n"
          ]
        }
      ],
      "source": [
        "colores = {\"azul\", \"rojo\", \"verde\", \"naranja\", \"azul\", \"verde\"}\n",
        "print(len(colores))\n",
        "print(colores)\n",
        "print(type(colores))"
      ]
    },
    {
      "cell_type": "markdown",
      "metadata": {
        "id": "dS5GGlPAsZ66"
      },
      "source": [
        "Los elementos del set son unicos, por lo que si en la declaración, o posteriormente añadiendo elementos hubiese algún duplicado, el set lo ignoraría. Es más, cuando aplicas el `len`, muestra la cantidad de valores únicos que tiene."
      ]
    },
    {
      "cell_type": "code",
      "execution_count": 17,
      "metadata": {
        "id": "RMuOvVOJsZ66",
        "outputId": "6fce2807-0b3a-4e72-cf7c-a9068c663ebf",
        "colab": {
          "base_uri": "https://localhost:8080/"
        }
      },
      "outputs": [
        {
          "output_type": "stream",
          "name": "stdout",
          "text": [
            "{'naranja', 'azul', 'magenta', 'rojo', 'verde'}\n",
            "{'naranja', 'burdeos', 'azul', 'magenta', 'celeste', 'rojo', 'verde'}\n",
            "{'burdeos', 'azul', 'magenta', 'celeste', 'rojo', 'verde'}\n",
            "burdeos\n",
            "azul\n",
            "magenta\n",
            "celeste\n",
            "rojo\n",
            "verde\n"
          ]
        }
      ],
      "source": [
        "# Añadir valores\n",
        "colores.add(\"magenta\")\n",
        "print(colores)\n",
        "\n",
        "colores.update([\"celeste\", \"burdeos\", \"naranja\"])\n",
        "print(colores)\n",
        "\n",
        "colores.remove(\"naranja\")\n",
        "print(colores)\n",
        "\n",
        "for color in colores:\n",
        "    print(color)"
      ]
    },
    {
      "cell_type": "markdown",
      "metadata": {
        "id": "vYbOV6rNsZ66"
      },
      "source": [
        "Para comprobar si dos sets tienen los mismos elementos"
      ]
    },
    {
      "cell_type": "code",
      "execution_count": 18,
      "metadata": {
        "id": "_vPfk6vfsZ67",
        "outputId": "b1504101-fe8b-4b54-85da-62dc198f7163",
        "colab": {
          "base_uri": "https://localhost:8080/"
        }
      },
      "outputs": [
        {
          "output_type": "execute_result",
          "data": {
            "text/plain": [
              "True"
            ]
          },
          "metadata": {},
          "execution_count": 18
        }
      ],
      "source": [
        "set1 = {1,2,4,4,2,1,2,1}\n",
        "set2 = {2,1,4}\n",
        "\n",
        "set1 == set2"
      ]
    },
    {
      "cell_type": "code",
      "source": [
        "lista_con = [100,10,23,23,15,32,45,10,100,23]\n",
        "print(lista_con)\n",
        "print(set(lista_con))\n",
        "print(list(set(lista_con)))\n",
        "lista_con = list(set(lista_con))\n",
        "print(lista_con)"
      ],
      "metadata": {
        "id": "SisBHfwu59ZN",
        "outputId": "68b465fc-8412-4ad9-e8ac-a43fe127907a",
        "colab": {
          "base_uri": "https://localhost:8080/"
        }
      },
      "execution_count": 19,
      "outputs": [
        {
          "output_type": "stream",
          "name": "stdout",
          "text": [
            "[100, 10, 23, 23, 15, 32, 45, 10, 100, 23]\n",
            "{32, 100, 10, 45, 15, 23}\n",
            "[32, 100, 10, 45, 15, 23]\n",
            "[32, 100, 10, 45, 15, 23]\n"
          ]
        }
      ]
    }
  ],
  "metadata": {
    "kernelspec": {
      "display_name": "Python 3 (ipykernel)",
      "language": "python",
      "name": "python3"
    },
    "language_info": {
      "codemirror_mode": {
        "name": "ipython",
        "version": 3
      },
      "file_extension": ".py",
      "mimetype": "text/x-python",
      "name": "python",
      "nbconvert_exporter": "python",
      "pygments_lexer": "ipython3",
      "version": "3.9.7"
    },
    "colab": {
      "provenance": []
    }
  },
  "nbformat": 4,
  "nbformat_minor": 0
}