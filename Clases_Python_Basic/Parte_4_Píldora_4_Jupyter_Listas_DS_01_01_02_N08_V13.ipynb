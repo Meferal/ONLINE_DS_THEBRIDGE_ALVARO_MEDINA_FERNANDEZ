{
  "cells": [
    {
      "cell_type": "markdown",
      "metadata": {
        "id": "view-in-github",
        "colab_type": "text"
      },
      "source": [
        "<a href=\"https://colab.research.google.com/github/Meferal/ONLINE_DS_THEBRIDGE_ALVARO_MEDINA_FERNANDEZ/blob/main/Parte_4_P%C3%ADldora_4_Jupyter_Listas_DS_01_01_02_N08_V13.ipynb\" target=\"_parent\"><img src=\"https://colab.research.google.com/assets/colab-badge.svg\" alt=\"Open In Colab\"/></a>"
      ]
    },
    {
      "cell_type": "markdown",
      "metadata": {
        "id": "PRx00qLK_BAu"
      },
      "source": [
        "<img src = \"./img/TheBridge_logo_RGB_color.jpg\" width = 500><img src = \"./img/python.jpg\" width = 500>"
      ]
    },
    {
      "cell_type": "markdown",
      "metadata": {
        "id": "UQGVTOOL_BAy"
      },
      "source": [
        "# Python Basics I"
      ]
    },
    {
      "cell_type": "markdown",
      "metadata": {
        "id": "CiY3F3Vx_BAy"
      },
      "source": [
        "## Contenidos"
      ]
    },
    {
      "cell_type": "markdown",
      "metadata": {
        "id": "BrDjWbh7_BAz"
      },
      "source": [
        "* [Listas\n",
        "](#Listas\n",
        ")\n"
      ]
    },
    {
      "cell_type": "markdown",
      "metadata": {
        "id": "AAy2F27a_BAz"
      },
      "source": [
        "## Listas\n",
        "[al indice](#Contenidos)  \n",
        "Se trata de otro de los tipos de datos de Python más usados. Dentro de las colecciones, que veremos más adelante, la lista es la colección que normalmente se le da más uso. **Nos permiten almacenar conjuntos de variables u objetos**, y son elementos de lo más versátiles puesto que podemos almacenar objetos de distintos tipos, modificarlos, eliminarlos, meter listas dentro de listas... Sus dos caractrísticas principales son:\n",
        "* **Mutables**: una vez se ha creado la lista, se puede modificar\n",
        "* **Ordenada**: Los elementos tienen un cierto orden, lo que nos permite acceder al elemento que queramos teniendo en cuenta tal orden\n",
        "\n",
        "En cuanto a su sintaxis, cuando declaremos la lista simplemente hay que separar cada elemento con comas, y rodearlo todo con corchetes."
      ]
    },
    {
      "cell_type": "code",
      "execution_count": 1,
      "metadata": {
        "id": "UCrd0oLs_BA1",
        "outputId": "1a035352-4e28-44f7-81eb-21e37dd98615",
        "colab": {
          "base_uri": "https://localhost:8080/"
        }
      },
      "outputs": [
        {
          "output_type": "stream",
          "name": "stdout",
          "text": [
            "[1, 3, 5, 6]\n",
            "<class 'list'>\n"
          ]
        }
      ],
      "source": [
        "# Lista de números\n",
        "numeros = [1, 3, 5, 6]\n",
        "print(numeros)\n",
        "print(type(numeros))"
      ]
    },
    {
      "cell_type": "code",
      "execution_count": 3,
      "metadata": {
        "id": "a9xtGcvx_BA2",
        "outputId": "996375b8-4b08-42ac-b042-833421313bd6",
        "colab": {
          "base_uri": "https://localhost:8080/"
        }
      },
      "outputs": [
        {
          "output_type": "stream",
          "name": "stdout",
          "text": [
            "['Esto', 'es', 'una', 'lista', 'de', 'strings']\n",
            "<class 'list'>\n",
            "[True, False, True, True, False]\n",
            "<class 'list'>\n"
          ]
        }
      ],
      "source": [
        "# Lista de Strings\n",
        "strings = [\"Esto\", \"es\", \"una\", \"lista\", \"de\", \"strings\"]\n",
        "print(strings)\n",
        "print(type(strings))\n",
        "\n",
        "# Lista de Booleanos\n",
        "booleanos = [True, False, not False, True or False, False and False]\n",
        "print(booleanos)\n",
        "print(type(booleanos))"
      ]
    },
    {
      "cell_type": "code",
      "source": [
        "# Lista de tipos mezclados\n",
        "mix = [\"Esto es\", 12, -3.5, True, False, \"Lista\"]\n",
        "print(mix)\n",
        "print(type(mix))\n",
        "\n",
        "# Listas dentro de listas\n",
        "listas = [\"Gola\", 12, 23, [23, True, False]]\n",
        "print(listas)\n",
        "print(type(listas))"
      ],
      "metadata": {
        "id": "u15XBYSM_3bI",
        "outputId": "a9100042-0353-4c8a-a126-159c88ff614d",
        "colab": {
          "base_uri": "https://localhost:8080/"
        }
      },
      "execution_count": 5,
      "outputs": [
        {
          "output_type": "stream",
          "name": "stdout",
          "text": [
            "['Esto es', 12, -3.5, True, False, 'Lista']\n",
            "<class 'list'>\n",
            "['Gola', 12, 23, [23, True, False]]\n",
            "<class 'list'>\n"
          ]
        }
      ]
    },
    {
      "cell_type": "code",
      "source": [
        "len(listas)"
      ],
      "metadata": {
        "id": "ww07ECR9AQLP",
        "outputId": "2dc14e48-9bd4-419b-c935-e46a6a5e97f1",
        "colab": {
          "base_uri": "https://localhost:8080/"
        }
      },
      "execution_count": 6,
      "outputs": [
        {
          "output_type": "execute_result",
          "data": {
            "text/plain": [
              "4"
            ]
          },
          "metadata": {},
          "execution_count": 6
        }
      ]
    },
    {
      "cell_type": "code",
      "source": [
        "len(mix)"
      ],
      "metadata": {
        "id": "KNnPOwE9AV7Q",
        "outputId": "5d921e81-ba6d-48ab-bb1c-137012b41e58",
        "colab": {
          "base_uri": "https://localhost:8080/"
        }
      },
      "execution_count": 7,
      "outputs": [
        {
          "output_type": "execute_result",
          "data": {
            "text/plain": [
              "6"
            ]
          },
          "metadata": {},
          "execution_count": 7
        }
      ]
    },
    {
      "cell_type": "code",
      "source": [
        "concatenacion = mix + listas\n",
        "print(concatenacion)\n",
        "print(type(concatenacion))"
      ],
      "metadata": {
        "id": "BxOTXe04Adix",
        "outputId": "8de2a715-0de3-4466-d430-bdec13bb85e3",
        "colab": {
          "base_uri": "https://localhost:8080/"
        }
      },
      "execution_count": 9,
      "outputs": [
        {
          "output_type": "stream",
          "name": "stdout",
          "text": [
            "['Esto es', 12, -3.5, True, False, 'Lista', 'Gola', 12, 23, [23, True, False]]\n",
            "<class 'list'>\n"
          ]
        }
      ]
    },
    {
      "cell_type": "code",
      "source": [
        "cancatenacion_2 = listas + mix\n",
        "print(cancatenacion_2)\n",
        "print(type(cancatenacion_2))"
      ],
      "metadata": {
        "id": "TAzdV0M6ApiD",
        "outputId": "7a9560c9-d767-4a55-87cc-c5227f98a7d4",
        "colab": {
          "base_uri": "https://localhost:8080/"
        }
      },
      "execution_count": 12,
      "outputs": [
        {
          "output_type": "stream",
          "name": "stdout",
          "text": [
            "['Gola', 12, 23, [23, True, False], 'Esto es', 12, -3.5, True, False, 'Lista']\n",
            "<class 'list'>\n"
          ]
        }
      ]
    },
    {
      "cell_type": "markdown",
      "metadata": {
        "id": "dVx_vsN0_BA2"
      },
      "source": [
        "**NOTA**: ¿Ves por qué los decimales en Python siempre van con puntos y no con comas? Con las colecciones el intérprete de Python se volvería loco.\n",
        "\n",
        "Podemos ver tambien el tipo de la lista"
      ]
    },
    {
      "cell_type": "code",
      "execution_count": 13,
      "metadata": {
        "id": "6DO-Uxvv_BA3",
        "outputId": "efe50a79-d8d5-48e5-abe4-d1776d429695",
        "colab": {
          "base_uri": "https://localhost:8080/"
        }
      },
      "outputs": [
        {
          "output_type": "execute_result",
          "data": {
            "text/plain": [
              "list"
            ]
          },
          "metadata": {},
          "execution_count": 13
        }
      ],
      "source": [
        "type(mix)"
      ]
    },
    {
      "cell_type": "markdown",
      "metadata": {
        "id": "GMEjgp9p_BA3"
      },
      "source": [
        "Calcular la longitud de la misma mediante el método *built-in* ya visto: `len()`"
      ]
    },
    {
      "cell_type": "code",
      "execution_count": 14,
      "metadata": {
        "id": "n-FmPBgg_BA4",
        "outputId": "c1390858-02eb-4f18-b4fc-f0ebcd294acc",
        "colab": {
          "base_uri": "https://localhost:8080/"
        }
      },
      "outputs": [
        {
          "output_type": "execute_result",
          "data": {
            "text/plain": [
              "6"
            ]
          },
          "metadata": {},
          "execution_count": 14
        }
      ],
      "source": [
        "len(mix)"
      ]
    },
    {
      "cell_type": "markdown",
      "metadata": {
        "id": "lEO0xxo5_BA4"
      },
      "source": [
        "Accedemos a los elemenos de la lista mediante corchetes `[]`\n",
        "\n",
        "**Importante**. El primer elemento es el 0"
      ]
    },
    {
      "cell_type": "code",
      "execution_count": 18,
      "metadata": {
        "id": "lc1GEBON_BA4",
        "outputId": "b247d5e9-6249-4eb8-bcc4-27e59a2f33c3",
        "colab": {
          "base_uri": "https://localhost:8080/"
        }
      },
      "outputs": [
        {
          "output_type": "stream",
          "name": "stdout",
          "text": [
            "Esto\n",
            "Nuevo elemento\n",
            "Patata\n",
            "['Esto', 2, 3, 'Patata', 'Nuevo elemento']\n"
          ]
        }
      ],
      "source": [
        "lista_ejemplo = [\"Esto\", 2, 3, \"Patata\", \"Nuevo elemento\"]\n",
        "print(lista_ejemplo[0])\n",
        "print(lista_ejemplo[-1])\n",
        "print(lista_ejemplo[-2])\n",
        "print(lista_ejemplo)"
      ]
    },
    {
      "cell_type": "markdown",
      "metadata": {
        "id": "BmVYOH6L_BA4"
      },
      "source": [
        "### Metodos en Listas\n",
        "Para el tipo de objeto lista, también hay una serie de métodos catacterísticos que nos permiten operar con ellas: añadir valores, quitarlos, indexado, filtrado, etc... En [este enlace](https://www.w3schools.com/python/python_ref_list.asp) puedes encontrar todos los métodos que podrás usar con listas."
      ]
    },
    {
      "cell_type": "code",
      "execution_count": 25,
      "metadata": {
        "id": "ym_5-Jfk_BA4",
        "outputId": "ef81578c-95cc-4d25-b89b-9fbfa5406a62",
        "colab": {
          "base_uri": "https://localhost:8080/"
        }
      },
      "outputs": [
        {
          "output_type": "stream",
          "name": "stdout",
          "text": [
            "['Fisica', 'Química', 'Matemáticas', 'Literatura', 'Filosofía']\n",
            "['Fisica', 'Educación Física', 'Química', 'Matemáticas', 'Literatura', 'Filosofía']\n",
            "['Fisica', 'Química', 'Matemáticas', 'Literatura', 'Filosofía']\n",
            "['Fisica', 'Química', 'Matemáticas', 'Literatura']\n",
            "['Fisica', 'Literatura', 'Matemáticas', 'Química']\n"
          ]
        }
      ],
      "source": [
        "asignaturas = [\"Fisica\", \"Química\", \"Matemáticas\", \"Literatura\"]\n",
        "\n",
        "# Añadir un elemento al final de una lista\n",
        "asignaturas.append(\"Filosofía\")\n",
        "print(asignaturas)\n",
        "\n",
        "# Añadir elementos en una posición determinada\n",
        "asignaturas.insert(1, \"Educación Física\")\n",
        "print(asignaturas)\n",
        "\n",
        "# Quitar elementos\n",
        "'''\n",
        "asignaturas.clear()\n",
        "print(asignaturas)\n",
        "'''\n",
        "\n",
        "# Quitar un elemento a partir de su índice o posición\n",
        "asignaturas.pop(1) # Si no se indica el índice borra el último elemento de la lista\n",
        "print(asignaturas)\n",
        "\n",
        "# asignaturas.pop(123)  Da error al estar fuera de rango\n",
        "\n",
        "# Quitar un elemento por su \"valor\"\n",
        "asignaturas.remove(\"Filosofía\")\n",
        "print(asignaturas)\n",
        "\n",
        "# asignaturas.remove(\"Cine\")  Da error al no existir\n",
        "\n",
        "# Ordenar la lista\n",
        "asignaturas.sort()\n",
        "print(asignaturas)"
      ]
    },
    {
      "cell_type": "code",
      "execution_count": null,
      "metadata": {
        "id": "YHTGP9BF_BA5"
      },
      "outputs": [],
      "source": []
    },
    {
      "cell_type": "code",
      "execution_count": null,
      "metadata": {
        "id": "7KQOfMkn_BA5"
      },
      "outputs": [],
      "source": []
    }
  ],
  "nbformat": 4,
  "nbformat_minor": 0,
  "metadata": {
    "kernelspec": {
      "display_name": "Python 3",
      "language": "python",
      "name": "python3"
    },
    "language_info": {
      "codemirror_mode": {
        "name": "ipython",
        "version": 3
      },
      "file_extension": ".py",
      "mimetype": "text/x-python",
      "name": "python",
      "nbconvert_exporter": "python",
      "pygments_lexer": "ipython3",
      "version": "3.8.3"
    },
    "colab": {
      "provenance": [],
      "include_colab_link": true
    }
  }
}