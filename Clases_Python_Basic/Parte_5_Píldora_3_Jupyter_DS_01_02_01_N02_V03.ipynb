{
  "cells": [
    {
      "cell_type": "markdown",
      "metadata": {
        "id": "cS_BQp6t3dai"
      },
      "source": [
        "![TheBridge_Python_v0.png](attachment:TheBridge_Python_v0.png)"
      ]
    },
    {
      "cell_type": "markdown",
      "metadata": {
        "id": "3pOQxaYo3daq"
      },
      "source": [
        "##  Colecciones Python: Tuplas\n"
      ]
    },
    {
      "cell_type": "markdown",
      "metadata": {
        "id": "hG9ADpj63das"
      },
      "source": [
        "### Contenidos\n"
      ]
    },
    {
      "cell_type": "markdown",
      "metadata": {
        "id": "6Oe4R4NQ3dat"
      },
      "source": [
        "* [Introducción](#Introducción)\n",
        "\n",
        "* [Listas y tuplas](#Listas-y-tuplas)\n",
        "\n"
      ]
    },
    {
      "cell_type": "markdown",
      "metadata": {
        "id": "Hw6QXsNa3dau"
      },
      "source": [
        "### Introducción\n",
        "[al indice](#Contenidos)  \n",
        "\n",
        "Muy similares a las listas. Si en Notebooks anteriores definíamos a las listas como ordenadas y mutables, las tuplas son ordenadas e inmutables.\n",
        "\n",
        "* **Inmutables**: una vez creada la tupla con sus elementos iniciales, no se puede modificar\n",
        "* **Ordenadas**: podemos acceder a sus elementos a través del indice y reordenar la tupla según queramos\n",
        "\n",
        "Las tuplas se suelen usar para pequeñas colecciones de datos que no van a cambiar a lo largo del programa, como es el caso de las constantes.\n",
        "\n",
        "Si las listas se construían mediante corchetes `[]`, las tuplas lo hacen con los paréntesis `()`"
      ]
    },
    {
      "cell_type": "code",
      "execution_count": 1,
      "metadata": {
        "id": "E_BM0-m53daz",
        "outputId": "5561402e-0f33-4a11-ccfa-c1c310b3676d",
        "colab": {
          "base_uri": "https://localhost:8080/"
        }
      },
      "outputs": [
        {
          "output_type": "stream",
          "name": "stdout",
          "text": [
            "(3, 'texto')\n",
            "<class 'tuple'>\n"
          ]
        }
      ],
      "source": [
        "tupla_ejemplo = (3, \"texto\")\n",
        "print(tupla_ejemplo)\n",
        "print(type(tupla_ejemplo))"
      ]
    },
    {
      "cell_type": "code",
      "source": [
        "print(\"El primer elemento es\", tupla_ejemplo[0])\n",
        "print(\"El segundo elemento es\", tupla_ejemplo[1])"
      ],
      "metadata": {
        "id": "Ng1sQDQ2PJli",
        "outputId": "cd11d80f-b1a6-4dd8-d80e-8d905efd2dee",
        "colab": {
          "base_uri": "https://localhost:8080/"
        }
      },
      "execution_count": 3,
      "outputs": [
        {
          "output_type": "stream",
          "name": "stdout",
          "text": [
            "El primer elemento es 3\n",
            "El segundo elemento es texto\n"
          ]
        }
      ]
    },
    {
      "cell_type": "markdown",
      "metadata": {
        "id": "TCGdXH6l3da1"
      },
      "source": [
        "Los paréntesis ya se usan para reordenar operaciones `5 * (3 + 4)`, por lo que hay que añadir una coma cuando definamos una tupla con un único elemento, sino Python lo interpretará como un número."
      ]
    },
    {
      "cell_type": "code",
      "execution_count": 5,
      "metadata": {
        "id": "fFXFvVta3da3",
        "outputId": "fc35cac2-46d2-46bc-a293-d841b3fba4de",
        "colab": {
          "base_uri": "https://localhost:8080/"
        }
      },
      "outputs": [
        {
          "output_type": "stream",
          "name": "stdout",
          "text": [
            "<class 'int'> 24\n",
            "<class 'tuple'> (24,)\n"
          ]
        }
      ],
      "source": [
        "mala_tupla = (24)\n",
        "print(type(mala_tupla), mala_tupla)\n",
        "\n",
        "buena_tupla = (24,)\n",
        "print(type(buena_tupla), buena_tupla)"
      ]
    },
    {
      "cell_type": "code",
      "execution_count": 7,
      "metadata": {
        "id": "0bA-INwV3da4",
        "outputId": "1b8d84cf-d102-4249-a031-ac9f7c5bd1ee",
        "colab": {
          "base_uri": "https://localhost:8080/"
        }
      },
      "outputs": [
        {
          "output_type": "stream",
          "name": "stdout",
          "text": [
            "(1, 2, 3, ('A', 'B ', 'C'))\n",
            "4\n"
          ]
        }
      ],
      "source": [
        "# Anidación tupla\n",
        "tupla_anid = (1, 2, 3, (\"A\", \"B \", \"C\"))\n",
        "print(tupla_anid)\n",
        "print(len(tupla_anid))"
      ]
    },
    {
      "cell_type": "code",
      "source": [
        "print(tupla_anid[2])\n",
        "print(tupla_anid[3][1])"
      ],
      "metadata": {
        "id": "Kjk4PmgJPwFb",
        "outputId": "d870de2a-bae4-4825-89dd-4532078d5b0a",
        "colab": {
          "base_uri": "https://localhost:8080/"
        }
      },
      "execution_count": 8,
      "outputs": [
        {
          "output_type": "stream",
          "name": "stdout",
          "text": [
            "3\n",
            "B \n"
          ]
        }
      ]
    },
    {
      "cell_type": "code",
      "source": [
        "# Son iterables\n",
        "for i in tupla_anid:\n",
        "    print(i)"
      ],
      "metadata": {
        "id": "sF95Mx6QQLg4",
        "outputId": "bd424613-03c2-41e4-f97a-1988e742eb6e",
        "colab": {
          "base_uri": "https://localhost:8080/"
        }
      },
      "execution_count": 9,
      "outputs": [
        {
          "output_type": "stream",
          "name": "stdout",
          "text": [
            "1\n",
            "2\n",
            "3\n",
            "('A', 'B ', 'C')\n"
          ]
        }
      ]
    },
    {
      "cell_type": "code",
      "source": [
        "# Slicing\n",
        "print(tupla_anid[2:])"
      ],
      "metadata": {
        "id": "mRhxO7oUQR63",
        "outputId": "5a954af6-b1ed-4173-94cc-096218f6f608",
        "colab": {
          "base_uri": "https://localhost:8080/"
        }
      },
      "execution_count": 10,
      "outputs": [
        {
          "output_type": "stream",
          "name": "stdout",
          "text": [
            "(3, ('A', 'B ', 'C'))\n"
          ]
        }
      ]
    },
    {
      "cell_type": "markdown",
      "metadata": {
        "id": "obAVMaEU3da5"
      },
      "source": [
        "<table align=\"left\">\n",
        " <tr>\n",
        "     <td style=\"text-align:left\">\n",
        "         <h3>ERRORES tuplas</h3>\n",
        "         \n",
        " </td></tr>\n",
        "</table>"
      ]
    },
    {
      "cell_type": "markdown",
      "metadata": {
        "id": "aMqI0vtL3da6"
      },
      "source": [
        "Cuidado que las tuplas son inmutables, y una vez creadas no las podrás modificar después"
      ]
    },
    {
      "cell_type": "code",
      "execution_count": 11,
      "metadata": {
        "id": "qQbH06HV3da6",
        "outputId": "40ac26be-86aa-48bc-ec84-d7a05a9b6ba3",
        "colab": {
          "base_uri": "https://localhost:8080/",
          "height": 158
        }
      },
      "outputs": [
        {
          "output_type": "error",
          "ename": "TypeError",
          "evalue": "'tuple' object does not support item assignment",
          "traceback": [
            "\u001b[0;31m---------------------------------------------------------------------------\u001b[0m",
            "\u001b[0;31mTypeError\u001b[0m                                 Traceback (most recent call last)",
            "\u001b[0;32m/tmp/ipython-input-2003993860.py\u001b[0m in \u001b[0;36m<cell line: 0>\u001b[0;34m()\u001b[0m\n\u001b[1;32m      1\u001b[0m \u001b[0mtupla_error\u001b[0m \u001b[0;34m=\u001b[0m \u001b[0;34m(\u001b[0m\u001b[0;36m1\u001b[0m\u001b[0;34m,\u001b[0m \u001b[0;36m2\u001b[0m\u001b[0;34m,\u001b[0m \u001b[0;36m3\u001b[0m\u001b[0;34m,\u001b[0m \u001b[0;36m4\u001b[0m\u001b[0;34m,\u001b[0m \u001b[0;36m5\u001b[0m\u001b[0;34m)\u001b[0m\u001b[0;34m\u001b[0m\u001b[0;34m\u001b[0m\u001b[0m\n\u001b[0;32m----> 2\u001b[0;31m \u001b[0mtupla_error\u001b[0m\u001b[0;34m[\u001b[0m\u001b[0;36m3\u001b[0m\u001b[0;34m]\u001b[0m \u001b[0;34m=\u001b[0m \u001b[0;36m23\u001b[0m\u001b[0;34m\u001b[0m\u001b[0;34m\u001b[0m\u001b[0m\n\u001b[0m",
            "\u001b[0;31mTypeError\u001b[0m: 'tuple' object does not support item assignment"
          ]
        }
      ],
      "source": [
        "tupla_error = (1, 2, 3, 4, 5)\n",
        "tupla_error[3] = 23"
      ]
    },
    {
      "cell_type": "code",
      "execution_count": 14,
      "metadata": {
        "id": "LvV02JlL3da7",
        "outputId": "807b5cd0-91b7-40ae-f06a-3d703fbb6671",
        "colab": {
          "base_uri": "https://localhost:8080/"
        }
      },
      "outputs": [
        {
          "output_type": "stream",
          "name": "stdout",
          "text": [
            "(1, 2, 3, 4, 5, 6)\n",
            "(1, 2, 3, 4, 5, 6)\n",
            "(1, 2, 3, 4, 5, 6)\n"
          ]
        }
      ],
      "source": [
        "# Si queremos añadir elementos, podemos meterlos en otra tupla y sumarlas para que se concatenen\n",
        "tupla_1 = (1, 2, 3)\n",
        "tupla_2 = (4, 5, 6)\n",
        "print(tupla_1 + tupla_2)\n",
        "tupla_3 = tupla_1 + tupla_2\n",
        "tupla_1 = tupla_1 + tupla_2\n",
        "print(tupla_3)\n",
        "print(tupla_1)"
      ]
    },
    {
      "cell_type": "markdown",
      "metadata": {
        "id": "88a3TcbQ3da9"
      },
      "source": [
        "### Listas y tuplas\n",
        "[al indice](#Contenidos)  \n",
        "\n",
        "Podemos combinar listas y tuplas que no tendremos ningún problema, siempre y cuando respetemos las propiedades de cada tipo de dato."
      ]
    },
    {
      "cell_type": "code",
      "execution_count": 16,
      "metadata": {
        "id": "-yvJZeba3da-",
        "outputId": "677bcdbf-cc7b-4d05-e7ba-575d5afac216",
        "colab": {
          "base_uri": "https://localhost:8080/"
        }
      },
      "outputs": [
        {
          "output_type": "stream",
          "name": "stdout",
          "text": [
            "['Fresas', 'Naranjas', 'Limones', 'Kiwis'] <class 'list'>\n",
            "('Fresas', 'Naranjas', 'Limones', 'Kiwis') <class 'tuple'>\n"
          ]
        }
      ],
      "source": [
        "lista_ejemplo = [\"Fresas\", \"Naranjas\", \"Limones\", \"Kiwis\"]\n",
        "tupla_ejemplo = (\"Fresas\", \"Naranjas\", \"Limones\", \"Kiwis\")\n",
        "print(lista_ejemplo, type(lista_ejemplo))\n",
        "print(tupla_ejemplo, type(tupla_ejemplo))"
      ]
    },
    {
      "cell_type": "code",
      "execution_count": null,
      "metadata": {
        "id": "l7weZICU3da_"
      },
      "outputs": [],
      "source": []
    }
  ],
  "metadata": {
    "kernelspec": {
      "display_name": "Python 3 (ipykernel)",
      "language": "python",
      "name": "python3"
    },
    "language_info": {
      "codemirror_mode": {
        "name": "ipython",
        "version": 3
      },
      "file_extension": ".py",
      "mimetype": "text/x-python",
      "name": "python",
      "nbconvert_exporter": "python",
      "pygments_lexer": "ipython3",
      "version": "3.9.7"
    },
    "colab": {
      "provenance": []
    }
  },
  "nbformat": 4,
  "nbformat_minor": 0
}