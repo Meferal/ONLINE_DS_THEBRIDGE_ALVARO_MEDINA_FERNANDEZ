{
  "cells": [
    {
      "cell_type": "markdown",
      "metadata": {
        "id": "6-WPCk5nQJS_"
      },
      "source": [
        "![TheBridge_Python_v0.png](attachment:TheBridge_Python_v0.png)"
      ]
    },
    {
      "cell_type": "markdown",
      "metadata": {
        "id": "z3GsAUkpQJTA"
      },
      "source": [
        "##  Funciones de usuario I   \n"
      ]
    },
    {
      "cell_type": "markdown",
      "metadata": {
        "id": "botTSp2OQJTA"
      },
      "source": [
        "### Contenidos\n"
      ]
    },
    {
      "cell_type": "markdown",
      "metadata": {
        "id": "1xRycNKcQJTB"
      },
      "source": [
        "* [Introducción  ](#Introducción--)\n",
        "\n",
        "* [Ejemplos](#Ejemplos)\n",
        "\n"
      ]
    },
    {
      "cell_type": "markdown",
      "metadata": {
        "id": "QR_jgNUrQJTB"
      },
      "source": [
        "### Introducción  \n",
        "[al indice](#Contenidos)  \n",
        "\n",
        "\n",
        "En este notebook tienes la primera parte de una guía para orientarte en el uso de funciones en Python... pero antes de seguir con todo el \"rollo...\"\n",
        "\n",
        "\n"
      ]
    },
    {
      "cell_type": "markdown",
      "metadata": {
        "id": "-A_Jw48jQJTB"
      },
      "source": [
        "### Contenidos"
      ]
    },
    {
      "cell_type": "markdown",
      "metadata": {
        "id": "e-AOwrZxQJTB"
      },
      "source": [
        "\n",
        "### Definición y sintaxis\n",
        "\n",
        "Se trata de bloques de código que encapsulan una serie de operaciones. Se usan para modular nuestro código y evitar escribir código de más.  \n",
        "\n",
        "Mediante las **funciones** podemos encapsular código en formato entrada/salida. Por lo que si tienes un código repetitivo, que depende de ciertos inputs, las funciones pueden ser una buena solución.\n",
        "\n",
        "![funciones.png](./img/funciones.png)\n",
        "\n",
        "Es una manera de agrupar conjuntos de operaciones en módulos. **¿Cuándo usarlas?** Cuando tengamos varias operaciones que ejecutamos repetidamente en distintas partes del código. En ese caso, encapsulamos las operaciones en una función, y cada vez que haya que realizar tal operativa, llamamos a la función, y en una sola línea de código tenemos ejecutada esas operaciones.\n",
        "\n",
        "Hasta ahora hemos estado utilizando funciones *built-in*, para operaciones sencillas como `len()`, `sum()` o `max()`. En este Notebook aprenderas a crear tus propias funciones.\n",
        "\n",
        "La sintaxis es:\n",
        "> ```Python\n",
        "> def nombre_funcion(entrada):\n",
        ">    operaciones varias\n",
        ">    return output\n",
        "> ```\n",
        "\n",
        "Fíjate que sigue la **sintaxis de línea** vista en Notebooks anteriores (tabulación detrás de los dos puntos, por ejemplo).  \n",
        "\n",
        "Además, todo lo que va después del `return` es ignorado, puesto que es la salida. En el `return` acaba la función. Ahora bien, eso no quiere decir que haya un único return. Si introducimos una sentencia `if/else`, podremos poner returns diferentes dependiendo de qué condición se cumpla."
      ]
    },
    {
      "cell_type": "markdown",
      "metadata": {
        "id": "LUTte3Z3QJTB"
      },
      "source": [
        "### Ejemplos\n",
        "[al indice](#Contenidos)  \n",
        "\n",
        "\n",
        "Vamos a crear nuestra primera función"
      ]
    },
    {
      "cell_type": "code",
      "execution_count": 6,
      "metadata": {
        "id": "yG2RIJevQJTC"
      },
      "outputs": [],
      "source": [
        "# Vamos a crear un conversor de km a millas\n",
        "\n",
        "def conversor_km_millas(distancia):\n",
        "  millas = 0.62 * distancia\n",
        "  return round(millas,1)\n"
      ]
    },
    {
      "cell_type": "markdown",
      "metadata": {
        "id": "CzEDE0l-QJTC"
      },
      "source": [
        "Al ejecutar el código anterior, no corre nada, simplemente almacenamos en memoria la función para usarla posteriormente. **Ahora podremos llamar a la función tantas veces como queramos, desde cualquier parte del codigo.**"
      ]
    },
    {
      "cell_type": "code",
      "execution_count": 9,
      "metadata": {
        "id": "JbyMcvPoQJTD",
        "outputId": "a57e8151-170f-4db6-9e0a-dba86a5965cc",
        "colab": {
          "base_uri": "https://localhost:8080/"
        }
      },
      "outputs": [
        {
          "output_type": "stream",
          "name": "stdout",
          "text": [
            "1371.4\n"
          ]
        }
      ],
      "source": [
        "millas = conversor_km_millas(2212)\n",
        "print(millas)"
      ]
    },
    {
      "cell_type": "markdown",
      "metadata": {
        "id": "GXCKd3uOQJTD"
      },
      "source": [
        "Las funciones no tienen por qué llevar argumentos. Eso sí, **es obligatorio** poner los parentesis, tanto en la declaración, como luego al llamar la función."
      ]
    },
    {
      "cell_type": "code",
      "execution_count": 10,
      "metadata": {
        "id": "A-7KuaulQJTD"
      },
      "outputs": [],
      "source": [
        "from datetime import datetime\n",
        "\n",
        "def que_hora_es():\n",
        "  now = datetime.now().time()\n",
        "  return now\n"
      ]
    },
    {
      "cell_type": "code",
      "execution_count": 11,
      "metadata": {
        "id": "WhhKnCieQJTD",
        "outputId": "5dde6973-3a60-49d1-a6d5-a7f0e78fcade",
        "colab": {
          "base_uri": "https://localhost:8080/"
        }
      },
      "outputs": [
        {
          "output_type": "stream",
          "name": "stdout",
          "text": [
            "12:30:07.237529\n"
          ]
        }
      ],
      "source": [
        "print(que_hora_es())"
      ]
    },
    {
      "cell_type": "code",
      "source": [
        "def que_hora_es():\n",
        "  now = datetime.now().time()\n",
        "  print(now)\n",
        "\n",
        "que_hora_es()"
      ],
      "metadata": {
        "id": "Nm_7uyK0TolR",
        "outputId": "91d711e2-6b99-487c-bb06-83735c6a3593",
        "colab": {
          "base_uri": "https://localhost:8080/"
        }
      },
      "execution_count": 12,
      "outputs": [
        {
          "output_type": "stream",
          "name": "stdout",
          "text": [
            "12:31:04.304619\n"
          ]
        }
      ]
    }
  ],
  "metadata": {
    "kernelspec": {
      "display_name": "Python 3 (ipykernel)",
      "language": "python",
      "name": "python3"
    },
    "language_info": {
      "codemirror_mode": {
        "name": "ipython",
        "version": 3
      },
      "file_extension": ".py",
      "mimetype": "text/x-python",
      "name": "python",
      "nbconvert_exporter": "python",
      "pygments_lexer": "ipython3",
      "version": "3.9.7"
    },
    "colab": {
      "provenance": []
    }
  },
  "nbformat": 4,
  "nbformat_minor": 0
}