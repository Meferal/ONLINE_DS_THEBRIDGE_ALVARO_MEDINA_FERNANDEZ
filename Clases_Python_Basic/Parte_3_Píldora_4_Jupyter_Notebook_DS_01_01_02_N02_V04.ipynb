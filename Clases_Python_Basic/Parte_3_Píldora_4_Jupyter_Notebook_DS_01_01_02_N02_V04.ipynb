{
  "cells": [
    {
      "cell_type": "markdown",
      "metadata": {
        "id": "view-in-github",
        "colab_type": "text"
      },
      "source": [
        "<a href=\"https://colab.research.google.com/github/Meferal/ONLINE_DS_THEBRIDGE_ALVARO_MEDINA_FERNANDEZ/blob/main/Parte_3_P%C3%ADldora_4_Jupyter_Notebook_DS_01_01_02_N02_V04.ipynb\" target=\"_parent\"><img src=\"https://colab.research.google.com/assets/colab-badge.svg\" alt=\"Open In Colab\"/></a>"
      ]
    },
    {
      "cell_type": "markdown",
      "metadata": {
        "id": "0TWx1mQysz71"
      },
      "source": [
        "<img src=\"./img/TheBridge_logo_RGB_color.jpg\" width = 500>\n",
        "<img src=\"./img/python.jpg\" width = 500>"
      ]
    },
    {
      "cell_type": "markdown",
      "metadata": {
        "id": "SJZLx68ysz77"
      },
      "source": [
        "# Python Basics I: Print, Comentarios y otros aspectos básicos\n",
        "\n",
        "En este notebook vamos a profundizar un poquito más en el uso de la función print, además de ver cómo usar los comentarios, la importancia del flujo secuencial de ejecución de python y terminaremos con el uso del comando para liberar memoria, `del`."
      ]
    },
    {
      "cell_type": "markdown",
      "metadata": {
        "id": "yQBSE68Asz7_"
      },
      "source": [
        "## Contenidos"
      ]
    },
    {
      "cell_type": "markdown",
      "metadata": {
        "id": "Ri_YEvIFsz7_"
      },
      "source": [
        "* [Print](#Print)\n",
        "* [Comentarios\n",
        "](#Comentarios\n",
        ")\n",
        "* [Flujos de ejecución\n",
        "](#Flujos-de-ejecución\n",
        ")\n",
        "* [Del\n",
        "](#Del\n",
        ")\n"
      ]
    },
    {
      "cell_type": "markdown",
      "metadata": {
        "id": "Sq7AaR0Ksz8A"
      },
      "source": [
        "## Print[al indice](#Contenidos)\n"
      ]
    },
    {
      "cell_type": "markdown",
      "metadata": {
        "id": "VUDSdhRmsz8B"
      },
      "source": [
        "Hasta ahora hemos visto en Jupyter dos tipos de celdas:\n",
        "* **Markdown**: básicamente texto para las explicaciones\n",
        "* **Código**: donde insertamos el código Python y lo ejecutamos\n",
        "\n",
        "Las celdas de código, no solo corren el código y realizan todas las operaciones que le indiquemos, sino que también tienen un output, una salida de ese código. Tenemos dos opciones para ver el output del código, o bien mediante `print`, o poniendo una variable al final de la celda. En este último caso, veremos el valor de esa variable"
      ]
    },
    {
      "cell_type": "code",
      "execution_count": 2,
      "metadata": {
        "id": "bClFVzBrsz8F"
      },
      "outputs": [],
      "source": [
        "ingresos = 1000\n",
        "gastos = 100\n",
        "beneficios = ingresos - gastos"
      ]
    },
    {
      "cell_type": "code",
      "execution_count": 3,
      "metadata": {
        "id": "h0oHArOUsz8G",
        "colab": {
          "base_uri": "https://localhost:8080/"
        },
        "outputId": "184fd2d8-ad06-4583-a1a3-c80792ceb222"
      },
      "outputs": [
        {
          "output_type": "stream",
          "name": "stdout",
          "text": [
            "1000\n",
            "100\n",
            "Los beneficios han sido de:\n",
            "900\n"
          ]
        }
      ],
      "source": [
        "print(ingresos)\n",
        "print(gastos)\n",
        "print(\"Los beneficios han sido de:\")\n",
        "print(beneficios)"
      ]
    },
    {
      "cell_type": "markdown",
      "metadata": {
        "id": "Ztq4hPUGsz8H"
      },
      "source": [
        "Si hacemos un print de un texto, podemos concatenar valores de variables mediante `%s`."
      ]
    },
    {
      "cell_type": "code",
      "execution_count": 5,
      "metadata": {
        "id": "9HtC_3Jasz8I",
        "colab": {
          "base_uri": "https://localhost:8080/"
        },
        "outputId": "9ba4c78f-8433-4668-fc74-e550fa3393ef"
      },
      "outputs": [
        {
          "output_type": "stream",
          "name": "stdout",
          "text": [
            "Los beneficios de junio han sido 900 millones\n"
          ]
        }
      ],
      "source": [
        "mes = \"junio\"\n",
        "print(\"Los beneficios de %s han sido %s millones\" %(mes, beneficios))"
      ]
    },
    {
      "cell_type": "code",
      "source": [
        "print(\"Los beneficios de %s han sido de %s millones\" %(beneficios, mes))"
      ],
      "metadata": {
        "id": "V73kt2KMf7Ev",
        "outputId": "a10d74ec-23d6-4cfa-b080-5170681018e1",
        "colab": {
          "base_uri": "https://localhost:8080/"
        }
      },
      "execution_count": 6,
      "outputs": [
        {
          "output_type": "stream",
          "name": "stdout",
          "text": [
            "Los beneficios de 900 han sido de junio millones\n"
          ]
        }
      ]
    },
    {
      "cell_type": "markdown",
      "metadata": {
        "id": "W_OVzYZpsz8J"
      },
      "source": [
        "Otra opcion si queremos imprimir por pantalla varios strings, es separandolos por comas en el `print`. Fíjate que le añade espacios en la salida cada vez que ponemos un valor nuevo entre comas."
      ]
    },
    {
      "cell_type": "code",
      "execution_count": 8,
      "metadata": {
        "id": "e7GTTG7Asz8K",
        "colab": {
          "base_uri": "https://localhost:8080/"
        },
        "outputId": "b51ced3b-77a9-4e01-8e74-18772289623b"
      },
      "outputs": [
        {
          "output_type": "stream",
          "name": "stdout",
          "text": [
            "Los beneficios de agosto han sido de 900 millones\n"
          ]
        }
      ],
      "source": [
        "mes = \"agosto\"\n",
        "print(\"Los beneficios de\", mes, \"han sido de\", beneficios, \"millones\")"
      ]
    },
    {
      "cell_type": "markdown",
      "metadata": {
        "id": "vdj2DkwVsz8K"
      },
      "source": [
        "## Comentarios\n",
        "[al indice](#Contenidos)\n",
        "Se trata de texto que va junto con el código, y que el intérprete de Python ignora por completo. Muy útil para documentar y explicar el código"
      ]
    },
    {
      "cell_type": "code",
      "execution_count": 9,
      "metadata": {
        "id": "tNN4NXBosz8L",
        "colab": {
          "base_uri": "https://localhost:8080/"
        },
        "outputId": "2a2417fd-2590-4d7c-e4ea-566283dca749"
      },
      "outputs": [
        {
          "output_type": "stream",
          "name": "stdout",
          "text": [
            "Esto sí lo ejecutará\n"
          ]
        }
      ],
      "source": [
        "# Comentario de linea\n",
        "# print(\"Esto lo ignora\")\n",
        "\n",
        "print(\"Esto sí lo ejecutará\")"
      ]
    },
    {
      "cell_type": "code",
      "execution_count": 10,
      "metadata": {
        "id": "xAMl3XMZsz8L",
        "colab": {
          "base_uri": "https://localhost:8080/"
        },
        "outputId": "d595714f-1aa8-44fc-dbb7-ccfe788a3268"
      },
      "outputs": [
        {
          "output_type": "stream",
          "name": "stdout",
          "text": [
            "Fin del programa\n"
          ]
        }
      ],
      "source": [
        "print(\"Fin del programa\") # Esta línea indica que hemos terminado"
      ]
    },
    {
      "cell_type": "code",
      "execution_count": 11,
      "metadata": {
        "id": "kLfdySz4sz8M",
        "colab": {
          "base_uri": "https://localhost:8080/"
        },
        "outputId": "9eb703f1-b1f2-4378-c234-ba5cad3930e8"
      },
      "outputs": [
        {
          "output_type": "stream",
          "name": "stdout",
          "text": [
            "Este print si se va a ejecutar\n"
          ]
        }
      ],
      "source": [
        "'''\n",
        "Comentario multilinea\n",
        "Puedo usar varias líneas sin tener que repetir el #\n",
        "'''\n",
        "\n",
        "\"\"\"\n",
        "Los comentarios multilinea pueder ir\n",
        "entre comillas dobles, y tampoco se ejecutan o interpretan\n",
        "print(\"No se va a ejecutar\")\n",
        "\"\"\"\n",
        "\n",
        "print(\"Este print si se va a ejecutar\")"
      ]
    },
    {
      "cell_type": "code",
      "execution_count": null,
      "metadata": {
        "id": "mKjNNl9usz8M"
      },
      "outputs": [],
      "source": []
    },
    {
      "cell_type": "markdown",
      "metadata": {
        "id": "YjKKvIcvsz8N"
      },
      "source": [
        "**IMPORTATE**. SIEMPRE comentar el código. Nunca sabes quén lo puede heredar. Te dejo en [este link](https://realpython.com/python-comments-guide/) una guía interesante sobre cómo comentar tu código."
      ]
    },
    {
      "cell_type": "markdown",
      "metadata": {
        "id": "DvY8MqBFsz8P"
      },
      "source": [
        "## Flujos de ejecución\n",
        "[al indice](#Contenidos)\n",
        "Los programas de Python se ejecutan secuencialmente, por lo que el orden en el que escribas las operaciones es determinante"
      ]
    },
    {
      "cell_type": "code",
      "execution_count": 12,
      "metadata": {
        "id": "fQLF5Hi9sz8Q",
        "colab": {
          "base_uri": "https://localhost:8080/",
          "height": 176
        },
        "outputId": "b3c96abc-c9d8-4a9b-f389-1e2fcbfaf98b"
      },
      "outputs": [
        {
          "output_type": "error",
          "ename": "NameError",
          "evalue": "name 'ventas_junio' is not defined",
          "traceback": [
            "\u001b[0;31m---------------------------------------------------------------------------\u001b[0m",
            "\u001b[0;31mNameError\u001b[0m                                 Traceback (most recent call last)",
            "\u001b[0;32m/tmp/ipython-input-289381857.py\u001b[0m in \u001b[0;36m<cell line: 0>\u001b[0;34m()\u001b[0m\n\u001b[0;32m----> 1\u001b[0;31m \u001b[0mventas_jun_jul\u001b[0m \u001b[0;34m=\u001b[0m \u001b[0mventas_junio\u001b[0m \u001b[0;34m+\u001b[0m \u001b[0mventas_julio\u001b[0m\u001b[0;34m\u001b[0m\u001b[0;34m\u001b[0m\u001b[0m\n\u001b[0m\u001b[1;32m      2\u001b[0m \u001b[0mventas_junio\u001b[0m \u001b[0;34m=\u001b[0m \u001b[0;36m100\u001b[0m\u001b[0;34m\u001b[0m\u001b[0;34m\u001b[0m\u001b[0m\n\u001b[1;32m      3\u001b[0m \u001b[0mventas_julio\u001b[0m \u001b[0;34m=\u001b[0m \u001b[0;36m150\u001b[0m\u001b[0;34m\u001b[0m\u001b[0;34m\u001b[0m\u001b[0m\n",
            "\u001b[0;31mNameError\u001b[0m: name 'ventas_junio' is not defined"
          ]
        }
      ],
      "source": [
        "ventas_jun_jul = ventas_junio + ventas_julio\n",
        "ventas_junio = 100\n",
        "ventas_julio = 150"
      ]
    },
    {
      "cell_type": "code",
      "execution_count": 13,
      "metadata": {
        "id": "bHDb4Wu0sz8R",
        "colab": {
          "base_uri": "https://localhost:8080/",
          "height": 141
        },
        "outputId": "187880f4-2091-4a35-bf29-0f8492b65c72"
      },
      "outputs": [
        {
          "output_type": "error",
          "ename": "NameError",
          "evalue": "name 'ventas_junio' is not defined",
          "traceback": [
            "\u001b[0;31m---------------------------------------------------------------------------\u001b[0m",
            "\u001b[0;31mNameError\u001b[0m                                 Traceback (most recent call last)",
            "\u001b[0;32m/tmp/ipython-input-2668372943.py\u001b[0m in \u001b[0;36m<cell line: 0>\u001b[0;34m()\u001b[0m\n\u001b[0;32m----> 1\u001b[0;31m \u001b[0mventas_junio\u001b[0m\u001b[0;34m\u001b[0m\u001b[0;34m\u001b[0m\u001b[0m\n\u001b[0m",
            "\u001b[0;31mNameError\u001b[0m: name 'ventas_junio' is not defined"
          ]
        }
      ],
      "source": [
        "ventas_junio"
      ]
    },
    {
      "cell_type": "markdown",
      "metadata": {
        "id": "AQad9bd5sz8R"
      },
      "source": [
        "**Da error**, primero tenemos que declarar las ventas, y luego sumarlas.\n"
      ]
    },
    {
      "cell_type": "code",
      "execution_count": 14,
      "metadata": {
        "id": "8eK59bISsz8S"
      },
      "outputs": [],
      "source": [
        "ventas_junio = 100\n",
        "ventas_julio = 150\n",
        "ventas_jun_jul = ventas_junio + ventas_julio"
      ]
    },
    {
      "cell_type": "code",
      "source": [
        "print(\"Las ventas de junio a julio son %s\" %(ventas_jun_jul))"
      ],
      "metadata": {
        "id": "jJqos3uQ5Ml1",
        "outputId": "27fd25d0-3abc-4a84-f8b3-869edd2d4143",
        "colab": {
          "base_uri": "https://localhost:8080/"
        }
      },
      "execution_count": 15,
      "outputs": [
        {
          "output_type": "stream",
          "name": "stdout",
          "text": [
            "Las ventas de junio a julio son 250\n"
          ]
        }
      ]
    },
    {
      "cell_type": "markdown",
      "metadata": {
        "id": "RpiNY_DDsz8T"
      },
      "source": [
        "\n",
        "**¿Cuándo acaba una línea de código?**. El salto de línea lo interpreta Python como una nueva instrucción. En muchos lengujes, como Java hay que especificar el fin de la sentencia de código mediante `;`. En Python no es necesario, aunque se puede usar igualmente."
      ]
    },
    {
      "cell_type": "code",
      "execution_count": 17,
      "metadata": {
        "id": "1Y36Th3asz8U",
        "colab": {
          "base_uri": "https://localhost:8080/"
        },
        "outputId": "cc665ae2-a9b6-470a-a289-a70ef7a28a5d"
      },
      "outputs": [
        {
          "output_type": "stream",
          "name": "stdout",
          "text": [
            "1.8 75\n"
          ]
        }
      ],
      "source": [
        "altura = 1.80; peso = 75\n",
        "print(altura, peso)"
      ]
    },
    {
      "cell_type": "code",
      "execution_count": 18,
      "metadata": {
        "id": "DeNp6TuOsz8V",
        "colab": {
          "base_uri": "https://localhost:8080/"
        },
        "outputId": "1ad79371-33b8-4f35-91f3-43010aae9ea6"
      },
      "outputs": [
        {
          "output_type": "stream",
          "name": "stdout",
          "text": [
            "12 23 45\n"
          ]
        }
      ],
      "source": [
        "x,y,z = 12,23,45\n",
        "print(x,y,z)"
      ]
    },
    {
      "cell_type": "code",
      "source": [
        "x = 12\n",
        "y = 23\n",
        "z = 45\n",
        "print(x,y,z)"
      ],
      "metadata": {
        "id": "PFU32fEL5woI",
        "outputId": "214137fe-9868-434f-9cd9-50c7380dc45a",
        "colab": {
          "base_uri": "https://localhost:8080/"
        }
      },
      "execution_count": 19,
      "outputs": [
        {
          "output_type": "stream",
          "name": "stdout",
          "text": [
            "12 23 45\n"
          ]
        }
      ]
    },
    {
      "cell_type": "markdown",
      "metadata": {
        "id": "05D06kawsz8V"
      },
      "source": [
        "## Del\n",
        "[al indice](#Contenidos)\n",
        "Es la sentencia que usaremos para borrar una variable. La verdad, no se suelen borrar variables. Vamos desarrollando los programas de Python sin preocuparnos de limpiar aquellas variables que no usamos. Normalmente no borrarlas no suele ser un problema, pero cuando manejamos un gran volumen de datos, podemos sufrir problemas de rendimiento ya que **las variables ocupan memoria**.\n",
        "\n",
        "Cuando las variables son las que hemos visto hasta ahora, no pasa nada, pero si son más pesadas, como por ejemplo datasets de imágenes que ocupan mucho, sí va a venir bien eliminar aquellas que no usemos."
      ]
    },
    {
      "cell_type": "code",
      "execution_count": 20,
      "metadata": {
        "id": "iw3UNr4xsz8W",
        "colab": {
          "base_uri": "https://localhost:8080/",
          "height": 176
        },
        "outputId": "49755a5c-348d-4736-b7ca-8482802e5192"
      },
      "outputs": [
        {
          "output_type": "error",
          "ename": "NameError",
          "evalue": "name 'altura' is not defined",
          "traceback": [
            "\u001b[0;31m---------------------------------------------------------------------------\u001b[0m",
            "\u001b[0;31mNameError\u001b[0m                                 Traceback (most recent call last)",
            "\u001b[0;32m/tmp/ipython-input-459575436.py\u001b[0m in \u001b[0;36m<cell line: 0>\u001b[0;34m()\u001b[0m\n\u001b[1;32m      1\u001b[0m \u001b[0maltura\u001b[0m \u001b[0;34m=\u001b[0m \u001b[0;36m1.85\u001b[0m\u001b[0;34m\u001b[0m\u001b[0;34m\u001b[0m\u001b[0m\n\u001b[1;32m      2\u001b[0m \u001b[0;32mdel\u001b[0m \u001b[0maltura\u001b[0m\u001b[0;34m\u001b[0m\u001b[0;34m\u001b[0m\u001b[0m\n\u001b[0;32m----> 3\u001b[0;31m \u001b[0mprint\u001b[0m\u001b[0;34m(\u001b[0m\u001b[0maltura\u001b[0m\u001b[0;34m)\u001b[0m\u001b[0;34m\u001b[0m\u001b[0;34m\u001b[0m\u001b[0m\n\u001b[0m",
            "\u001b[0;31mNameError\u001b[0m: name 'altura' is not defined"
          ]
        }
      ],
      "source": [
        "altura = 1.85\n",
        "del altura\n",
        "print(altura)"
      ]
    },
    {
      "cell_type": "code",
      "execution_count": null,
      "metadata": {
        "id": "7GNp56rysz8Y"
      },
      "outputs": [],
      "source": []
    }
  ],
  "nbformat": 4,
  "nbformat_minor": 0,
  "metadata": {
    "kernelspec": {
      "display_name": "Python 3.7.4 64-bit",
      "language": "python",
      "name": "python3"
    },
    "language_info": {
      "codemirror_mode": {
        "name": "ipython",
        "version": 3
      },
      "file_extension": ".py",
      "mimetype": "text/x-python",
      "name": "python",
      "nbconvert_exporter": "python",
      "pygments_lexer": "ipython3",
      "version": "3.11.4"
    },
    "nbTranslate": {
      "displayLangs": [
        "*"
      ],
      "hotkey": "alt-t",
      "langInMainMenu": true,
      "sourceLang": "en",
      "targetLang": "fr",
      "useGoogleTranslate": true
    },
    "varInspector": {
      "cols": {
        "lenName": 16,
        "lenType": 16,
        "lenVar": 40
      },
      "kernels_config": {
        "python": {
          "delete_cmd_postfix": "",
          "delete_cmd_prefix": "del ",
          "library": "var_list.py",
          "varRefreshCmd": "print(var_dic_list())"
        },
        "r": {
          "delete_cmd_postfix": ") ",
          "delete_cmd_prefix": "rm(",
          "library": "var_list.r",
          "varRefreshCmd": "cat(var_dic_list()) "
        }
      },
      "types_to_exclude": [
        "module",
        "function",
        "builtin_function_or_method",
        "instance",
        "_Feature"
      ],
      "window_display": false
    },
    "colab": {
      "provenance": [],
      "include_colab_link": true
    }
  }
}