{
 "cells": [
  {
   "cell_type": "markdown",
   "id": "3f679194-2d28-4dd1-be76-b9a68a297e81",
   "metadata": {},
   "source": [
    "# Mis primeros pasos con Markdown...\n",
    "\n",
    "... son muy buenos"
   ]
  },
  {
   "cell_type": "markdown",
   "id": "d2c2b2a9-da24-49b7-90bd-6d8eca786723",
   "metadata": {},
   "source": [
    "# Cabecera 1\n",
    "## Cabecera 2\n",
    "### Cabecera 3\n",
    "#### Cabecera 4\n",
    "##### Cabecera 5\n",
    "###### Cabecera 6"
   ]
  },
  {
   "cell_type": "markdown",
   "id": "7148d321-b449-44c0-9245-0c0e39f84885",
   "metadata": {},
   "source": [
    "**Texto en negrita** \n",
    "\n",
    "*Texto en cursiva* \n",
    "\n",
    "***Texto en negrita y en cursiva*** \n",
    "\n",
    "** No cambia el formato**"
   ]
  },
  {
   "cell_type": "markdown",
   "id": "d3449990-cc59-4ed6-ad83-ec94190a015b",
   "metadata": {},
   "source": [
    ">Recuerda la importancia del conocimiento\n",
    ">>Así como de los atajos de teclado"
   ]
  }
 ],
 "metadata": {
  "kernelspec": {
   "display_name": "Python 3 (ipykernel)",
   "language": "python",
   "name": "python3"
  },
  "language_info": {
   "codemirror_mode": {
    "name": "ipython",
    "version": 3
   },
   "file_extension": ".py",
   "mimetype": "text/x-python",
   "name": "python",
   "nbconvert_exporter": "python",
   "pygments_lexer": "ipython3",
   "version": "3.10.11"
  }
 },
 "nbformat": 4,
 "nbformat_minor": 5
}
